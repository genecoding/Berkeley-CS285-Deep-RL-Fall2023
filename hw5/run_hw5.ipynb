{
 "cells": [
  {
   "cell_type": "markdown",
   "id": "c697a588-b6a4-4042-9e94-9d872a5f8e33",
   "metadata": {},
   "source": [
    "# Setup"
   ]
  },
  {
   "cell_type": "code",
   "execution_count": 1,
   "id": "f6fe5b99-68a7-4dd3-81ae-cb0a4c1d063b",
   "metadata": {},
   "outputs": [],
   "source": [
    "%load_ext autoreload\n",
    "%autoreload 2"
   ]
  },
  {
   "cell_type": "markdown",
   "id": "f26558fb-a7a0-4b97-aeaa-9a558ea996ad",
   "metadata": {},
   "source": [
    "# 3 Exploration"
   ]
  },
  {
   "cell_type": "markdown",
   "id": "b5c24812-cce8-45fe-bff0-7722a3236c08",
   "metadata": {},
   "source": [
    "## 3.1 Running a Random Policy"
   ]
  },
  {
   "cell_type": "markdown",
   "id": "70bc54cb-d84b-4f5d-af04-50b4a29286db",
   "metadata": {},
   "source": [
    "Just to get a sense for the three environments, implement get_action for the RandomAgent in random_agent.py. Run the random policy to generate random exploration in each of the three environments:"
   ]
  },
  {
   "cell_type": "code",
   "execution_count": 3,
   "id": "5ceb794f-0136-48b9-8b22-537e898781f5",
   "metadata": {
    "editable": true,
    "slideshow": {
     "slide_type": ""
    },
    "tags": []
   },
   "outputs": [
    {
     "name": "stdout",
     "output_type": "stream",
     "text": [
      "Namespace(config_file='experiments/exploration/pointmass_easy_random.yaml', eval_interval=10000, visualize_interval=1000, num_eval_trajectories=10, seed=1, no_gpu=False, which_gpu=0, log_interval=1, use_reward=False, dataset_dir='datasets/', env_name='', dataset_name='', total_steps=None, log_suffix='')\n",
      "random_agent_config{'exp_name': 'pointmass_easy_random', 'kwargs': {'dataset_name': 'pointmass_easy_random', 'total_steps': 10000}, 'log_string': 'PointmassEasy-v0_random', 'env_name': 'PointmassEasy-v0'}\n",
      "########################\n",
      "logging outputs to  C:\\Users\\user\\Colab\\Berkeley_DeepRL_Fall2023\\hw5\\cs285\\scripts\\../../data\\hw5_explore/PointmassEasy-v0_random\n",
      "########################\n",
      "\n",
      "======================================================================\n",
      "Exploration\n",
      "\n",
      "Generating the dataset for the PointmassEasy-v0 environment using algorithm random.\n",
      "The results will be stored in datasets/.\n",
      "======================================================================\n",
      "\n",
      "Using CPU.\n"
     ]
    },
    {
     "name": "stderr",
     "output_type": "stream",
     "text": [
      "100%|██████████████████████████████████████████████████████████████████████████| 10000/10000 [00:04<00:00, 2477.36it/s]\n"
     ]
    },
    {
     "name": "stdout",
     "output_type": "stream",
     "text": [
      "Saved dataset to datasets/pointmass_easy_random.pkl\n",
      "Saved final heatmap to exploration_visualization\\PointmassEasy-v0_random.png\n"
     ]
    }
   ],
   "source": [
    "%run cs285/scripts/run_hw5_explore.py \\\n",
    "    -cfg experiments/exploration/pointmass_easy_random.yaml \\\n",
    "    --dataset_dir datasets/"
   ]
  },
  {
   "cell_type": "code",
   "execution_count": 4,
   "id": "7f1d6cd8-2aa4-4e5b-b683-5254d2acf902",
   "metadata": {},
   "outputs": [
    {
     "name": "stdout",
     "output_type": "stream",
     "text": [
      "Namespace(config_file='experiments/exploration/pointmass_medium_random.yaml', eval_interval=10000, visualize_interval=1000, num_eval_trajectories=10, seed=1, no_gpu=False, which_gpu=0, log_interval=1, use_reward=False, dataset_dir='datasets/', env_name='', dataset_name='', total_steps=None, log_suffix='')\n",
      "random_agent_config{'exp_name': 'pointmass_medium_random', 'kwargs': {'dataset_name': 'pointmass_medium_random', 'total_steps': 10000}, 'log_string': 'PointmassMedium-v0_random', 'env_name': 'PointmassMedium-v0'}\n",
      "########################\n",
      "logging outputs to  C:\\Users\\user\\Colab\\Berkeley_DeepRL_Fall2023\\hw5\\cs285\\scripts\\../../data\\hw5_explore/PointmassMedium-v0_random\n",
      "########################\n",
      "\n",
      "======================================================================\n",
      "Exploration\n",
      "\n",
      "Generating the dataset for the PointmassMedium-v0 environment using algorithm random.\n",
      "The results will be stored in datasets/.\n",
      "======================================================================\n",
      "\n",
      "Using CPU.\n"
     ]
    },
    {
     "name": "stderr",
     "output_type": "stream",
     "text": [
      "100%|██████████████████████████████████████████████████████████████████████████| 10000/10000 [00:03<00:00, 2559.47it/s]\n"
     ]
    },
    {
     "name": "stdout",
     "output_type": "stream",
     "text": [
      "Saved dataset to datasets/pointmass_medium_random.pkl\n",
      "Saved final heatmap to exploration_visualization\\PointmassMedium-v0_random.png\n"
     ]
    }
   ],
   "source": [
    "%run cs285/scripts/run_hw5_explore.py \\\n",
    "    -cfg experiments/exploration/pointmass_medium_random.yaml \\\n",
    "    --dataset_dir datasets/"
   ]
  },
  {
   "cell_type": "code",
   "execution_count": 5,
   "id": "6b025eb2-398b-4c2e-8933-c104c7121610",
   "metadata": {},
   "outputs": [
    {
     "name": "stdout",
     "output_type": "stream",
     "text": [
      "Namespace(config_file='experiments/exploration/pointmass_hard_random.yaml', eval_interval=10000, visualize_interval=1000, num_eval_trajectories=10, seed=1, no_gpu=False, which_gpu=0, log_interval=1, use_reward=False, dataset_dir='datasets/', env_name='', dataset_name='', total_steps=None, log_suffix='')\n",
      "random_agent_config{'exp_name': 'pointmass_hard_random', 'kwargs': {'dataset_name': 'pointmass_hard_random', 'total_steps': 10000}, 'log_string': 'PointmassHard-v0_random', 'env_name': 'PointmassHard-v0'}\n",
      "########################\n",
      "logging outputs to  C:\\Users\\user\\Colab\\Berkeley_DeepRL_Fall2023\\hw5\\cs285\\scripts\\../../data\\hw5_explore/PointmassHard-v0_random\n",
      "########################\n",
      "\n",
      "======================================================================\n",
      "Exploration\n",
      "\n",
      "Generating the dataset for the PointmassHard-v0 environment using algorithm random.\n",
      "The results will be stored in datasets/.\n",
      "======================================================================\n",
      "\n",
      "Using CPU.\n"
     ]
    },
    {
     "name": "stderr",
     "output_type": "stream",
     "text": [
      "100%|██████████████████████████████████████████████████████████████████████████| 10000/10000 [00:04<00:00, 2403.72it/s]\n"
     ]
    },
    {
     "name": "stdout",
     "output_type": "stream",
     "text": [
      "Saved dataset to datasets/pointmass_hard_random.pkl\n",
      "Saved final heatmap to exploration_visualization\\PointmassHard-v0_random.png\n"
     ]
    }
   ],
   "source": [
    "%run cs285/scripts/run_hw5_explore.py \\\n",
    "    -cfg experiments/exploration/pointmass_hard_random.yaml \\\n",
    "    --dataset_dir datasets/"
   ]
  },
  {
   "cell_type": "markdown",
   "id": "bd697fee-50c1-4d53-83fd-4d899d752ae4",
   "metadata": {},
   "source": [
    "## 3.2 Random Network Distillation"
   ]
  },
  {
   "cell_type": "markdown",
   "id": "fbc96a1f-0ff0-4fcf-8b97-3ae35a8691bc",
   "metadata": {},
   "source": [
    "**What you will implement:** the RND algorithm for exploration. You will need to change cs285/agents/rnd_agent.py. In addition, you should also thoroughly read through the training scheme in run_hw5_explore.py. It’s very similar to the DQN training scheme you implemented in HW3."
   ]
  },
  {
   "cell_type": "code",
   "execution_count": 6,
   "id": "1efe6221-8362-460a-85b8-cbf88246a514",
   "metadata": {},
   "outputs": [
    {
     "name": "stdout",
     "output_type": "stream",
     "text": [
      "Namespace(config_file='experiments/exploration/pointmass_easy_rnd.yaml', eval_interval=10000, visualize_interval=1000, num_eval_trajectories=10, seed=1, no_gpu=False, which_gpu=0, log_interval=1, use_reward=False, dataset_dir='datasets/', env_name='', dataset_name='', total_steps=None, log_suffix='')\n",
      "dqn_config{'exp_name': 'pointmass_easy_rnd', 'total_steps': 10000, 'discount': 0.95, 'target_update_period': 300, 'clip_grad_norm': None, 'use_double_q': True, 'batch_size': 128, 'kwargs': {'dataset_name': 'pointmass_easy_rnd'}, 'exploration_schedule': <cs285.env_configs.schedule.ConstantSchedule object at 0x00000296C72AB340>, 'log_string': 'PointmassEasy-v0_dqn', 'env_name': 'PointmassEasy-v0', 'hidden_size': 64, 'learning_rate': 0.001, 'num_layers': 2}\n",
      "rnd_config{'rnd_weight': 1.0, 'total_steps': 10000, 'discount': 0.95, 'env_name': 'PointmassEasy-v0', 'exp_name': 'pointmass_easy_rnd', 'dataset_name': 'pointmass_easy_rnd', 'target_update_period': 300, 'clip_grad_norm': None, 'use_double_q': True, 'exploration_schedule': <cs285.env_configs.schedule.ConstantSchedule object at 0x00000296C72AB340>, 'log_name': 'PointmassEasy-v0_rnd1.0', 'batch_size': 128, 'agent': 'rnd', 'rnd_dim': 5, 'rnd_network_hidden_size': 400, 'rnd_network_learning_rate': 0.001, 'rnd_network_num_layers': 2}\n",
      "########################\n",
      "logging outputs to  C:\\Users\\user\\Colab\\Berkeley_DeepRL_Fall2023\\hw5\\cs285\\scripts\\../../data\\hw5_explore/PointmassEasy-v0_rnd1.0\n",
      "########################\n",
      "\n",
      "======================================================================\n",
      "Exploration\n",
      "\n",
      "Generating the dataset for the PointmassEasy-v0 environment using algorithm rnd.\n",
      "The results will be stored in datasets/.\n",
      "======================================================================\n",
      "\n",
      "Using CPU.\n"
     ]
    },
    {
     "name": "stderr",
     "output_type": "stream",
     "text": [
      "100%|███████████████████████████████████████████████████████████████████████████| 10000/10000 [00:53<00:00, 185.43it/s]\n"
     ]
    },
    {
     "name": "stdout",
     "output_type": "stream",
     "text": [
      "Saved dataset to datasets/pointmass_easy_rnd.pkl\n",
      "Saved final heatmap to exploration_visualization\\PointmassEasy-v0_rnd1.0.png\n"
     ]
    }
   ],
   "source": [
    "%run cs285/scripts/run_hw5_explore.py \\\n",
    "    -cfg experiments/exploration/pointmass_easy_rnd.yaml \\\n",
    "    --dataset_dir datasets/"
   ]
  },
  {
   "cell_type": "code",
   "execution_count": 7,
   "id": "a71cb8ff-486f-4285-a8f9-f8c1d14e032a",
   "metadata": {},
   "outputs": [
    {
     "name": "stdout",
     "output_type": "stream",
     "text": [
      "Namespace(config_file='experiments/exploration/pointmass_medium_rnd.yaml', eval_interval=10000, visualize_interval=1000, num_eval_trajectories=10, seed=1, no_gpu=False, which_gpu=0, log_interval=1, use_reward=False, dataset_dir='datasets/', env_name='', dataset_name='', total_steps=None, log_suffix='')\n",
      "dqn_config{'exp_name': 'pointmass_medium_rnd', 'total_steps': 10000, 'discount': 0.95, 'target_update_period': 300, 'clip_grad_norm': None, 'use_double_q': True, 'batch_size': 128, 'kwargs': {'dataset_name': 'pointmass_medium_rnd'}, 'exploration_schedule': <cs285.env_configs.schedule.ConstantSchedule object at 0x00000296C326F760>, 'log_string': 'PointmassMedium-v0_dqn', 'env_name': 'PointmassMedium-v0', 'hidden_size': 64, 'learning_rate': 0.001, 'num_layers': 2}\n",
      "rnd_config{'rnd_weight': 1.0, 'total_steps': 10000, 'discount': 0.95, 'env_name': 'PointmassMedium-v0', 'exp_name': 'pointmass_medium_rnd', 'dataset_name': 'pointmass_medium_rnd', 'target_update_period': 300, 'clip_grad_norm': None, 'use_double_q': True, 'exploration_schedule': <cs285.env_configs.schedule.ConstantSchedule object at 0x00000296C326F760>, 'log_name': 'PointmassMedium-v0_rnd1.0', 'batch_size': 128, 'agent': 'rnd', 'rnd_dim': 5, 'rnd_network_hidden_size': 400, 'rnd_network_learning_rate': 0.001, 'rnd_network_num_layers': 2}\n",
      "########################\n",
      "logging outputs to  C:\\Users\\user\\Colab\\Berkeley_DeepRL_Fall2023\\hw5\\cs285\\scripts\\../../data\\hw5_explore/PointmassMedium-v0_rnd1.0\n",
      "########################\n",
      "\n",
      "======================================================================\n",
      "Exploration\n",
      "\n",
      "Generating the dataset for the PointmassMedium-v0 environment using algorithm rnd.\n",
      "The results will be stored in datasets/.\n",
      "======================================================================\n",
      "\n",
      "Using CPU.\n"
     ]
    },
    {
     "name": "stderr",
     "output_type": "stream",
     "text": [
      "100%|███████████████████████████████████████████████████████████████████████████| 10000/10000 [00:54<00:00, 184.86it/s]\n"
     ]
    },
    {
     "name": "stdout",
     "output_type": "stream",
     "text": [
      "Saved dataset to datasets/pointmass_medium_rnd.pkl\n",
      "Saved final heatmap to exploration_visualization\\PointmassMedium-v0_rnd1.0.png\n"
     ]
    }
   ],
   "source": [
    "%run cs285/scripts/run_hw5_explore.py \\\n",
    "    -cfg experiments/exploration/pointmass_medium_rnd.yaml \\\n",
    "    --dataset_dir datasets/"
   ]
  },
  {
   "cell_type": "code",
   "execution_count": 8,
   "id": "b4f5d309-3a61-4035-a7d4-a40a01a75b25",
   "metadata": {},
   "outputs": [
    {
     "name": "stdout",
     "output_type": "stream",
     "text": [
      "Namespace(config_file='experiments/exploration/pointmass_hard_rnd.yaml', eval_interval=10000, visualize_interval=1000, num_eval_trajectories=10, seed=1, no_gpu=False, which_gpu=0, log_interval=1, use_reward=False, dataset_dir='datasets/', env_name='', dataset_name='', total_steps=None, log_suffix='')\n",
      "dqn_config{'exp_name': 'pointmass_hard_rnd', 'total_steps': 10000, 'discount': 0.95, 'target_update_period': 300, 'clip_grad_norm': None, 'use_double_q': True, 'batch_size': 128, 'kwargs': {'dataset_name': 'pointmass_hard_rnd'}, 'exploration_schedule': <cs285.env_configs.schedule.ConstantSchedule object at 0x00000296C413B0A0>, 'log_string': 'PointmassHard-v0_dqn', 'env_name': 'PointmassHard-v0', 'hidden_size': 64, 'learning_rate': 0.001, 'num_layers': 2}\n",
      "rnd_config{'rnd_weight': 1.0, 'total_steps': 10000, 'discount': 0.95, 'env_name': 'PointmassHard-v0', 'exp_name': 'pointmass_hard_rnd', 'dataset_name': 'pointmass_hard_rnd', 'target_update_period': 300, 'clip_grad_norm': None, 'use_double_q': True, 'exploration_schedule': <cs285.env_configs.schedule.ConstantSchedule object at 0x00000296C413B0A0>, 'log_name': 'PointmassHard-v0_rnd1.0', 'batch_size': 128, 'agent': 'rnd', 'rnd_dim': 5, 'rnd_network_hidden_size': 400, 'rnd_network_learning_rate': 0.001, 'rnd_network_num_layers': 2}\n",
      "########################\n",
      "logging outputs to  C:\\Users\\user\\Colab\\Berkeley_DeepRL_Fall2023\\hw5\\cs285\\scripts\\../../data\\hw5_explore/PointmassHard-v0_rnd1.0\n",
      "########################\n",
      "\n",
      "======================================================================\n",
      "Exploration\n",
      "\n",
      "Generating the dataset for the PointmassHard-v0 environment using algorithm rnd.\n",
      "The results will be stored in datasets/.\n",
      "======================================================================\n",
      "\n",
      "Using CPU.\n"
     ]
    },
    {
     "name": "stderr",
     "output_type": "stream",
     "text": [
      "100%|███████████████████████████████████████████████████████████████████████████| 10000/10000 [00:53<00:00, 187.17it/s]\n"
     ]
    },
    {
     "name": "stdout",
     "output_type": "stream",
     "text": [
      "Saved dataset to datasets/pointmass_hard_rnd.pkl\n",
      "Saved final heatmap to exploration_visualization\\PointmassHard-v0_rnd1.0.png\n"
     ]
    }
   ],
   "source": [
    "%run cs285/scripts/run_hw5_explore.py \\\n",
    "    -cfg experiments/exploration/pointmass_hard_rnd.yaml \\\n",
    "    --dataset_dir datasets/"
   ]
  },
  {
   "cell_type": "code",
   "execution_count": null,
   "id": "d9442959-8c41-4ef0-8ba9-1436fbf74e9e",
   "metadata": {},
   "outputs": [],
   "source": []
  },
  {
   "cell_type": "code",
   "execution_count": null,
   "id": "739087e4-70d3-4750-ae2f-3d9bafaa64cc",
   "metadata": {},
   "outputs": [],
   "source": [
    "# %load_ext tensorboard\n",
    "# %tensorboard --logdir data/hw5_explore"
   ]
  },
  {
   "cell_type": "markdown",
   "id": "d9dd2638-472b-42e2-81aa-b46b3cae8143",
   "metadata": {},
   "source": [
    "# 4 Offline RL"
   ]
  },
  {
   "cell_type": "markdown",
   "id": "b278d55a-2999-4a94-b21a-6dfa5b3aed04",
   "metadata": {},
   "source": [
    "## 4.1 CQL"
   ]
  },
  {
   "cell_type": "markdown",
   "id": "45f2b143-3123-4700-bbb2-14395a2888bc",
   "metadata": {},
   "source": [
    "To begin, you will implement the conservative Q-learning algorithm in this cs285/agents/cql_agent.py. Then, run both a standard DQN agent and your new CQL agent in the offline setting with the datasets you collected earlier."
   ]
  },
  {
   "cell_type": "code",
   "execution_count": 3,
   "id": "781e57dc-46f1-4e47-a2f7-8287273ea8a9",
   "metadata": {},
   "outputs": [
    {
     "name": "stdout",
     "output_type": "stream",
     "text": [
      "Namespace(config_file='experiments/offline/pointmass_easy_dqn.yaml', eval_interval=10000, num_eval_trajectories=10, num_render_trajectories=0, seed=1, no_gpu=False, which_gpu=0, log_interval=1, dataset_dir='datasets', env_name='', dataset_name='', log_suffix='')\n",
      "dqn_config{'exp_name': 'pointmass_easy_dqn', 'total_steps': 1000000, 'discount': 0.95, 'target_update_period': 300, 'clip_grad_norm': None, 'use_double_q': True, 'batch_size': 128, 'kwargs': {'training_steps': 100000, 'dataset_name': 'pointmass_easy_rnd'}, 'exploration_schedule': <cs285.env_configs.schedule.ConstantSchedule object at 0x00000299D2104370>, 'log_string': 'PointmassEasy-v0_dqn', 'env_name': 'PointmassEasy-v0', 'hidden_size': 64, 'learning_rate': 0.001, 'num_layers': 2}\n",
      "########################\n",
      "logging outputs to  C:\\Users\\user\\Colab\\Berkeley_DeepRL_Fall2023\\hw5\\cs285\\scripts\\../../data\\hw5_offline_PointmassEasy-v0_dqn\n",
      "########################\n",
      "Using CPU.\n"
     ]
    },
    {
     "name": "stderr",
     "output_type": "stream",
     "text": [
      "100%|█████████████████████████████████████████████████████████████████████████| 100000/100000 [03:16<00:00, 507.70it/s]"
     ]
    },
    {
     "name": "stdout",
     "output_type": "stream",
     "text": [
      "Average eval return: -12.899999618530273\n"
     ]
    },
    {
     "name": "stderr",
     "output_type": "stream",
     "text": [
      "\n"
     ]
    }
   ],
   "source": [
    "%run ./cs285/scripts/run_hw5_offline.py \\\n",
    "    -cfg experiments/offline/pointmass_easy_dqn.yaml \\\n",
    "    --dataset_dir datasets"
   ]
  },
  {
   "cell_type": "code",
   "execution_count": 4,
   "id": "6056f1bf-0203-4fc9-9bc6-d38135bde8ea",
   "metadata": {},
   "outputs": [
    {
     "name": "stdout",
     "output_type": "stream",
     "text": [
      "Namespace(config_file='experiments/offline/pointmass_easy_cql.yaml', eval_interval=10000, num_eval_trajectories=10, num_render_trajectories=0, seed=1, no_gpu=False, which_gpu=0, log_interval=1, dataset_dir='datasets', env_name='', dataset_name='', log_suffix='')\n",
      "dqn_config{'exp_name': 'pointmass_easy_cql', 'total_steps': 50000, 'discount': 0.95, 'target_update_period': 300, 'clip_grad_norm': None, 'use_double_q': True, 'batch_size': 128, 'kwargs': {'training_steps': 100000, 'dataset_name': 'pointmass_easy_rnd'}, 'exploration_schedule': <cs285.env_configs.schedule.ConstantSchedule object at 0x00000299D2C4EF10>, 'log_string': 'PointmassEasy-v0_dqn', 'env_name': 'PointmassEasy-v0', 'hidden_size': 64, 'learning_rate': 0.001, 'num_layers': 2}\n",
      "cql_config{'cql_alpha': 0.1, 'cql_temperature': 1.0, 'total_steps': 50000, 'discount': 0.95, 'env_name': 'PointmassEasy-v0', 'exp_name': 'pointmass_easy_cql', 'use_double_q': True, 'training_steps': 100000, 'dataset_name': 'pointmass_easy_rnd', 'hidden_size': 64, 'num_layers': 2, 'target_update_period': 300, 'clip_grad_norm': None, 'exploration_schedule': <cs285.env_configs.schedule.ConstantSchedule object at 0x00000299D2C4EF10>, 'log_name': 'PointmassEasy-v0_cql0.1', 'batch_size': 128, 'agent': 'cql'}\n",
      "########################\n",
      "logging outputs to  C:\\Users\\user\\Colab\\Berkeley_DeepRL_Fall2023\\hw5\\cs285\\scripts\\../../data\\hw5_offline_PointmassEasy-v0_cql0.1\n",
      "########################\n",
      "Using CPU.\n"
     ]
    },
    {
     "name": "stderr",
     "output_type": "stream",
     "text": [
      "100%|█████████████████████████████████████████████████████████████████████████| 100000/100000 [03:28<00:00, 479.21it/s]"
     ]
    },
    {
     "name": "stdout",
     "output_type": "stream",
     "text": [
      "Average eval return: -13.699999809265137\n"
     ]
    },
    {
     "name": "stderr",
     "output_type": "stream",
     "text": [
      "\n"
     ]
    }
   ],
   "source": [
    "%run ./cs285/scripts/run_hw5_offline.py \\\n",
    "    -cfg experiments/offline/pointmass_easy_cql.yaml \\\n",
    "    --dataset_dir datasets"
   ]
  },
  {
   "cell_type": "code",
   "execution_count": 5,
   "id": "696b37be-ca5e-4c45-b307-73ae0370badd",
   "metadata": {},
   "outputs": [
    {
     "name": "stdout",
     "output_type": "stream",
     "text": [
      "Namespace(config_file='experiments/offline/pointmass_medium_dqn.yaml', eval_interval=10000, num_eval_trajectories=10, num_render_trajectories=0, seed=1, no_gpu=False, which_gpu=0, log_interval=1, dataset_dir='datasets', env_name='', dataset_name='', log_suffix='')\n",
      "dqn_config{'exp_name': 'pointmass_medium_dqn', 'total_steps': 1000000, 'discount': 0.95, 'target_update_period': 300, 'clip_grad_norm': None, 'use_double_q': True, 'batch_size': 128, 'kwargs': {'training_steps': 100000, 'dataset_name': 'pointmass_medium_rnd'}, 'exploration_schedule': <cs285.env_configs.schedule.ConstantSchedule object at 0x00000299D1D15670>, 'log_string': 'PointmassMedium-v0_dqn', 'env_name': 'PointmassMedium-v0', 'hidden_size': 64, 'learning_rate': 0.001, 'num_layers': 2}\n",
      "########################\n",
      "logging outputs to  C:\\Users\\user\\Colab\\Berkeley_DeepRL_Fall2023\\hw5\\cs285\\scripts\\../../data\\hw5_offline_PointmassMedium-v0_dqn\n",
      "########################\n",
      "Using CPU.\n"
     ]
    },
    {
     "name": "stderr",
     "output_type": "stream",
     "text": [
      "100%|█████████████████████████████████████████████████████████████████████████| 100000/100000 [03:19<00:00, 500.88it/s]"
     ]
    },
    {
     "name": "stdout",
     "output_type": "stream",
     "text": [
      "Average eval return: -23.600000381469727\n"
     ]
    },
    {
     "name": "stderr",
     "output_type": "stream",
     "text": [
      "\n"
     ]
    }
   ],
   "source": [
    "%run ./cs285/scripts/run_hw5_offline.py \\\n",
    "    -cfg experiments/offline/pointmass_medium_dqn.yaml \\\n",
    "    --dataset_dir datasets"
   ]
  },
  {
   "cell_type": "code",
   "execution_count": 6,
   "id": "66b09fbc-72b2-4be5-9317-3e589e7e47f9",
   "metadata": {},
   "outputs": [
    {
     "name": "stdout",
     "output_type": "stream",
     "text": [
      "Namespace(config_file='experiments/offline/pointmass_medium_cql.yaml', eval_interval=10000, num_eval_trajectories=10, num_render_trajectories=0, seed=1, no_gpu=False, which_gpu=0, log_interval=1, dataset_dir='datasets', env_name='', dataset_name='', log_suffix='')\n",
      "dqn_config{'exp_name': 'pointmass_medium_cql', 'total_steps': 50000, 'discount': 0.95, 'target_update_period': 300, 'clip_grad_norm': None, 'use_double_q': True, 'batch_size': 128, 'kwargs': {'training_steps': 100000, 'dataset_name': 'pointmass_medium_rnd'}, 'exploration_schedule': <cs285.env_configs.schedule.ConstantSchedule object at 0x00000299D2C32760>, 'log_string': 'PointmassMedium-v0_dqn', 'env_name': 'PointmassMedium-v0', 'hidden_size': 64, 'learning_rate': 0.001, 'num_layers': 2}\n",
      "cql_config{'cql_alpha': 0.1, 'cql_temperature': 1.0, 'total_steps': 50000, 'discount': 0.95, 'env_name': 'PointmassMedium-v0', 'exp_name': 'pointmass_medium_cql', 'use_double_q': True, 'training_steps': 100000, 'dataset_name': 'pointmass_medium_rnd', 'hidden_size': 64, 'num_layers': 2, 'target_update_period': 300, 'clip_grad_norm': None, 'exploration_schedule': <cs285.env_configs.schedule.ConstantSchedule object at 0x00000299D2C32760>, 'log_name': 'PointmassMedium-v0_cql0.1', 'batch_size': 128, 'agent': 'cql'}\n",
      "########################\n",
      "logging outputs to  C:\\Users\\user\\Colab\\Berkeley_DeepRL_Fall2023\\hw5\\cs285\\scripts\\../../data\\hw5_offline_PointmassMedium-v0_cql0.1\n",
      "########################\n",
      "Using CPU.\n"
     ]
    },
    {
     "name": "stderr",
     "output_type": "stream",
     "text": [
      "100%|█████████████████████████████████████████████████████████████████████████| 100000/100000 [03:32<00:00, 471.39it/s]"
     ]
    },
    {
     "name": "stdout",
     "output_type": "stream",
     "text": [
      "Average eval return: -19.899999618530273\n"
     ]
    },
    {
     "name": "stderr",
     "output_type": "stream",
     "text": [
      "\n"
     ]
    }
   ],
   "source": [
    "%run ./cs285/scripts/run_hw5_offline.py \\\n",
    "    -cfg experiments/offline/pointmass_medium_cql.yaml \\\n",
    "    --dataset_dir datasets"
   ]
  },
  {
   "cell_type": "markdown",
   "id": "5b475ecb-8562-418a-9b53-57414bd30af5",
   "metadata": {},
   "source": [
    "On the Medium environment, create several experiment variations in which the value of the α parameter is varied, from α = 0 (equivalent to DQN) to α = 10. Show both resulting Q-values and evaluation performances in a plot. In the caption, describe how the α parameter affects training and performance in offline RL."
   ]
  },
  {
   "cell_type": "markdown",
   "id": "692e0bbd-aa93-46d7-8945-581cb48140cb",
   "metadata": {},
   "source": [
    "I try `α = 0.01, 1, 5, 10`."
   ]
  },
  {
   "cell_type": "code",
   "execution_count": 7,
   "id": "aa8ac173-4cbb-47ee-819f-d6612d0aaf96",
   "metadata": {},
   "outputs": [
    {
     "name": "stdout",
     "output_type": "stream",
     "text": [
      "Namespace(config_file='experiments/offline/pointmass_medium_cql.yaml', eval_interval=10000, num_eval_trajectories=10, num_render_trajectories=0, seed=1, no_gpu=False, which_gpu=0, log_interval=1, dataset_dir='datasets', env_name='', dataset_name='', log_suffix='')\n",
      "dqn_config{'exp_name': 'pointmass_medium_cql', 'total_steps': 50000, 'discount': 0.95, 'target_update_period': 300, 'clip_grad_norm': None, 'use_double_q': True, 'batch_size': 128, 'kwargs': {'training_steps': 100000, 'dataset_name': 'pointmass_medium_rnd'}, 'exploration_schedule': <cs285.env_configs.schedule.ConstantSchedule object at 0x00000299D31D8B50>, 'log_string': 'PointmassMedium-v0_dqn', 'env_name': 'PointmassMedium-v0', 'hidden_size': 64, 'learning_rate': 0.001, 'num_layers': 2}\n",
      "cql_config{'cql_alpha': 0.01, 'cql_temperature': 1.0, 'total_steps': 50000, 'discount': 0.95, 'env_name': 'PointmassMedium-v0', 'exp_name': 'pointmass_medium_cql', 'use_double_q': True, 'training_steps': 100000, 'dataset_name': 'pointmass_medium_rnd', 'hidden_size': 64, 'num_layers': 2, 'target_update_period': 300, 'clip_grad_norm': None, 'exploration_schedule': <cs285.env_configs.schedule.ConstantSchedule object at 0x00000299D31D8B50>, 'log_name': 'PointmassMedium-v0_cql0.01', 'batch_size': 128, 'agent': 'cql'}\n",
      "########################\n",
      "logging outputs to  C:\\Users\\user\\Colab\\Berkeley_DeepRL_Fall2023\\hw5\\cs285\\scripts\\../../data\\hw5_offline_PointmassMedium-v0_cql0.01\n",
      "########################\n",
      "Using CPU.\n"
     ]
    },
    {
     "name": "stderr",
     "output_type": "stream",
     "text": [
      "100%|█████████████████████████████████████████████████████████████████████████| 100000/100000 [03:32<00:00, 469.50it/s]"
     ]
    },
    {
     "name": "stdout",
     "output_type": "stream",
     "text": [
      "Average eval return: -21.799999237060547\n"
     ]
    },
    {
     "name": "stderr",
     "output_type": "stream",
     "text": [
      "\n"
     ]
    }
   ],
   "source": [
    "# set cql_alpha=0.01 in experiments/offline/pointmass_medium_cql.yaml\n",
    "%run ./cs285/scripts/run_hw5_offline.py \\\n",
    "    -cfg experiments/offline/pointmass_medium_cql.yaml \\\n",
    "    --dataset_dir datasets"
   ]
  },
  {
   "cell_type": "code",
   "execution_count": 8,
   "id": "d21f565d-7272-4a0d-a01f-20be82693d82",
   "metadata": {},
   "outputs": [
    {
     "name": "stdout",
     "output_type": "stream",
     "text": [
      "Namespace(config_file='experiments/offline/pointmass_medium_cql.yaml', eval_interval=10000, num_eval_trajectories=10, num_render_trajectories=0, seed=1, no_gpu=False, which_gpu=0, log_interval=1, dataset_dir='datasets', env_name='', dataset_name='', log_suffix='')\n",
      "dqn_config{'exp_name': 'pointmass_medium_cql', 'total_steps': 50000, 'discount': 0.95, 'target_update_period': 300, 'clip_grad_norm': None, 'use_double_q': True, 'batch_size': 128, 'kwargs': {'training_steps': 100000, 'dataset_name': 'pointmass_medium_rnd'}, 'exploration_schedule': <cs285.env_configs.schedule.ConstantSchedule object at 0x00000299D2842310>, 'log_string': 'PointmassMedium-v0_dqn', 'env_name': 'PointmassMedium-v0', 'hidden_size': 64, 'learning_rate': 0.001, 'num_layers': 2}\n",
      "cql_config{'cql_alpha': 1.0, 'cql_temperature': 1.0, 'total_steps': 50000, 'discount': 0.95, 'env_name': 'PointmassMedium-v0', 'exp_name': 'pointmass_medium_cql', 'use_double_q': True, 'training_steps': 100000, 'dataset_name': 'pointmass_medium_rnd', 'hidden_size': 64, 'num_layers': 2, 'target_update_period': 300, 'clip_grad_norm': None, 'exploration_schedule': <cs285.env_configs.schedule.ConstantSchedule object at 0x00000299D2842310>, 'log_name': 'PointmassMedium-v0_cql1.0', 'batch_size': 128, 'agent': 'cql'}\n",
      "########################\n",
      "logging outputs to  C:\\Users\\user\\Colab\\Berkeley_DeepRL_Fall2023\\hw5\\cs285\\scripts\\../../data\\hw5_offline_PointmassMedium-v0_cql1.0\n",
      "########################\n",
      "Using CPU.\n"
     ]
    },
    {
     "name": "stderr",
     "output_type": "stream",
     "text": [
      "100%|█████████████████████████████████████████████████████████████████████████| 100000/100000 [03:30<00:00, 474.69it/s]"
     ]
    },
    {
     "name": "stdout",
     "output_type": "stream",
     "text": [
      "Average eval return: -22.200000762939453\n"
     ]
    },
    {
     "name": "stderr",
     "output_type": "stream",
     "text": [
      "\n"
     ]
    }
   ],
   "source": [
    "# set cql_alpha=1 in experiments/offline/pointmass_medium_cql.yaml\n",
    "%run ./cs285/scripts/run_hw5_offline.py \\\n",
    "    -cfg experiments/offline/pointmass_medium_cql.yaml \\\n",
    "    --dataset_dir datasets"
   ]
  },
  {
   "cell_type": "code",
   "execution_count": 9,
   "id": "522afa72-8c4e-4189-b423-96ef2c98a51e",
   "metadata": {},
   "outputs": [
    {
     "name": "stdout",
     "output_type": "stream",
     "text": [
      "Namespace(config_file='experiments/offline/pointmass_medium_cql.yaml', eval_interval=10000, num_eval_trajectories=10, num_render_trajectories=0, seed=1, no_gpu=False, which_gpu=0, log_interval=1, dataset_dir='datasets', env_name='', dataset_name='', log_suffix='')\n",
      "dqn_config{'exp_name': 'pointmass_medium_cql', 'total_steps': 50000, 'discount': 0.95, 'target_update_period': 300, 'clip_grad_norm': None, 'use_double_q': True, 'batch_size': 128, 'kwargs': {'training_steps': 100000, 'dataset_name': 'pointmass_medium_rnd'}, 'exploration_schedule': <cs285.env_configs.schedule.ConstantSchedule object at 0x00000299D1E88FD0>, 'log_string': 'PointmassMedium-v0_dqn', 'env_name': 'PointmassMedium-v0', 'hidden_size': 64, 'learning_rate': 0.001, 'num_layers': 2}\n",
      "cql_config{'cql_alpha': 5.0, 'cql_temperature': 1.0, 'total_steps': 50000, 'discount': 0.95, 'env_name': 'PointmassMedium-v0', 'exp_name': 'pointmass_medium_cql', 'use_double_q': True, 'training_steps': 100000, 'dataset_name': 'pointmass_medium_rnd', 'hidden_size': 64, 'num_layers': 2, 'target_update_period': 300, 'clip_grad_norm': None, 'exploration_schedule': <cs285.env_configs.schedule.ConstantSchedule object at 0x00000299D1E88FD0>, 'log_name': 'PointmassMedium-v0_cql5.0', 'batch_size': 128, 'agent': 'cql'}\n",
      "########################\n",
      "logging outputs to  C:\\Users\\user\\Colab\\Berkeley_DeepRL_Fall2023\\hw5\\cs285\\scripts\\../../data\\hw5_offline_PointmassMedium-v0_cql5.0\n",
      "########################\n",
      "Using CPU.\n"
     ]
    },
    {
     "name": "stderr",
     "output_type": "stream",
     "text": [
      "100%|█████████████████████████████████████████████████████████████████████████| 100000/100000 [03:26<00:00, 484.99it/s]"
     ]
    },
    {
     "name": "stdout",
     "output_type": "stream",
     "text": [
      "Average eval return: -44.70000076293945\n"
     ]
    },
    {
     "name": "stderr",
     "output_type": "stream",
     "text": [
      "\n"
     ]
    }
   ],
   "source": [
    "# set cql_alpha=5 in experiments/offline/pointmass_medium_cql.yaml\n",
    "%run ./cs285/scripts/run_hw5_offline.py \\\n",
    "    -cfg experiments/offline/pointmass_medium_cql.yaml \\\n",
    "    --dataset_dir datasets"
   ]
  },
  {
   "cell_type": "code",
   "execution_count": 10,
   "id": "84d49485-c561-4d0d-a872-ffbf9ec706ad",
   "metadata": {},
   "outputs": [
    {
     "name": "stdout",
     "output_type": "stream",
     "text": [
      "Namespace(config_file='experiments/offline/pointmass_medium_cql.yaml', eval_interval=10000, num_eval_trajectories=10, num_render_trajectories=0, seed=1, no_gpu=False, which_gpu=0, log_interval=1, dataset_dir='datasets', env_name='', dataset_name='', log_suffix='')\n",
      "dqn_config{'exp_name': 'pointmass_medium_cql', 'total_steps': 50000, 'discount': 0.95, 'target_update_period': 300, 'clip_grad_norm': None, 'use_double_q': True, 'batch_size': 128, 'kwargs': {'training_steps': 100000, 'dataset_name': 'pointmass_medium_rnd'}, 'exploration_schedule': <cs285.env_configs.schedule.ConstantSchedule object at 0x00000299D39C9FD0>, 'log_string': 'PointmassMedium-v0_dqn', 'env_name': 'PointmassMedium-v0', 'hidden_size': 64, 'learning_rate': 0.001, 'num_layers': 2}\n",
      "cql_config{'cql_alpha': 10.0, 'cql_temperature': 1.0, 'total_steps': 50000, 'discount': 0.95, 'env_name': 'PointmassMedium-v0', 'exp_name': 'pointmass_medium_cql', 'use_double_q': True, 'training_steps': 100000, 'dataset_name': 'pointmass_medium_rnd', 'hidden_size': 64, 'num_layers': 2, 'target_update_period': 300, 'clip_grad_norm': None, 'exploration_schedule': <cs285.env_configs.schedule.ConstantSchedule object at 0x00000299D39C9FD0>, 'log_name': 'PointmassMedium-v0_cql10.0', 'batch_size': 128, 'agent': 'cql'}\n",
      "########################\n",
      "logging outputs to  C:\\Users\\user\\Colab\\Berkeley_DeepRL_Fall2023\\hw5\\cs285\\scripts\\../../data\\hw5_offline_PointmassMedium-v0_cql10.0\n",
      "########################\n",
      "Using CPU.\n"
     ]
    },
    {
     "name": "stderr",
     "output_type": "stream",
     "text": [
      "100%|█████████████████████████████████████████████████████████████████████████| 100000/100000 [03:26<00:00, 483.18it/s]"
     ]
    },
    {
     "name": "stdout",
     "output_type": "stream",
     "text": [
      "Average eval return: -123.4000015258789\n"
     ]
    },
    {
     "name": "stderr",
     "output_type": "stream",
     "text": [
      "\n"
     ]
    }
   ],
   "source": [
    "# set cql_alpha=10 in experiments/offline/pointmass_medium_cql.yaml\n",
    "%run ./cs285/scripts/run_hw5_offline.py \\\n",
    "    -cfg experiments/offline/pointmass_medium_cql.yaml \\\n",
    "    --dataset_dir datasets"
   ]
  },
  {
   "cell_type": "markdown",
   "id": "2870ae75-f13e-4e1d-8bbb-fb9317dc7f25",
   "metadata": {},
   "source": [
    "α = 0.1 works best here, α = 0.01 and α = 1 are close to α = 0.1; larger α works worse."
   ]
  },
  {
   "cell_type": "markdown",
   "id": "cca5181f-6e60-4dd7-ba4a-0a94b59b197e",
   "metadata": {},
   "source": [
    "## 4.2 Policy Constraint Methods: IQL and AWAC"
   ]
  },
  {
   "cell_type": "markdown",
   "id": "481541ed-6fe6-4cd9-9f4a-811464c5c0da",
   "metadata": {},
   "source": [
    "Implement AWAC in cs285/agents/awac_agent.py, and IQL in cs285/agents/iql_agent.py. Compare them using the IQL and AWAC configuration files in the experiments directory. Report evaluation curves for both approaches.\n",
    "\n",
    "※The homework didn't assign which difficulties to run, so I choose to run Easy and Medium."
   ]
  },
  {
   "cell_type": "code",
   "execution_count": 11,
   "id": "889ee1f2-07ae-47b2-9ba6-7611c18f2d7f",
   "metadata": {},
   "outputs": [
    {
     "name": "stdout",
     "output_type": "stream",
     "text": [
      "Namespace(config_file='experiments/offline/pointmass_easy_awac.yaml', eval_interval=10000, num_eval_trajectories=10, num_render_trajectories=0, seed=1, no_gpu=False, which_gpu=0, log_interval=1, dataset_dir='datasets', env_name='', dataset_name='', log_suffix='')\n",
      "dqn_config{'exp_name': 'pointmass_easy_awac', 'total_steps': 50000, 'discount': 0.95, 'target_update_period': 300, 'clip_grad_norm': None, 'use_double_q': True, 'batch_size': 128, 'kwargs': {'training_steps': 100000, 'dataset_name': 'pointmass_easy_rnd'}, 'exploration_schedule': <cs285.env_configs.schedule.ConstantSchedule object at 0x00000299CFAA9760>, 'log_string': 'PointmassEasy-v0_dqn', 'env_name': 'PointmassEasy-v0', 'hidden_size': 64, 'learning_rate': 0.001, 'num_layers': 2}\n",
      "awac_config{'total_steps': 50000, 'discount': 0.95, 'temperature': 10.0, 'env_name': 'PointmassEasy-v0', 'exp_name': 'pointmass_easy_awac', 'training_steps': 100000, 'dataset_name': 'pointmass_easy_rnd', 'hidden_size': 64, 'num_layers': 2, 'target_update_period': 300, 'clip_grad_norm': None, 'use_double_q': True, 'exploration_schedule': <cs285.env_configs.schedule.ConstantSchedule object at 0x00000299CFAA9760>, 'log_name': 'PointmassEasy-v0_awac10.0', 'batch_size': 128, 'agent': 'awac', 'actor_hidden_size': 128, 'actor_learning_rate': 0.0003, 'actor_num_layers': 2}\n",
      "########################\n",
      "logging outputs to  C:\\Users\\user\\Colab\\Berkeley_DeepRL_Fall2023\\hw5\\cs285\\scripts\\../../data\\hw5_offline_PointmassEasy-v0_awac10.0\n",
      "########################\n",
      "Using CPU.\n"
     ]
    },
    {
     "name": "stderr",
     "output_type": "stream",
     "text": [
      "100%|█████████████████████████████████████████████████████████████████████████| 100000/100000 [06:06<00:00, 272.48it/s]"
     ]
    },
    {
     "name": "stdout",
     "output_type": "stream",
     "text": [
      "Average eval return: -13.699999809265137\n"
     ]
    },
    {
     "name": "stderr",
     "output_type": "stream",
     "text": [
      "\n"
     ]
    }
   ],
   "source": [
    "%run ./cs285/scripts/run_hw5_offline.py \\\n",
    "    -cfg experiments/offline/pointmass_easy_awac.yaml \\\n",
    "    --dataset_dir datasets"
   ]
  },
  {
   "cell_type": "code",
   "execution_count": 12,
   "id": "0247bc62-650b-4af0-99e0-4ac57763a2f5",
   "metadata": {},
   "outputs": [
    {
     "name": "stdout",
     "output_type": "stream",
     "text": [
      "Namespace(config_file='experiments/offline/pointmass_easy_iql.yaml', eval_interval=10000, num_eval_trajectories=10, num_render_trajectories=0, seed=1, no_gpu=False, which_gpu=0, log_interval=1, dataset_dir='datasets', env_name='', dataset_name='', log_suffix='')\n",
      "dqn_config{'exp_name': 'pointmass_easy_iql', 'total_steps': 50000, 'discount': 0.95, 'target_update_period': 300, 'clip_grad_norm': None, 'use_double_q': True, 'batch_size': 128, 'kwargs': {'training_steps': 100000, 'dataset_name': 'pointmass_easy_rnd'}, 'exploration_schedule': <cs285.env_configs.schedule.ConstantSchedule object at 0x00000299D2CB5DF0>, 'log_string': 'PointmassEasy-v0_dqn', 'env_name': 'PointmassEasy-v0', 'hidden_size': 64, 'learning_rate': 0.0003, 'num_layers': 2}\n",
      "awac_config{'total_steps': 50000, 'discount': 0.95, 'temperature': 10.0, 'hidden_size': 64, 'num_layers': 2, 'learning_rate': 0.0003, 'env_name': 'PointmassEasy-v0', 'exp_name': 'pointmass_easy_iql', 'training_steps': 100000, 'dataset_name': 'pointmass_easy_rnd', 'target_update_period': 300, 'clip_grad_norm': None, 'use_double_q': True, 'exploration_schedule': <cs285.env_configs.schedule.ConstantSchedule object at 0x00000299D2CB5DF0>, 'log_name': 'PointmassEasy-v0_awac10.0', 'batch_size': 128, 'agent': 'awac', 'actor_hidden_size': 128, 'actor_learning_rate': 0.0003, 'actor_num_layers': 2}\n",
      "iql_config{'total_steps': 50000, 'discount': 0.95, 'temperature': 10.0, 'expectile': 0.99, 'env_name': 'PointmassEasy-v0', 'exp_name': 'pointmass_easy_iql', 'training_steps': 100000, 'dataset_name': 'pointmass_easy_rnd', 'target_update_period': 300, 'clip_grad_norm': None, 'use_double_q': True, 'exploration_schedule': <cs285.env_configs.schedule.ConstantSchedule object at 0x00000299D2CB5DF0>, 'log_name': 'PointmassEasy-v0_iql0.99_temp10.0', 'batch_size': 128, 'agent': 'iql', 'hidden_size': 64, 'learning_rate': 0.0003, 'num_layers': 2}\n",
      "########################\n",
      "logging outputs to  C:\\Users\\user\\Colab\\Berkeley_DeepRL_Fall2023\\hw5\\cs285\\scripts\\../../data\\hw5_offline_PointmassEasy-v0_iql0.99_temp10.0\n",
      "########################\n",
      "Using CPU.\n"
     ]
    },
    {
     "name": "stderr",
     "output_type": "stream",
     "text": [
      "100%|█████████████████████████████████████████████████████████████████████████| 100000/100000 [08:28<00:00, 196.64it/s]"
     ]
    },
    {
     "name": "stdout",
     "output_type": "stream",
     "text": [
      "Average eval return: -13.399999618530273\n"
     ]
    },
    {
     "name": "stderr",
     "output_type": "stream",
     "text": [
      "\n"
     ]
    }
   ],
   "source": [
    "%run ./cs285/scripts/run_hw5_offline.py \\\n",
    "    -cfg experiments/offline/pointmass_easy_iql.yaml \\\n",
    "    --dataset_dir datasets"
   ]
  },
  {
   "cell_type": "code",
   "execution_count": 13,
   "id": "c4facded-f152-4e45-b974-ac21b912277f",
   "metadata": {},
   "outputs": [
    {
     "name": "stdout",
     "output_type": "stream",
     "text": [
      "Namespace(config_file='experiments/offline/pointmass_medium_awac.yaml', eval_interval=10000, num_eval_trajectories=10, num_render_trajectories=0, seed=1, no_gpu=False, which_gpu=0, log_interval=1, dataset_dir='datasets', env_name='', dataset_name='', log_suffix='')\n",
      "dqn_config{'exp_name': 'pointmass_medium_awac', 'total_steps': 50000, 'discount': 0.95, 'target_update_period': 300, 'clip_grad_norm': None, 'use_double_q': True, 'batch_size': 128, 'kwargs': {'training_steps': 100000, 'dataset_name': 'pointmass_medium_rnd'}, 'exploration_schedule': <cs285.env_configs.schedule.ConstantSchedule object at 0x00000299D274CF40>, 'log_string': 'PointmassMedium-v0_dqn', 'env_name': 'PointmassMedium-v0', 'hidden_size': 64, 'learning_rate': 0.001, 'num_layers': 2}\n",
      "awac_config{'total_steps': 50000, 'discount': 0.95, 'temperature': 10.0, 'env_name': 'PointmassMedium-v0', 'exp_name': 'pointmass_medium_awac', 'training_steps': 100000, 'dataset_name': 'pointmass_medium_rnd', 'hidden_size': 64, 'num_layers': 2, 'target_update_period': 300, 'clip_grad_norm': None, 'use_double_q': True, 'exploration_schedule': <cs285.env_configs.schedule.ConstantSchedule object at 0x00000299D274CF40>, 'log_name': 'PointmassMedium-v0_awac10.0', 'batch_size': 128, 'agent': 'awac', 'actor_hidden_size': 128, 'actor_learning_rate': 0.0003, 'actor_num_layers': 2}\n",
      "########################\n",
      "logging outputs to  C:\\Users\\user\\Colab\\Berkeley_DeepRL_Fall2023\\hw5\\cs285\\scripts\\../../data\\hw5_offline_PointmassMedium-v0_awac10.0\n",
      "########################\n",
      "Using CPU.\n"
     ]
    },
    {
     "name": "stderr",
     "output_type": "stream",
     "text": [
      "100%|█████████████████████████████████████████████████████████████████████████| 100000/100000 [06:03<00:00, 274.93it/s]"
     ]
    },
    {
     "name": "stdout",
     "output_type": "stream",
     "text": [
      "Average eval return: -90.30000305175781\n"
     ]
    },
    {
     "name": "stderr",
     "output_type": "stream",
     "text": [
      "\n"
     ]
    }
   ],
   "source": [
    "%run ./cs285/scripts/run_hw5_offline.py \\\n",
    "    -cfg experiments/offline/pointmass_medium_awac.yaml \\\n",
    "    --dataset_dir datasets"
   ]
  },
  {
   "cell_type": "code",
   "execution_count": 14,
   "id": "3e95df6f-9ccf-455c-9b8e-0919f15943ba",
   "metadata": {},
   "outputs": [
    {
     "name": "stdout",
     "output_type": "stream",
     "text": [
      "Namespace(config_file='experiments/offline/pointmass_medium_iql.yaml', eval_interval=10000, num_eval_trajectories=10, num_render_trajectories=0, seed=1, no_gpu=False, which_gpu=0, log_interval=1, dataset_dir='datasets', env_name='', dataset_name='', log_suffix='')\n",
      "dqn_config{'exp_name': 'pointmass_medium_iql', 'total_steps': 50000, 'discount': 0.95, 'target_update_period': 300, 'clip_grad_norm': None, 'use_double_q': True, 'batch_size': 128, 'kwargs': {'training_steps': 100000, 'dataset_name': 'pointmass_medium_rnd'}, 'exploration_schedule': <cs285.env_configs.schedule.ConstantSchedule object at 0x00000299D1E5C3A0>, 'log_string': 'PointmassMedium-v0_dqn', 'env_name': 'PointmassMedium-v0', 'hidden_size': 64, 'learning_rate': 0.0003, 'num_layers': 2}\n",
      "awac_config{'total_steps': 50000, 'discount': 0.95, 'temperature': 10.0, 'hidden_size': 64, 'num_layers': 2, 'learning_rate': 0.0003, 'env_name': 'PointmassMedium-v0', 'exp_name': 'pointmass_medium_iql', 'training_steps': 100000, 'dataset_name': 'pointmass_medium_rnd', 'target_update_period': 300, 'clip_grad_norm': None, 'use_double_q': True, 'exploration_schedule': <cs285.env_configs.schedule.ConstantSchedule object at 0x00000299D1E5C3A0>, 'log_name': 'PointmassMedium-v0_awac10.0', 'batch_size': 128, 'agent': 'awac', 'actor_hidden_size': 128, 'actor_learning_rate': 0.0003, 'actor_num_layers': 2}\n",
      "iql_config{'total_steps': 50000, 'discount': 0.95, 'temperature': 10.0, 'expectile': 0.99, 'env_name': 'PointmassMedium-v0', 'exp_name': 'pointmass_medium_iql', 'training_steps': 100000, 'dataset_name': 'pointmass_medium_rnd', 'target_update_period': 300, 'clip_grad_norm': None, 'use_double_q': True, 'exploration_schedule': <cs285.env_configs.schedule.ConstantSchedule object at 0x00000299D1E5C3A0>, 'log_name': 'PointmassMedium-v0_iql0.99_temp10.0', 'batch_size': 128, 'agent': 'iql', 'hidden_size': 64, 'learning_rate': 0.0003, 'num_layers': 2}\n",
      "########################\n",
      "logging outputs to  C:\\Users\\user\\Colab\\Berkeley_DeepRL_Fall2023\\hw5\\cs285\\scripts\\../../data\\hw5_offline_PointmassMedium-v0_iql0.99_temp10.0\n",
      "########################\n",
      "Using CPU.\n"
     ]
    },
    {
     "name": "stderr",
     "output_type": "stream",
     "text": [
      "100%|█████████████████████████████████████████████████████████████████████████| 100000/100000 [08:22<00:00, 199.09it/s]"
     ]
    },
    {
     "name": "stdout",
     "output_type": "stream",
     "text": [
      "Average eval return: -21.200000762939453\n"
     ]
    },
    {
     "name": "stderr",
     "output_type": "stream",
     "text": [
      "\n"
     ]
    }
   ],
   "source": [
    "%run ./cs285/scripts/run_hw5_offline.py \\\n",
    "    -cfg experiments/offline/pointmass_medium_iql.yaml \\\n",
    "    --dataset_dir datasets"
   ]
  },
  {
   "cell_type": "markdown",
   "id": "13464554-b7fa-44c5-aca6-3ed5d26d9320",
   "metadata": {},
   "source": [
    "## 4.3 Data Ablations"
   ]
  },
  {
   "cell_type": "markdown",
   "id": "95bd1edc-ef1f-428e-baba-889fe48866ab",
   "metadata": {},
   "source": [
    "Finally, compare the performance of offline RL under several different sizes of dataset. Run RND with total_steps 1000, 5000, 10000, and 20000 on either the Medium or Hard environment, creating a new dataset for each variation (you will need to make several .yaml config files for this). Then, train a CQL agent on each dataset and report its performance as well as evaluation curves."
   ]
  },
  {
   "cell_type": "markdown",
   "id": "207f1f89-edf4-4bcf-a85b-1df6832a9324",
   "metadata": {},
   "source": [
    "I run on PointmassHard."
   ]
  },
  {
   "cell_type": "code",
   "execution_count": 3,
   "id": "d7a37a1d-d30a-4a0d-819f-9e5f77ab3756",
   "metadata": {},
   "outputs": [
    {
     "name": "stdout",
     "output_type": "stream",
     "text": [
      "Namespace(config_file='experiments/exploration/pointmass_hard_rnd.yaml', eval_interval=10000, visualize_interval=1000, num_eval_trajectories=10, seed=1, no_gpu=False, which_gpu=0, log_interval=1, use_reward=False, dataset_dir='datasets/', env_name='', dataset_name='pointmass_hard_rnd_totalsteps=1000', total_steps=1000, log_suffix='totalsteps=1000')\n",
      "dqn_config{'exp_name': 'pointmass_hard_rnd', 'total_steps': 1000, 'discount': 0.95, 'target_update_period': 300, 'clip_grad_norm': None, 'use_double_q': True, 'batch_size': 128, 'kwargs': {'dataset_name': 'pointmass_hard_rnd_totalsteps=1000'}, 'exploration_schedule': <cs285.env_configs.schedule.ConstantSchedule object at 0x000001ADBDE7EE20>, 'log_string': 'PointmassHard-v0_dqn', 'env_name': 'PointmassHard-v0', 'hidden_size': 64, 'learning_rate': 0.001, 'num_layers': 2}\n",
      "rnd_config{'rnd_weight': 1.0, 'total_steps': 1000, 'discount': 0.95, 'env_name': 'PointmassHard-v0', 'exp_name': 'pointmass_hard_rnd', 'dataset_name': 'pointmass_hard_rnd_totalsteps=1000', 'target_update_period': 300, 'clip_grad_norm': None, 'use_double_q': True, 'exploration_schedule': <cs285.env_configs.schedule.ConstantSchedule object at 0x000001ADBDE7EE20>, 'log_name': 'PointmassHard-v0_rnd1.0', 'batch_size': 128, 'agent': 'rnd', 'rnd_dim': 5, 'rnd_network_hidden_size': 400, 'rnd_network_learning_rate': 0.001, 'rnd_network_num_layers': 2}\n",
      "########################\n",
      "logging outputs to  C:\\Users\\user\\Colab\\Berkeley_DeepRL_Fall2023\\hw5\\cs285\\scripts\\../../data\\hw5_explore/PointmassHard-v0_rnd1.0_totalsteps=1000\n",
      "########################\n",
      "\n",
      "======================================================================\n",
      "Exploration\n",
      "\n",
      "Generating the dataset for the PointmassHard-v0 environment using algorithm rnd.\n",
      "The results will be stored in datasets/.\n",
      "======================================================================\n",
      "\n",
      "Using CPU.\n"
     ]
    },
    {
     "name": "stderr",
     "output_type": "stream",
     "text": [
      "100%|█████████████████████████████████████████████████████████████████████████████| 1000/1000 [00:05<00:00, 181.91it/s]\n"
     ]
    },
    {
     "name": "stdout",
     "output_type": "stream",
     "text": [
      "Saved dataset to datasets/pointmass_hard_rnd_totalsteps=1000.pkl\n",
      "Saved final heatmap to exploration_visualization\\PointmassHard-v0_rnd1.0_totalsteps=1000.png\n",
      "\n",
      "****************************************************************************************************\n",
      "Namespace(config_file='experiments/exploration/pointmass_hard_rnd.yaml', eval_interval=10000, visualize_interval=1000, num_eval_trajectories=10, seed=1, no_gpu=False, which_gpu=0, log_interval=1, use_reward=False, dataset_dir='datasets/', env_name='', dataset_name='pointmass_hard_rnd_totalsteps=5000', total_steps=5000, log_suffix='totalsteps=5000')\n",
      "dqn_config{'exp_name': 'pointmass_hard_rnd', 'total_steps': 5000, 'discount': 0.95, 'target_update_period': 300, 'clip_grad_norm': None, 'use_double_q': True, 'batch_size': 128, 'kwargs': {'dataset_name': 'pointmass_hard_rnd_totalsteps=5000'}, 'exploration_schedule': <cs285.env_configs.schedule.ConstantSchedule object at 0x000001ADE45F6D90>, 'log_string': 'PointmassHard-v0_dqn', 'env_name': 'PointmassHard-v0', 'hidden_size': 64, 'learning_rate': 0.001, 'num_layers': 2}\n",
      "rnd_config{'rnd_weight': 1.0, 'total_steps': 5000, 'discount': 0.95, 'env_name': 'PointmassHard-v0', 'exp_name': 'pointmass_hard_rnd', 'dataset_name': 'pointmass_hard_rnd_totalsteps=5000', 'target_update_period': 300, 'clip_grad_norm': None, 'use_double_q': True, 'exploration_schedule': <cs285.env_configs.schedule.ConstantSchedule object at 0x000001ADE45F6D90>, 'log_name': 'PointmassHard-v0_rnd1.0', 'batch_size': 128, 'agent': 'rnd', 'rnd_dim': 5, 'rnd_network_hidden_size': 400, 'rnd_network_learning_rate': 0.001, 'rnd_network_num_layers': 2}\n",
      "########################\n",
      "logging outputs to  C:\\Users\\user\\Colab\\Berkeley_DeepRL_Fall2023\\hw5\\cs285\\scripts\\../../data\\hw5_explore/PointmassHard-v0_rnd1.0_totalsteps=5000\n",
      "########################\n",
      "\n",
      "======================================================================\n",
      "Exploration\n",
      "\n",
      "Generating the dataset for the PointmassHard-v0 environment using algorithm rnd.\n",
      "The results will be stored in datasets/.\n",
      "======================================================================\n",
      "\n",
      "Using CPU.\n"
     ]
    },
    {
     "name": "stderr",
     "output_type": "stream",
     "text": [
      "100%|█████████████████████████████████████████████████████████████████████████████| 5000/5000 [00:26<00:00, 191.37it/s]\n"
     ]
    },
    {
     "name": "stdout",
     "output_type": "stream",
     "text": [
      "Saved dataset to datasets/pointmass_hard_rnd_totalsteps=5000.pkl\n",
      "Saved final heatmap to exploration_visualization\\PointmassHard-v0_rnd1.0_totalsteps=5000.png\n",
      "\n",
      "****************************************************************************************************\n",
      "Namespace(config_file='experiments/exploration/pointmass_hard_rnd.yaml', eval_interval=10000, visualize_interval=1000, num_eval_trajectories=10, seed=1, no_gpu=False, which_gpu=0, log_interval=1, use_reward=False, dataset_dir='datasets/', env_name='', dataset_name='pointmass_hard_rnd_totalsteps=10000', total_steps=10000, log_suffix='totalsteps=10000')\n",
      "dqn_config{'exp_name': 'pointmass_hard_rnd', 'total_steps': 10000, 'discount': 0.95, 'target_update_period': 300, 'clip_grad_norm': None, 'use_double_q': True, 'batch_size': 128, 'kwargs': {'dataset_name': 'pointmass_hard_rnd_totalsteps=10000'}, 'exploration_schedule': <cs285.env_configs.schedule.ConstantSchedule object at 0x000001ADE5212A60>, 'log_string': 'PointmassHard-v0_dqn', 'env_name': 'PointmassHard-v0', 'hidden_size': 64, 'learning_rate': 0.001, 'num_layers': 2}\n",
      "rnd_config{'rnd_weight': 1.0, 'total_steps': 10000, 'discount': 0.95, 'env_name': 'PointmassHard-v0', 'exp_name': 'pointmass_hard_rnd', 'dataset_name': 'pointmass_hard_rnd_totalsteps=10000', 'target_update_period': 300, 'clip_grad_norm': None, 'use_double_q': True, 'exploration_schedule': <cs285.env_configs.schedule.ConstantSchedule object at 0x000001ADE5212A60>, 'log_name': 'PointmassHard-v0_rnd1.0', 'batch_size': 128, 'agent': 'rnd', 'rnd_dim': 5, 'rnd_network_hidden_size': 400, 'rnd_network_learning_rate': 0.001, 'rnd_network_num_layers': 2}\n",
      "########################\n",
      "logging outputs to  C:\\Users\\user\\Colab\\Berkeley_DeepRL_Fall2023\\hw5\\cs285\\scripts\\../../data\\hw5_explore/PointmassHard-v0_rnd1.0_totalsteps=10000\n",
      "########################\n",
      "\n",
      "======================================================================\n",
      "Exploration\n",
      "\n",
      "Generating the dataset for the PointmassHard-v0 environment using algorithm rnd.\n",
      "The results will be stored in datasets/.\n",
      "======================================================================\n",
      "\n",
      "Using CPU.\n"
     ]
    },
    {
     "name": "stderr",
     "output_type": "stream",
     "text": [
      "100%|███████████████████████████████████████████████████████████████████████████| 10000/10000 [00:53<00:00, 187.87it/s]\n"
     ]
    },
    {
     "name": "stdout",
     "output_type": "stream",
     "text": [
      "Saved dataset to datasets/pointmass_hard_rnd_totalsteps=10000.pkl\n",
      "Saved final heatmap to exploration_visualization\\PointmassHard-v0_rnd1.0_totalsteps=10000.png\n",
      "\n",
      "****************************************************************************************************\n",
      "Namespace(config_file='experiments/exploration/pointmass_hard_rnd.yaml', eval_interval=10000, visualize_interval=1000, num_eval_trajectories=10, seed=1, no_gpu=False, which_gpu=0, log_interval=1, use_reward=False, dataset_dir='datasets/', env_name='', dataset_name='pointmass_hard_rnd_totalsteps=20000', total_steps=20000, log_suffix='totalsteps=20000')\n",
      "dqn_config{'exp_name': 'pointmass_hard_rnd', 'total_steps': 20000, 'discount': 0.95, 'target_update_period': 300, 'clip_grad_norm': None, 'use_double_q': True, 'batch_size': 128, 'kwargs': {'dataset_name': 'pointmass_hard_rnd_totalsteps=20000'}, 'exploration_schedule': <cs285.env_configs.schedule.ConstantSchedule object at 0x000001ADDB76E460>, 'log_string': 'PointmassHard-v0_dqn', 'env_name': 'PointmassHard-v0', 'hidden_size': 64, 'learning_rate': 0.001, 'num_layers': 2}\n",
      "rnd_config{'rnd_weight': 1.0, 'total_steps': 20000, 'discount': 0.95, 'env_name': 'PointmassHard-v0', 'exp_name': 'pointmass_hard_rnd', 'dataset_name': 'pointmass_hard_rnd_totalsteps=20000', 'target_update_period': 300, 'clip_grad_norm': None, 'use_double_q': True, 'exploration_schedule': <cs285.env_configs.schedule.ConstantSchedule object at 0x000001ADDB76E460>, 'log_name': 'PointmassHard-v0_rnd1.0', 'batch_size': 128, 'agent': 'rnd', 'rnd_dim': 5, 'rnd_network_hidden_size': 400, 'rnd_network_learning_rate': 0.001, 'rnd_network_num_layers': 2}\n",
      "########################\n",
      "logging outputs to  C:\\Users\\user\\Colab\\Berkeley_DeepRL_Fall2023\\hw5\\cs285\\scripts\\../../data\\hw5_explore/PointmassHard-v0_rnd1.0_totalsteps=20000\n",
      "########################\n",
      "\n",
      "======================================================================\n",
      "Exploration\n",
      "\n",
      "Generating the dataset for the PointmassHard-v0 environment using algorithm rnd.\n",
      "The results will be stored in datasets/.\n",
      "======================================================================\n",
      "\n",
      "Using CPU.\n"
     ]
    },
    {
     "name": "stderr",
     "output_type": "stream",
     "text": [
      "100%|███████████████████████████████████████████████████████████████████████████| 20000/20000 [01:46<00:00, 188.40it/s]\n"
     ]
    },
    {
     "name": "stdout",
     "output_type": "stream",
     "text": [
      "Saved dataset to datasets/pointmass_hard_rnd_totalsteps=20000.pkl\n",
      "Saved final heatmap to exploration_visualization\\PointmassHard-v0_rnd1.0_totalsteps=20000.png\n",
      "\n",
      "****************************************************************************************************\n"
     ]
    }
   ],
   "source": [
    "# exploration\n",
    "total_steps_list = [1000, 5000, 10000, 20000]\n",
    "for total_steps in total_steps_list:\n",
    "    %run cs285/scripts/run_hw5_explore.py \\\n",
    "        -cfg experiments/exploration/pointmass_hard_rnd.yaml \\\n",
    "        --dataset_dir datasets/ \\\n",
    "        --total_steps \"$total_steps\" --log_suffix totalsteps=\"$total_steps\" \\\n",
    "        --dataset_name pointmass_hard_rnd_totalsteps=\"$total_steps\"\n",
    "    print('\\n', '*' * 100, sep='')"
   ]
  },
  {
   "cell_type": "code",
   "execution_count": 4,
   "id": "d5760eb7-719d-424d-bb23-8af93720ceab",
   "metadata": {},
   "outputs": [
    {
     "name": "stdout",
     "output_type": "stream",
     "text": [
      "Namespace(config_file='experiments/offline/pointmass_hard_cql.yaml', eval_interval=10000, num_eval_trajectories=10, num_render_trajectories=0, seed=1, no_gpu=False, which_gpu=0, log_interval=1, dataset_dir='datasets', env_name='', dataset_name='pointmass_hard_rnd_totalsteps=1000', log_suffix='exploresteps=1000')\n",
      "dqn_config{'exp_name': 'pointmass_hard_cql', 'total_steps': 50000, 'discount': 0.95, 'target_update_period': 300, 'clip_grad_norm': None, 'use_double_q': True, 'batch_size': 128, 'kwargs': {'training_steps': 200000, 'dataset_name': 'pointmass_hard_rnd_totalsteps=1000'}, 'exploration_schedule': <cs285.env_configs.schedule.ConstantSchedule object at 0x000001ADE9378730>, 'log_string': 'PointmassHard-v0_dqn', 'env_name': 'PointmassHard-v0', 'hidden_size': 64, 'learning_rate': 0.001, 'num_layers': 2}\n",
      "cql_config{'cql_alpha': 0.1, 'cql_temperature': 1.0, 'total_steps': 50000, 'discount': 0.95, 'env_name': 'PointmassHard-v0', 'exp_name': 'pointmass_hard_cql', 'use_double_q': True, 'training_steps': 200000, 'dataset_name': 'pointmass_hard_rnd_totalsteps=1000', 'hidden_size': 64, 'num_layers': 2, 'target_update_period': 300, 'clip_grad_norm': None, 'exploration_schedule': <cs285.env_configs.schedule.ConstantSchedule object at 0x000001ADE9378730>, 'log_name': 'PointmassHard-v0_cql0.1', 'batch_size': 128, 'agent': 'cql'}\n",
      "########################\n",
      "logging outputs to  C:\\Users\\user\\Colab\\Berkeley_DeepRL_Fall2023\\hw5\\cs285\\scripts\\../../data\\hw5_offline_PointmassHard-v0_cql0.1_exploresteps=1000\n",
      "########################\n",
      "Using CPU.\n"
     ]
    },
    {
     "name": "stderr",
     "output_type": "stream",
     "text": [
      "100%|█████████████████████████████████████████████████████████████████████████| 200000/200000 [06:59<00:00, 477.32it/s]\n"
     ]
    },
    {
     "name": "stdout",
     "output_type": "stream",
     "text": [
      "Average eval return: -100.0\n",
      "\n",
      "****************************************************************************************************\n",
      "Namespace(config_file='experiments/offline/pointmass_hard_cql.yaml', eval_interval=10000, num_eval_trajectories=10, num_render_trajectories=0, seed=1, no_gpu=False, which_gpu=0, log_interval=1, dataset_dir='datasets', env_name='', dataset_name='pointmass_hard_rnd_totalsteps=5000', log_suffix='exploresteps=5000')\n",
      "dqn_config{'exp_name': 'pointmass_hard_cql', 'total_steps': 50000, 'discount': 0.95, 'target_update_period': 300, 'clip_grad_norm': None, 'use_double_q': True, 'batch_size': 128, 'kwargs': {'training_steps': 200000, 'dataset_name': 'pointmass_hard_rnd_totalsteps=5000'}, 'exploration_schedule': <cs285.env_configs.schedule.ConstantSchedule object at 0x000001ADE4CBA880>, 'log_string': 'PointmassHard-v0_dqn', 'env_name': 'PointmassHard-v0', 'hidden_size': 64, 'learning_rate': 0.001, 'num_layers': 2}\n",
      "cql_config{'cql_alpha': 0.1, 'cql_temperature': 1.0, 'total_steps': 50000, 'discount': 0.95, 'env_name': 'PointmassHard-v0', 'exp_name': 'pointmass_hard_cql', 'use_double_q': True, 'training_steps': 200000, 'dataset_name': 'pointmass_hard_rnd_totalsteps=5000', 'hidden_size': 64, 'num_layers': 2, 'target_update_period': 300, 'clip_grad_norm': None, 'exploration_schedule': <cs285.env_configs.schedule.ConstantSchedule object at 0x000001ADE4CBA880>, 'log_name': 'PointmassHard-v0_cql0.1', 'batch_size': 128, 'agent': 'cql'}\n",
      "########################\n",
      "logging outputs to  C:\\Users\\user\\Colab\\Berkeley_DeepRL_Fall2023\\hw5\\cs285\\scripts\\../../data\\hw5_offline_PointmassHard-v0_cql0.1_exploresteps=5000\n",
      "########################\n",
      "Using CPU.\n"
     ]
    },
    {
     "name": "stderr",
     "output_type": "stream",
     "text": [
      "100%|█████████████████████████████████████████████████████████████████████████| 200000/200000 [06:58<00:00, 477.82it/s]\n"
     ]
    },
    {
     "name": "stdout",
     "output_type": "stream",
     "text": [
      "Average eval return: -100.0\n",
      "\n",
      "****************************************************************************************************\n",
      "Namespace(config_file='experiments/offline/pointmass_hard_cql.yaml', eval_interval=10000, num_eval_trajectories=10, num_render_trajectories=0, seed=1, no_gpu=False, which_gpu=0, log_interval=1, dataset_dir='datasets', env_name='', dataset_name='pointmass_hard_rnd_totalsteps=10000', log_suffix='exploresteps=10000')\n",
      "dqn_config{'exp_name': 'pointmass_hard_cql', 'total_steps': 50000, 'discount': 0.95, 'target_update_period': 300, 'clip_grad_norm': None, 'use_double_q': True, 'batch_size': 128, 'kwargs': {'training_steps': 200000, 'dataset_name': 'pointmass_hard_rnd_totalsteps=10000'}, 'exploration_schedule': <cs285.env_configs.schedule.ConstantSchedule object at 0x000001ADE5F24F10>, 'log_string': 'PointmassHard-v0_dqn', 'env_name': 'PointmassHard-v0', 'hidden_size': 64, 'learning_rate': 0.001, 'num_layers': 2}\n",
      "cql_config{'cql_alpha': 0.1, 'cql_temperature': 1.0, 'total_steps': 50000, 'discount': 0.95, 'env_name': 'PointmassHard-v0', 'exp_name': 'pointmass_hard_cql', 'use_double_q': True, 'training_steps': 200000, 'dataset_name': 'pointmass_hard_rnd_totalsteps=10000', 'hidden_size': 64, 'num_layers': 2, 'target_update_period': 300, 'clip_grad_norm': None, 'exploration_schedule': <cs285.env_configs.schedule.ConstantSchedule object at 0x000001ADE5F24F10>, 'log_name': 'PointmassHard-v0_cql0.1', 'batch_size': 128, 'agent': 'cql'}\n",
      "########################\n",
      "logging outputs to  C:\\Users\\user\\Colab\\Berkeley_DeepRL_Fall2023\\hw5\\cs285\\scripts\\../../data\\hw5_offline_PointmassHard-v0_cql0.1_exploresteps=10000\n",
      "########################\n",
      "Using CPU.\n"
     ]
    },
    {
     "name": "stderr",
     "output_type": "stream",
     "text": [
      "100%|█████████████████████████████████████████████████████████████████████████| 200000/200000 [06:55<00:00, 481.23it/s]\n"
     ]
    },
    {
     "name": "stdout",
     "output_type": "stream",
     "text": [
      "Average eval return: -99.0\n",
      "\n",
      "****************************************************************************************************\n",
      "Namespace(config_file='experiments/offline/pointmass_hard_cql.yaml', eval_interval=10000, num_eval_trajectories=10, num_render_trajectories=0, seed=1, no_gpu=False, which_gpu=0, log_interval=1, dataset_dir='datasets', env_name='', dataset_name='pointmass_hard_rnd_totalsteps=20000', log_suffix='exploresteps=20000')\n",
      "dqn_config{'exp_name': 'pointmass_hard_cql', 'total_steps': 50000, 'discount': 0.95, 'target_update_period': 300, 'clip_grad_norm': None, 'use_double_q': True, 'batch_size': 128, 'kwargs': {'training_steps': 200000, 'dataset_name': 'pointmass_hard_rnd_totalsteps=20000'}, 'exploration_schedule': <cs285.env_configs.schedule.ConstantSchedule object at 0x000001ADE56A6190>, 'log_string': 'PointmassHard-v0_dqn', 'env_name': 'PointmassHard-v0', 'hidden_size': 64, 'learning_rate': 0.001, 'num_layers': 2}\n",
      "cql_config{'cql_alpha': 0.1, 'cql_temperature': 1.0, 'total_steps': 50000, 'discount': 0.95, 'env_name': 'PointmassHard-v0', 'exp_name': 'pointmass_hard_cql', 'use_double_q': True, 'training_steps': 200000, 'dataset_name': 'pointmass_hard_rnd_totalsteps=20000', 'hidden_size': 64, 'num_layers': 2, 'target_update_period': 300, 'clip_grad_norm': None, 'exploration_schedule': <cs285.env_configs.schedule.ConstantSchedule object at 0x000001ADE56A6190>, 'log_name': 'PointmassHard-v0_cql0.1', 'batch_size': 128, 'agent': 'cql'}\n",
      "########################\n",
      "logging outputs to  C:\\Users\\user\\Colab\\Berkeley_DeepRL_Fall2023\\hw5\\cs285\\scripts\\../../data\\hw5_offline_PointmassHard-v0_cql0.1_exploresteps=20000\n",
      "########################\n",
      "Using CPU.\n"
     ]
    },
    {
     "name": "stderr",
     "output_type": "stream",
     "text": [
      "100%|█████████████████████████████████████████████████████████████████████████| 200000/200000 [06:55<00:00, 481.26it/s]"
     ]
    },
    {
     "name": "stdout",
     "output_type": "stream",
     "text": [
      "Average eval return: -56.900001525878906\n",
      "\n",
      "****************************************************************************************************\n"
     ]
    },
    {
     "name": "stderr",
     "output_type": "stream",
     "text": [
      "\n"
     ]
    }
   ],
   "source": [
    "# data ablations, CQL\n",
    "for total_steps in total_steps_list:\n",
    "    %run ./cs285/scripts/run_hw5_offline.py \\\n",
    "        -cfg experiments/offline/pointmass_hard_cql.yaml \\\n",
    "        --dataset_dir datasets \\\n",
    "        --log_suffix exploresteps=\"$total_steps\" \\\n",
    "        --dataset_name pointmass_hard_rnd_totalsteps=\"$total_steps\"\n",
    "    print('\\n', '*' * 100, sep='')"
   ]
  },
  {
   "cell_type": "markdown",
   "id": "958ddc6c-3c44-4c81-8302-16c5f46276a0",
   "metadata": {},
   "source": [
    "I also run DQN, AWAC and IQL on PointmassHard (with explore steps=dataset size=10000), for comparison with finetune training."
   ]
  },
  {
   "cell_type": "code",
   "execution_count": 5,
   "id": "7db7a628-8973-43d3-a7d3-a7cedf1e445d",
   "metadata": {},
   "outputs": [
    {
     "name": "stdout",
     "output_type": "stream",
     "text": [
      "Namespace(config_file='experiments/offline/pointmass_hard_cql.yaml', eval_interval=10000, num_eval_trajectories=10, num_render_trajectories=0, seed=1, no_gpu=False, which_gpu=0, log_interval=1, dataset_dir='datasets', env_name='', dataset_name='', log_suffix='')\n",
      "dqn_config{'exp_name': 'pointmass_hard_cql', 'total_steps': 50000, 'discount': 0.95, 'target_update_period': 300, 'clip_grad_norm': None, 'use_double_q': True, 'batch_size': 128, 'kwargs': {'training_steps': 200000, 'dataset_name': 'pointmass_hard_rnd'}, 'exploration_schedule': <cs285.env_configs.schedule.ConstantSchedule object at 0x000001ADE950F700>, 'log_string': 'PointmassHard-v0_dqn', 'env_name': 'PointmassHard-v0', 'hidden_size': 64, 'learning_rate': 0.001, 'num_layers': 2}\n",
      "cql_config{'cql_alpha': 0.1, 'cql_temperature': 1.0, 'total_steps': 50000, 'discount': 0.95, 'env_name': 'PointmassHard-v0', 'exp_name': 'pointmass_hard_cql', 'use_double_q': True, 'training_steps': 200000, 'dataset_name': 'pointmass_hard_rnd', 'hidden_size': 64, 'num_layers': 2, 'target_update_period': 300, 'clip_grad_norm': None, 'exploration_schedule': <cs285.env_configs.schedule.ConstantSchedule object at 0x000001ADE950F700>, 'log_name': 'PointmassHard-v0_cql0.1', 'batch_size': 128, 'agent': 'cql'}\n",
      "########################\n",
      "logging outputs to  C:\\Users\\user\\Colab\\Berkeley_DeepRL_Fall2023\\hw5\\cs285\\scripts\\../../data\\hw5_offline_PointmassHard-v0_cql0.1\n",
      "########################\n",
      "Using CPU.\n"
     ]
    },
    {
     "name": "stderr",
     "output_type": "stream",
     "text": [
      "100%|█████████████████████████████████████████████████████████████████████████| 200000/200000 [07:01<00:00, 474.69it/s]"
     ]
    },
    {
     "name": "stdout",
     "output_type": "stream",
     "text": [
      "Average eval return: -99.0\n"
     ]
    },
    {
     "name": "stderr",
     "output_type": "stream",
     "text": [
      "\n"
     ]
    }
   ],
   "source": [
    "# explore total_steps=10000 (default)\n",
    "%run ./cs285/scripts/run_hw5_offline.py \\\n",
    "    -cfg experiments/offline/pointmass_hard_cql.yaml \\\n",
    "    --dataset_dir datasets"
   ]
  },
  {
   "cell_type": "code",
   "execution_count": 6,
   "id": "9c16b8ec-d521-4709-b4c3-82ff09dd37a1",
   "metadata": {},
   "outputs": [
    {
     "name": "stdout",
     "output_type": "stream",
     "text": [
      "Namespace(config_file='experiments/offline/pointmass_hard_dqn.yaml', eval_interval=10000, num_eval_trajectories=10, num_render_trajectories=0, seed=1, no_gpu=False, which_gpu=0, log_interval=1, dataset_dir='datasets', env_name='', dataset_name='', log_suffix='')\n",
      "dqn_config{'exp_name': 'pointmass_hard_dqn', 'total_steps': 1000000, 'discount': 0.95, 'target_update_period': 300, 'clip_grad_norm': None, 'use_double_q': True, 'batch_size': 128, 'kwargs': {'training_steps': 200000, 'dataset_name': 'pointmass_hard_rnd'}, 'exploration_schedule': <cs285.env_configs.schedule.ConstantSchedule object at 0x000001ADE43FED60>, 'log_string': 'PointmassHard-v0_dqn', 'env_name': 'PointmassHard-v0', 'hidden_size': 64, 'learning_rate': 0.001, 'num_layers': 2}\n",
      "########################\n",
      "logging outputs to  C:\\Users\\user\\Colab\\Berkeley_DeepRL_Fall2023\\hw5\\cs285\\scripts\\../../data\\hw5_offline_PointmassHard-v0_dqn\n",
      "########################\n",
      "Using CPU.\n"
     ]
    },
    {
     "name": "stderr",
     "output_type": "stream",
     "text": [
      "100%|█████████████████████████████████████████████████████████████████████████| 200000/200000 [06:32<00:00, 508.97it/s]"
     ]
    },
    {
     "name": "stdout",
     "output_type": "stream",
     "text": [
      "Average eval return: -100.0\n"
     ]
    },
    {
     "name": "stderr",
     "output_type": "stream",
     "text": [
      "\n"
     ]
    }
   ],
   "source": [
    "%run ./cs285/scripts/run_hw5_offline.py \\\n",
    "    -cfg experiments/offline/pointmass_hard_dqn.yaml \\\n",
    "    --dataset_dir datasets"
   ]
  },
  {
   "cell_type": "code",
   "execution_count": 7,
   "id": "c47ef83e-223e-4821-9382-e090ece03563",
   "metadata": {},
   "outputs": [
    {
     "name": "stdout",
     "output_type": "stream",
     "text": [
      "Namespace(config_file='experiments/offline/pointmass_hard_awac.yaml', eval_interval=10000, num_eval_trajectories=10, num_render_trajectories=0, seed=1, no_gpu=False, which_gpu=0, log_interval=1, dataset_dir='datasets', env_name='', dataset_name='', log_suffix='')\n",
      "dqn_config{'exp_name': 'pointmass_hard_awac', 'total_steps': 50000, 'discount': 0.95, 'target_update_period': 300, 'clip_grad_norm': None, 'use_double_q': True, 'batch_size': 128, 'kwargs': {'training_steps': 200000, 'dataset_name': 'pointmass_hard_rnd'}, 'exploration_schedule': <cs285.env_configs.schedule.ConstantSchedule object at 0x000001ADE56900D0>, 'log_string': 'PointmassHard-v0_dqn', 'env_name': 'PointmassHard-v0', 'hidden_size': 64, 'learning_rate': 0.001, 'num_layers': 2}\n",
      "awac_config{'total_steps': 50000, 'discount': 0.95, 'temperature': 10.0, 'env_name': 'PointmassHard-v0', 'exp_name': 'pointmass_hard_awac', 'training_steps': 200000, 'dataset_name': 'pointmass_hard_rnd', 'hidden_size': 64, 'num_layers': 2, 'target_update_period': 300, 'clip_grad_norm': None, 'use_double_q': True, 'exploration_schedule': <cs285.env_configs.schedule.ConstantSchedule object at 0x000001ADE56900D0>, 'log_name': 'PointmassHard-v0_awac10.0', 'batch_size': 128, 'agent': 'awac', 'actor_hidden_size': 128, 'actor_learning_rate': 0.0003, 'actor_num_layers': 2}\n",
      "########################\n",
      "logging outputs to  C:\\Users\\user\\Colab\\Berkeley_DeepRL_Fall2023\\hw5\\cs285\\scripts\\../../data\\hw5_offline_PointmassHard-v0_awac10.0\n",
      "########################\n",
      "Using CPU.\n"
     ]
    },
    {
     "name": "stderr",
     "output_type": "stream",
     "text": [
      "100%|█████████████████████████████████████████████████████████████████████████| 200000/200000 [12:01<00:00, 277.03it/s]"
     ]
    },
    {
     "name": "stdout",
     "output_type": "stream",
     "text": [
      "Average eval return: -100.0\n"
     ]
    },
    {
     "name": "stderr",
     "output_type": "stream",
     "text": [
      "\n"
     ]
    }
   ],
   "source": [
    "%run ./cs285/scripts/run_hw5_offline.py \\\n",
    "    -cfg experiments/offline/pointmass_hard_awac.yaml \\\n",
    "    --dataset_dir datasets"
   ]
  },
  {
   "cell_type": "code",
   "execution_count": 8,
   "id": "de4ac348-10c8-46ca-8efb-ec0813bb23b4",
   "metadata": {},
   "outputs": [
    {
     "name": "stdout",
     "output_type": "stream",
     "text": [
      "Namespace(config_file='experiments/offline/pointmass_hard_iql.yaml', eval_interval=10000, num_eval_trajectories=10, num_render_trajectories=0, seed=1, no_gpu=False, which_gpu=0, log_interval=1, dataset_dir='datasets', env_name='', dataset_name='', log_suffix='')\n",
      "dqn_config{'exp_name': 'pointmass_hard_iql', 'total_steps': 50000, 'discount': 0.95, 'target_update_period': 300, 'clip_grad_norm': None, 'use_double_q': True, 'batch_size': 128, 'kwargs': {'training_steps': 200000, 'dataset_name': 'pointmass_hard_rnd'}, 'exploration_schedule': <cs285.env_configs.schedule.ConstantSchedule object at 0x000001ADE71A3C10>, 'log_string': 'PointmassHard-v0_dqn', 'env_name': 'PointmassHard-v0', 'hidden_size': 64, 'learning_rate': 0.0003, 'num_layers': 2}\n",
      "awac_config{'total_steps': 50000, 'discount': 0.95, 'temperature': 10.0, 'hidden_size': 64, 'num_layers': 2, 'learning_rate': 0.0003, 'env_name': 'PointmassHard-v0', 'exp_name': 'pointmass_hard_iql', 'training_steps': 200000, 'dataset_name': 'pointmass_hard_rnd', 'target_update_period': 300, 'clip_grad_norm': None, 'use_double_q': True, 'exploration_schedule': <cs285.env_configs.schedule.ConstantSchedule object at 0x000001ADE71A3C10>, 'log_name': 'PointmassHard-v0_awac10.0', 'batch_size': 128, 'agent': 'awac', 'actor_hidden_size': 128, 'actor_learning_rate': 0.0003, 'actor_num_layers': 2}\n",
      "iql_config{'total_steps': 50000, 'discount': 0.95, 'temperature': 10.0, 'expectile': 0.99, 'env_name': 'PointmassHard-v0', 'exp_name': 'pointmass_hard_iql', 'training_steps': 200000, 'dataset_name': 'pointmass_hard_rnd', 'target_update_period': 300, 'clip_grad_norm': None, 'use_double_q': True, 'exploration_schedule': <cs285.env_configs.schedule.ConstantSchedule object at 0x000001ADE71A3C10>, 'log_name': 'PointmassHard-v0_iql0.99_temp10.0', 'batch_size': 128, 'agent': 'iql', 'hidden_size': 64, 'learning_rate': 0.0003, 'num_layers': 2}\n",
      "########################\n",
      "logging outputs to  C:\\Users\\user\\Colab\\Berkeley_DeepRL_Fall2023\\hw5\\cs285\\scripts\\../../data\\hw5_offline_PointmassHard-v0_iql0.99_temp10.0\n",
      "########################\n",
      "Using CPU.\n"
     ]
    },
    {
     "name": "stderr",
     "output_type": "stream",
     "text": [
      "100%|█████████████████████████████████████████████████████████████████████████| 200000/200000 [16:42<00:00, 199.41it/s]"
     ]
    },
    {
     "name": "stdout",
     "output_type": "stream",
     "text": [
      "Average eval return: -100.0\n"
     ]
    },
    {
     "name": "stderr",
     "output_type": "stream",
     "text": [
      "\n"
     ]
    }
   ],
   "source": [
    "%run ./cs285/scripts/run_hw5_offline.py \\\n",
    "    -cfg experiments/offline/pointmass_hard_iql.yaml \\\n",
    "    --dataset_dir datasets"
   ]
  },
  {
   "cell_type": "code",
   "execution_count": null,
   "id": "ca1b029b-20af-4530-afca-a07282968bcb",
   "metadata": {},
   "outputs": [],
   "source": []
  },
  {
   "cell_type": "code",
   "execution_count": null,
   "id": "51d3a0a0-81bc-446f-b583-51fe34af7612",
   "metadata": {},
   "outputs": [],
   "source": [
    "%load_ext tensorboard\n",
    "%tensorboard --logdir data/"
   ]
  },
  {
   "cell_type": "markdown",
   "id": "e9761705-241f-44b8-a11a-4b617c31d342",
   "metadata": {},
   "source": [
    "# 5 Online Fine-Tuning"
   ]
  },
  {
   "cell_type": "markdown",
   "id": "4d259662-acdb-4b2b-abf4-b69a4729da9b",
   "metadata": {},
   "source": [
    "So far we only support training an algorithm purely offline, using data collected in a previous run. In run_hw5_finetune.py, implement online fine-tuning by first loading an offline dataset and taking a fixed number of training steps with an offline RL algorithm of your choice (IQL, CQL, or AWAC) and then switching to online learning while keeping all of the data in the dataset to initialize your replay buffer.\n",
    "\n",
    "Report results as evaluation returns, clearly indicating the point at which online fine-tuning begins. An example configuration is provided for you in experiments/finetune/pointmass_hard_cql_finetune.yaml.\n",
    "\n",
    "* With online fine-tuning, your policy should be able to (stably) reach high reward (at least -20) on PointmassHard-v0."
   ]
  },
  {
   "cell_type": "markdown",
   "id": "ad52ee2e-760d-430d-b3c7-33cfcf51aff8",
   "metadata": {},
   "source": [
    "I run DQN, CQL, AWAC and IQL on online fine-tuning of PointmassHard."
   ]
  },
  {
   "cell_type": "code",
   "execution_count": 10,
   "id": "c74bd90c-f4e3-4f72-b4f4-f638de6ece9c",
   "metadata": {},
   "outputs": [
    {
     "name": "stdout",
     "output_type": "stream",
     "text": [
      "Namespace(config_file='experiments/finetuning/pointmass_hard_dqn_finetune.yaml', eval_interval=10000, visualize_interval=1000, num_eval_trajectories=10, seed=1, no_gpu=False, which_gpu=0, log_interval=1, use_reward=False, dataset_dir='datasets', env_name='', dataset_name='')\n",
      "dqn_config{'exp_name': 'pointmass_hard_dqn', 'total_steps': 200000, 'discount': 0.95, 'target_update_period': 300, 'clip_grad_norm': None, 'use_double_q': True, 'batch_size': 128, 'kwargs': {'offline_steps': 100000, 'dataset_name': 'pointmass_hard_rnd'}, 'exploration_schedule': <cs285.env_configs.schedule.ConstantSchedule object at 0x000001ADEA06E760>, 'log_string': 'PointmassHard-v0_dqn', 'env_name': 'PointmassHard-v0', 'hidden_size': 64, 'learning_rate': 0.001, 'num_layers': 2}\n",
      "########################\n",
      "logging outputs to  C:\\Users\\user\\Colab\\Berkeley_DeepRL_Fall2023\\hw5\\cs285\\scripts\\../../data\\hw5_finetune_PointmassHard-v0_dqn\n",
      "########################\n",
      "Using CPU.\n",
      "dataset size: 10000\n",
      "buffer size: 200000\n"
     ]
    },
    {
     "name": "stderr",
     "output_type": "stream",
     "text": [
      "100%|█████████████████████████████████████████████████████████████████████████| 200000/200000 [08:13<00:00, 404.99it/s]\n"
     ]
    },
    {
     "name": "stdout",
     "output_type": "stream",
     "text": [
      "Average eval return: -33.5\n",
      "Saved final heatmap to exploration_visualization\\finetune_PointmassHard-v0_dqn.png\n",
      "Saved final heatmap to exploration_visualization\\finetune_totalsteps_PointmassHard-v0_dqn.png\n"
     ]
    }
   ],
   "source": [
    "%run ./cs285/scripts/run_hw5_finetune.py \\\n",
    "    -cfg experiments/finetuning/pointmass_hard_dqn_finetune.yaml \\\n",
    "    --dataset_dir datasets"
   ]
  },
  {
   "cell_type": "code",
   "execution_count": 11,
   "id": "b90ee35e-df1e-4840-a91b-1633145ef56a",
   "metadata": {},
   "outputs": [
    {
     "name": "stdout",
     "output_type": "stream",
     "text": [
      "Namespace(config_file='experiments/finetuning/pointmass_hard_cql_finetune.yaml', eval_interval=10000, visualize_interval=1000, num_eval_trajectories=10, seed=1, no_gpu=False, which_gpu=0, log_interval=1, use_reward=False, dataset_dir='datasets', env_name='', dataset_name='')\n",
      "dqn_config{'exp_name': 'pointmass_hard_cql', 'total_steps': 200000, 'discount': 0.95, 'target_update_period': 300, 'clip_grad_norm': None, 'use_double_q': True, 'batch_size': 128, 'kwargs': {'offline_steps': 100000, 'dataset_name': 'pointmass_hard_rnd'}, 'exploration_schedule': <cs285.env_configs.schedule.ConstantSchedule object at 0x000001ADE6FE3DF0>, 'log_string': 'PointmassHard-v0_dqn', 'env_name': 'PointmassHard-v0', 'hidden_size': 64, 'learning_rate': 0.001, 'num_layers': 2}\n",
      "cql_config{'cql_alpha': 0.1, 'cql_temperature': 1.0, 'total_steps': 200000, 'discount': 0.95, 'env_name': 'PointmassHard-v0', 'exp_name': 'pointmass_hard_cql', 'use_double_q': True, 'offline_steps': 100000, 'dataset_name': 'pointmass_hard_rnd', 'hidden_size': 64, 'num_layers': 2, 'target_update_period': 300, 'clip_grad_norm': None, 'exploration_schedule': <cs285.env_configs.schedule.ConstantSchedule object at 0x000001ADE6FE3DF0>, 'log_name': 'PointmassHard-v0_cql0.1', 'batch_size': 128, 'agent': 'cql'}\n",
      "########################\n",
      "logging outputs to  C:\\Users\\user\\Colab\\Berkeley_DeepRL_Fall2023\\hw5\\cs285\\scripts\\../../data\\hw5_finetune_PointmassHard-v0_cql0.1\n",
      "########################\n",
      "Using CPU.\n",
      "dataset size: 10000\n",
      "buffer size: 200000\n"
     ]
    },
    {
     "name": "stderr",
     "output_type": "stream",
     "text": [
      "100%|█████████████████████████████████████████████████████████████████████████| 200000/200000 [08:28<00:00, 392.96it/s]\n"
     ]
    },
    {
     "name": "stdout",
     "output_type": "stream",
     "text": [
      "Average eval return: -33.400001525878906\n",
      "Saved final heatmap to exploration_visualization\\finetune_PointmassHard-v0_cql0.1.png\n",
      "Saved final heatmap to exploration_visualization\\finetune_totalsteps_PointmassHard-v0_cql0.1.png\n"
     ]
    }
   ],
   "source": [
    "%run ./cs285/scripts/run_hw5_finetune.py \\\n",
    "    -cfg experiments/finetuning/pointmass_hard_cql_finetune.yaml \\\n",
    "    --dataset_dir datasets"
   ]
  },
  {
   "cell_type": "code",
   "execution_count": 12,
   "id": "339741e5-f553-4787-95d6-c9851a0f65b5",
   "metadata": {},
   "outputs": [
    {
     "name": "stdout",
     "output_type": "stream",
     "text": [
      "Namespace(config_file='experiments/finetuning/pointmass_hard_awac_finetune.yaml', eval_interval=10000, visualize_interval=1000, num_eval_trajectories=10, seed=1, no_gpu=False, which_gpu=0, log_interval=1, use_reward=False, dataset_dir='datasets', env_name='', dataset_name='')\n",
      "dqn_config{'exp_name': 'pointmass_hard_awac', 'total_steps': 200000, 'discount': 0.95, 'target_update_period': 300, 'clip_grad_norm': None, 'use_double_q': True, 'batch_size': 128, 'kwargs': {'offline_steps': 100000, 'dataset_name': 'pointmass_hard_rnd'}, 'exploration_schedule': <cs285.env_configs.schedule.ConstantSchedule object at 0x000001ADE7590070>, 'log_string': 'PointmassHard-v0_dqn', 'env_name': 'PointmassHard-v0', 'hidden_size': 64, 'learning_rate': 0.001, 'num_layers': 2}\n",
      "awac_config{'total_steps': 200000, 'discount': 0.95, 'temperature': 10.0, 'env_name': 'PointmassHard-v0', 'exp_name': 'pointmass_hard_awac', 'use_double_q': True, 'offline_steps': 100000, 'dataset_name': 'pointmass_hard_rnd', 'hidden_size': 64, 'num_layers': 2, 'target_update_period': 300, 'clip_grad_norm': None, 'exploration_schedule': <cs285.env_configs.schedule.ConstantSchedule object at 0x000001ADE7590070>, 'log_name': 'PointmassHard-v0_awac10.0', 'batch_size': 128, 'agent': 'awac', 'actor_hidden_size': 128, 'actor_learning_rate': 0.0003, 'actor_num_layers': 2}\n",
      "########################\n",
      "logging outputs to  C:\\Users\\user\\Colab\\Berkeley_DeepRL_Fall2023\\hw5\\cs285\\scripts\\../../data\\hw5_finetune_PointmassHard-v0_awac10.0\n",
      "########################\n",
      "Using CPU.\n",
      "dataset size: 10000\n",
      "buffer size: 200000\n"
     ]
    },
    {
     "name": "stderr",
     "output_type": "stream",
     "text": [
      "100%|█████████████████████████████████████████████████████████████████████████| 200000/200000 [14:08<00:00, 235.74it/s]\n"
     ]
    },
    {
     "name": "stdout",
     "output_type": "stream",
     "text": [
      "Average eval return: -43.29999923706055\n",
      "Saved final heatmap to exploration_visualization\\finetune_PointmassHard-v0_awac10.0.png\n",
      "Saved final heatmap to exploration_visualization\\finetune_totalsteps_PointmassHard-v0_awac10.0.png\n"
     ]
    }
   ],
   "source": [
    "%run ./cs285/scripts/run_hw5_finetune.py \\\n",
    "    -cfg experiments/finetuning/pointmass_hard_awac_finetune.yaml \\\n",
    "    --dataset_dir datasets"
   ]
  },
  {
   "cell_type": "code",
   "execution_count": 13,
   "id": "344eeac2-317f-478d-a45a-7e066c8031f2",
   "metadata": {},
   "outputs": [
    {
     "name": "stdout",
     "output_type": "stream",
     "text": [
      "Namespace(config_file='experiments/finetuning/pointmass_hard_iql_finetune.yaml', eval_interval=10000, visualize_interval=1000, num_eval_trajectories=10, seed=1, no_gpu=False, which_gpu=0, log_interval=1, use_reward=False, dataset_dir='datasets', env_name='', dataset_name='')\n",
      "dqn_config{'exp_name': 'pointmass_hard_iql', 'total_steps': 200000, 'discount': 0.95, 'target_update_period': 300, 'clip_grad_norm': None, 'use_double_q': True, 'batch_size': 128, 'kwargs': {'offline_steps': 100000, 'dataset_name': 'pointmass_hard_rnd'}, 'exploration_schedule': <cs285.env_configs.schedule.ConstantSchedule object at 0x000001ADE9876DC0>, 'log_string': 'PointmassHard-v0_dqn', 'env_name': 'PointmassHard-v0', 'hidden_size': 64, 'learning_rate': 0.0003, 'num_layers': 2}\n",
      "awac_config{'total_steps': 200000, 'discount': 0.95, 'temperature': 10.0, 'hidden_size': 64, 'num_layers': 2, 'learning_rate': 0.0003, 'env_name': 'PointmassHard-v0', 'exp_name': 'pointmass_hard_iql', 'use_double_q': True, 'offline_steps': 100000, 'dataset_name': 'pointmass_hard_rnd', 'target_update_period': 300, 'clip_grad_norm': None, 'exploration_schedule': <cs285.env_configs.schedule.ConstantSchedule object at 0x000001ADE9876DC0>, 'log_name': 'PointmassHard-v0_awac10.0', 'batch_size': 128, 'agent': 'awac', 'actor_hidden_size': 128, 'actor_learning_rate': 0.0003, 'actor_num_layers': 2}\n",
      "iql_config{'total_steps': 200000, 'discount': 0.95, 'temperature': 10.0, 'expectile': 0.99, 'env_name': 'PointmassHard-v0', 'exp_name': 'pointmass_hard_iql', 'use_double_q': True, 'offline_steps': 100000, 'dataset_name': 'pointmass_hard_rnd', 'target_update_period': 300, 'clip_grad_norm': None, 'exploration_schedule': <cs285.env_configs.schedule.ConstantSchedule object at 0x000001ADE9876DC0>, 'log_name': 'PointmassHard-v0_iql0.99_temp10.0', 'batch_size': 128, 'agent': 'iql', 'hidden_size': 64, 'learning_rate': 0.0003, 'num_layers': 2}\n",
      "########################\n",
      "logging outputs to  C:\\Users\\user\\Colab\\Berkeley_DeepRL_Fall2023\\hw5\\cs285\\scripts\\../../data\\hw5_finetune_PointmassHard-v0_iql0.99_temp10.0\n",
      "########################\n",
      "Using CPU.\n",
      "dataset size: 10000\n",
      "buffer size: 200000\n"
     ]
    },
    {
     "name": "stderr",
     "output_type": "stream",
     "text": [
      "100%|█████████████████████████████████████████████████████████████████████████| 200000/200000 [19:08<00:00, 174.16it/s]\n"
     ]
    },
    {
     "name": "stdout",
     "output_type": "stream",
     "text": [
      "Average eval return: -37.900001525878906\n",
      "Saved final heatmap to exploration_visualization\\finetune_PointmassHard-v0_iql0.99_temp10.0.png\n",
      "Saved final heatmap to exploration_visualization\\finetune_totalsteps_PointmassHard-v0_iql0.99_temp10.0.png\n"
     ]
    }
   ],
   "source": [
    "%run ./cs285/scripts/run_hw5_finetune.py \\\n",
    "    -cfg experiments/finetuning/pointmass_hard_iql_finetune.yaml \\\n",
    "    --dataset_dir datasets"
   ]
  },
  {
   "cell_type": "code",
   "execution_count": null,
   "id": "22f67037-f110-4ab8-8d3d-051177bcbd32",
   "metadata": {},
   "outputs": [],
   "source": []
  },
  {
   "cell_type": "code",
   "execution_count": null,
   "id": "e28321d5-92fb-4396-a971-9b9f37543774",
   "metadata": {},
   "outputs": [],
   "source": [
    "%load_ext tensorboard\n",
    "%tensorboard --logdir data/"
   ]
  },
  {
   "cell_type": "markdown",
   "id": "b9e7541e-cb5b-4293-9cfb-9600aa48ec80",
   "metadata": {},
   "source": [
    "It's unable to reach the baseline of this task, even after I tried many different hyperparameters. I guess the baseline is a mistake. In fact, I find out that according to the code the start of this maze is (2, 2) and the goal is (20, 20) (after multiplied by resize_factor), so the shortest distance between two points is about 25.5, so there is no way to reach high reward (at least -20) on PointmassHard-v0 no matter how you train it. -_-"
   ]
  },
  {
   "cell_type": "markdown",
   "id": "f0ac355a-e3b6-4c98-966f-4a0189bf8d25",
   "metadata": {},
   "source": [
    "# Bonus Problem"
   ]
  },
  {
   "cell_type": "markdown",
   "id": "de2b970c-d497-4972-8467-6e3c723dcf27",
   "metadata": {},
   "source": [
    "We also provide a harder layout of the gridworld environment in the environment file located at envs/pointmass/pointmass.py. Try out your exploration methods on one or more of these domains, and explore how offline training and online finetuning work in these domains. Report any interesting findings including state-visitation heatmaps, and policy performance. (from hw5 2020)"
   ]
  },
  {
   "cell_type": "markdown",
   "id": "aa1222b6-c50c-4c16-8ffe-e054b19c7d6a",
   "metadata": {},
   "source": [
    "I'd like to try other mazes. ：）"
   ]
  },
  {
   "cell_type": "code",
   "execution_count": 4,
   "id": "ea334686-2dc6-416d-aa1e-b0ce2bc6b6e9",
   "metadata": {},
   "outputs": [],
   "source": [
    "algos = ['dqn', 'iql']\n",
    "\n",
    "mazes1 = ['FlyTrapSmall', 'Tree']\n",
    "mazes2 = ['Spiral11x11', 'FlyTrapBig', 'Galton']\n",
    "mazes3 = ['Maze11x11', 'UMulti', 'Tunnel']"
   ]
  },
  {
   "cell_type": "code",
   "execution_count": 15,
   "id": "84c330bb-7f74-4d47-b1a1-dfd42515fe4c",
   "metadata": {},
   "outputs": [
    {
     "name": "stdout",
     "output_type": "stream",
     "text": [
      "Namespace(config_file='experiments/exploration/pointmass_veryhard_rnd.yaml', eval_interval=10000, visualize_interval=1000, num_eval_trajectories=10, seed=1, no_gpu=False, which_gpu=0, log_interval=1, use_reward=False, dataset_dir='datasets/', env_name='PointmassVeryHard-FlyTrapSmall-v0', dataset_name='pointmass_veryhard-FlyTrapSmall_rnd', total_steps=None, log_suffix='')\n",
      "dqn_config{'exp_name': 'pointmass_veryhard_rnd', 'total_steps': 20000, 'discount': 0.95, 'target_update_period': 300, 'clip_grad_norm': None, 'use_double_q': True, 'batch_size': 128, 'kwargs': {'dataset_name': 'pointmass_veryhard-FlyTrapSmall_rnd'}, 'exploration_schedule': <cs285.env_configs.schedule.ConstantSchedule object at 0x000001ADE9817D90>, 'log_string': 'PointmassVeryHard-FlyTrapSmall-v0_dqn', 'env_name': 'PointmassVeryHard-FlyTrapSmall-v0', 'hidden_size': 64, 'learning_rate': 0.001, 'num_layers': 2}\n",
      "rnd_config{'rnd_weight': 1.0, 'total_steps': 20000, 'discount': 0.95, 'env_name': 'PointmassVeryHard-FlyTrapSmall-v0', 'exp_name': 'pointmass_veryhard_rnd', 'dataset_name': 'pointmass_veryhard-FlyTrapSmall_rnd', 'target_update_period': 300, 'clip_grad_norm': None, 'use_double_q': True, 'exploration_schedule': <cs285.env_configs.schedule.ConstantSchedule object at 0x000001ADE9817D90>, 'log_name': 'PointmassVeryHard-FlyTrapSmall-v0_rnd1.0', 'batch_size': 128, 'agent': 'rnd', 'rnd_dim': 5, 'rnd_network_hidden_size': 400, 'rnd_network_learning_rate': 0.001, 'rnd_network_num_layers': 2}\n",
      "########################\n",
      "logging outputs to  C:\\Users\\user\\Colab\\Berkeley_DeepRL_Fall2023\\hw5\\cs285\\scripts\\../../data\\hw5_explore/PointmassVeryHard-FlyTrapSmall-v0_rnd1.0\n",
      "########################\n",
      "\n",
      "======================================================================\n",
      "Exploration\n",
      "\n",
      "Generating the dataset for the PointmassVeryHard-FlyTrapSmall-v0 environment using algorithm rnd.\n",
      "The results will be stored in datasets/.\n",
      "======================================================================\n",
      "\n",
      "Using CPU.\n"
     ]
    },
    {
     "name": "stderr",
     "output_type": "stream",
     "text": [
      "100%|███████████████████████████████████████████████████████████████████████████| 20000/20000 [01:54<00:00, 174.94it/s]\n"
     ]
    },
    {
     "name": "stdout",
     "output_type": "stream",
     "text": [
      "Saved dataset to datasets/pointmass_veryhard-FlyTrapSmall_rnd.pkl\n",
      "Saved final heatmap to exploration_visualization\\PointmassVeryHard-FlyTrapSmall-v0_rnd1.0.png\n",
      "\n",
      "****************************************************************************************************\n",
      "Namespace(config_file='experiments/exploration/pointmass_veryhard_rnd.yaml', eval_interval=10000, visualize_interval=1000, num_eval_trajectories=10, seed=1, no_gpu=False, which_gpu=0, log_interval=1, use_reward=False, dataset_dir='datasets/', env_name='PointmassVeryHard-Tree-v0', dataset_name='pointmass_veryhard-Tree_rnd', total_steps=None, log_suffix='')\n",
      "dqn_config{'exp_name': 'pointmass_veryhard_rnd', 'total_steps': 20000, 'discount': 0.95, 'target_update_period': 300, 'clip_grad_norm': None, 'use_double_q': True, 'batch_size': 128, 'kwargs': {'dataset_name': 'pointmass_veryhard-Tree_rnd'}, 'exploration_schedule': <cs285.env_configs.schedule.ConstantSchedule object at 0x000001ADE958D5B0>, 'log_string': 'PointmassVeryHard-Tree-v0_dqn', 'env_name': 'PointmassVeryHard-Tree-v0', 'hidden_size': 64, 'learning_rate': 0.001, 'num_layers': 2}\n",
      "rnd_config{'rnd_weight': 1.0, 'total_steps': 20000, 'discount': 0.95, 'env_name': 'PointmassVeryHard-Tree-v0', 'exp_name': 'pointmass_veryhard_rnd', 'dataset_name': 'pointmass_veryhard-Tree_rnd', 'target_update_period': 300, 'clip_grad_norm': None, 'use_double_q': True, 'exploration_schedule': <cs285.env_configs.schedule.ConstantSchedule object at 0x000001ADE958D5B0>, 'log_name': 'PointmassVeryHard-Tree-v0_rnd1.0', 'batch_size': 128, 'agent': 'rnd', 'rnd_dim': 5, 'rnd_network_hidden_size': 400, 'rnd_network_learning_rate': 0.001, 'rnd_network_num_layers': 2}\n",
      "########################\n",
      "logging outputs to  C:\\Users\\user\\Colab\\Berkeley_DeepRL_Fall2023\\hw5\\cs285\\scripts\\../../data\\hw5_explore/PointmassVeryHard-Tree-v0_rnd1.0\n",
      "########################\n",
      "\n",
      "======================================================================\n",
      "Exploration\n",
      "\n",
      "Generating the dataset for the PointmassVeryHard-Tree-v0 environment using algorithm rnd.\n",
      "The results will be stored in datasets/.\n",
      "======================================================================\n",
      "\n",
      "Using CPU.\n"
     ]
    },
    {
     "name": "stderr",
     "output_type": "stream",
     "text": [
      "100%|███████████████████████████████████████████████████████████████████████████| 20000/20000 [01:53<00:00, 175.75it/s]\n"
     ]
    },
    {
     "name": "stdout",
     "output_type": "stream",
     "text": [
      "Saved dataset to datasets/pointmass_veryhard-Tree_rnd.pkl\n",
      "Saved final heatmap to exploration_visualization\\PointmassVeryHard-Tree-v0_rnd1.0.png\n",
      "\n",
      "****************************************************************************************************\n",
      "Namespace(config_file='experiments/exploration/pointmass_veryhard_rnd.yaml', eval_interval=10000, visualize_interval=1000, num_eval_trajectories=10, seed=1, no_gpu=False, which_gpu=0, log_interval=1, use_reward=False, dataset_dir='datasets/', env_name='PointmassVeryHard-Spiral11x11-v0', dataset_name='pointmass_veryhard-Spiral11x11_rnd', total_steps=None, log_suffix='')\n",
      "dqn_config{'exp_name': 'pointmass_veryhard_rnd', 'total_steps': 20000, 'discount': 0.95, 'target_update_period': 300, 'clip_grad_norm': None, 'use_double_q': True, 'batch_size': 128, 'kwargs': {'dataset_name': 'pointmass_veryhard-Spiral11x11_rnd'}, 'exploration_schedule': <cs285.env_configs.schedule.ConstantSchedule object at 0x000001ADE4B56130>, 'log_string': 'PointmassVeryHard-Spiral11x11-v0_dqn', 'env_name': 'PointmassVeryHard-Spiral11x11-v0', 'hidden_size': 64, 'learning_rate': 0.001, 'num_layers': 2}\n",
      "rnd_config{'rnd_weight': 1.0, 'total_steps': 20000, 'discount': 0.95, 'env_name': 'PointmassVeryHard-Spiral11x11-v0', 'exp_name': 'pointmass_veryhard_rnd', 'dataset_name': 'pointmass_veryhard-Spiral11x11_rnd', 'target_update_period': 300, 'clip_grad_norm': None, 'use_double_q': True, 'exploration_schedule': <cs285.env_configs.schedule.ConstantSchedule object at 0x000001ADE4B56130>, 'log_name': 'PointmassVeryHard-Spiral11x11-v0_rnd1.0', 'batch_size': 128, 'agent': 'rnd', 'rnd_dim': 5, 'rnd_network_hidden_size': 400, 'rnd_network_learning_rate': 0.001, 'rnd_network_num_layers': 2}\n",
      "########################\n",
      "logging outputs to  C:\\Users\\user\\Colab\\Berkeley_DeepRL_Fall2023\\hw5\\cs285\\scripts\\../../data\\hw5_explore/PointmassVeryHard-Spiral11x11-v0_rnd1.0\n",
      "########################\n",
      "\n",
      "======================================================================\n",
      "Exploration\n",
      "\n",
      "Generating the dataset for the PointmassVeryHard-Spiral11x11-v0 environment using algorithm rnd.\n",
      "The results will be stored in datasets/.\n",
      "======================================================================\n",
      "\n",
      "Using CPU.\n"
     ]
    },
    {
     "name": "stderr",
     "output_type": "stream",
     "text": [
      "100%|███████████████████████████████████████████████████████████████████████████| 20000/20000 [01:53<00:00, 175.44it/s]\n"
     ]
    },
    {
     "name": "stdout",
     "output_type": "stream",
     "text": [
      "Saved dataset to datasets/pointmass_veryhard-Spiral11x11_rnd.pkl\n",
      "Saved final heatmap to exploration_visualization\\PointmassVeryHard-Spiral11x11-v0_rnd1.0.png\n",
      "\n",
      "****************************************************************************************************\n",
      "Namespace(config_file='experiments/exploration/pointmass_veryhard_rnd.yaml', eval_interval=10000, visualize_interval=1000, num_eval_trajectories=10, seed=1, no_gpu=False, which_gpu=0, log_interval=1, use_reward=False, dataset_dir='datasets/', env_name='PointmassVeryHard-FlyTrapBig-v0', dataset_name='pointmass_veryhard-FlyTrapBig_rnd', total_steps=None, log_suffix='')\n",
      "dqn_config{'exp_name': 'pointmass_veryhard_rnd', 'total_steps': 20000, 'discount': 0.95, 'target_update_period': 300, 'clip_grad_norm': None, 'use_double_q': True, 'batch_size': 128, 'kwargs': {'dataset_name': 'pointmass_veryhard-FlyTrapBig_rnd'}, 'exploration_schedule': <cs285.env_configs.schedule.ConstantSchedule object at 0x000001ADE71C42B0>, 'log_string': 'PointmassVeryHard-FlyTrapBig-v0_dqn', 'env_name': 'PointmassVeryHard-FlyTrapBig-v0', 'hidden_size': 64, 'learning_rate': 0.001, 'num_layers': 2}\n",
      "rnd_config{'rnd_weight': 1.0, 'total_steps': 20000, 'discount': 0.95, 'env_name': 'PointmassVeryHard-FlyTrapBig-v0', 'exp_name': 'pointmass_veryhard_rnd', 'dataset_name': 'pointmass_veryhard-FlyTrapBig_rnd', 'target_update_period': 300, 'clip_grad_norm': None, 'use_double_q': True, 'exploration_schedule': <cs285.env_configs.schedule.ConstantSchedule object at 0x000001ADE71C42B0>, 'log_name': 'PointmassVeryHard-FlyTrapBig-v0_rnd1.0', 'batch_size': 128, 'agent': 'rnd', 'rnd_dim': 5, 'rnd_network_hidden_size': 400, 'rnd_network_learning_rate': 0.001, 'rnd_network_num_layers': 2}\n",
      "########################\n",
      "logging outputs to  C:\\Users\\user\\Colab\\Berkeley_DeepRL_Fall2023\\hw5\\cs285\\scripts\\../../data\\hw5_explore/PointmassVeryHard-FlyTrapBig-v0_rnd1.0\n",
      "########################\n",
      "\n",
      "======================================================================\n",
      "Exploration\n",
      "\n",
      "Generating the dataset for the PointmassVeryHard-FlyTrapBig-v0 environment using algorithm rnd.\n",
      "The results will be stored in datasets/.\n",
      "======================================================================\n",
      "\n",
      "Using CPU.\n"
     ]
    },
    {
     "name": "stderr",
     "output_type": "stream",
     "text": [
      "100%|███████████████████████████████████████████████████████████████████████████| 20000/20000 [01:53<00:00, 176.83it/s]\n"
     ]
    },
    {
     "name": "stdout",
     "output_type": "stream",
     "text": [
      "Saved dataset to datasets/pointmass_veryhard-FlyTrapBig_rnd.pkl\n",
      "Saved final heatmap to exploration_visualization\\PointmassVeryHard-FlyTrapBig-v0_rnd1.0.png\n",
      "\n",
      "****************************************************************************************************\n",
      "Namespace(config_file='experiments/exploration/pointmass_veryhard_rnd.yaml', eval_interval=10000, visualize_interval=1000, num_eval_trajectories=10, seed=1, no_gpu=False, which_gpu=0, log_interval=1, use_reward=False, dataset_dir='datasets/', env_name='PointmassVeryHard-Galton-v0', dataset_name='pointmass_veryhard-Galton_rnd', total_steps=None, log_suffix='')\n",
      "dqn_config{'exp_name': 'pointmass_veryhard_rnd', 'total_steps': 20000, 'discount': 0.95, 'target_update_period': 300, 'clip_grad_norm': None, 'use_double_q': True, 'batch_size': 128, 'kwargs': {'dataset_name': 'pointmass_veryhard-Galton_rnd'}, 'exploration_schedule': <cs285.env_configs.schedule.ConstantSchedule object at 0x000001ADE4AA9F40>, 'log_string': 'PointmassVeryHard-Galton-v0_dqn', 'env_name': 'PointmassVeryHard-Galton-v0', 'hidden_size': 64, 'learning_rate': 0.001, 'num_layers': 2}\n",
      "rnd_config{'rnd_weight': 1.0, 'total_steps': 20000, 'discount': 0.95, 'env_name': 'PointmassVeryHard-Galton-v0', 'exp_name': 'pointmass_veryhard_rnd', 'dataset_name': 'pointmass_veryhard-Galton_rnd', 'target_update_period': 300, 'clip_grad_norm': None, 'use_double_q': True, 'exploration_schedule': <cs285.env_configs.schedule.ConstantSchedule object at 0x000001ADE4AA9F40>, 'log_name': 'PointmassVeryHard-Galton-v0_rnd1.0', 'batch_size': 128, 'agent': 'rnd', 'rnd_dim': 5, 'rnd_network_hidden_size': 400, 'rnd_network_learning_rate': 0.001, 'rnd_network_num_layers': 2}\n",
      "########################\n",
      "logging outputs to  C:\\Users\\user\\Colab\\Berkeley_DeepRL_Fall2023\\hw5\\cs285\\scripts\\../../data\\hw5_explore/PointmassVeryHard-Galton-v0_rnd1.0\n",
      "########################\n",
      "\n",
      "======================================================================\n",
      "Exploration\n",
      "\n",
      "Generating the dataset for the PointmassVeryHard-Galton-v0 environment using algorithm rnd.\n",
      "The results will be stored in datasets/.\n",
      "======================================================================\n",
      "\n",
      "Using CPU.\n"
     ]
    },
    {
     "name": "stderr",
     "output_type": "stream",
     "text": [
      "100%|███████████████████████████████████████████████████████████████████████████| 20000/20000 [01:54<00:00, 174.67it/s]\n"
     ]
    },
    {
     "name": "stdout",
     "output_type": "stream",
     "text": [
      "Saved dataset to datasets/pointmass_veryhard-Galton_rnd.pkl\n",
      "Saved final heatmap to exploration_visualization\\PointmassVeryHard-Galton-v0_rnd1.0.png\n",
      "\n",
      "****************************************************************************************************\n",
      "Namespace(config_file='experiments/exploration/pointmass_veryhard_rnd.yaml', eval_interval=10000, visualize_interval=1000, num_eval_trajectories=10, seed=1, no_gpu=False, which_gpu=0, log_interval=1, use_reward=False, dataset_dir='datasets/', env_name='PointmassVeryHard-Maze11x11-v0', dataset_name='pointmass_veryhard-Maze11x11_rnd', total_steps=None, log_suffix='')\n",
      "dqn_config{'exp_name': 'pointmass_veryhard_rnd', 'total_steps': 20000, 'discount': 0.95, 'target_update_period': 300, 'clip_grad_norm': None, 'use_double_q': True, 'batch_size': 128, 'kwargs': {'dataset_name': 'pointmass_veryhard-Maze11x11_rnd'}, 'exploration_schedule': <cs285.env_configs.schedule.ConstantSchedule object at 0x000001ADE5EC4D90>, 'log_string': 'PointmassVeryHard-Maze11x11-v0_dqn', 'env_name': 'PointmassVeryHard-Maze11x11-v0', 'hidden_size': 64, 'learning_rate': 0.001, 'num_layers': 2}\n",
      "rnd_config{'rnd_weight': 1.0, 'total_steps': 20000, 'discount': 0.95, 'env_name': 'PointmassVeryHard-Maze11x11-v0', 'exp_name': 'pointmass_veryhard_rnd', 'dataset_name': 'pointmass_veryhard-Maze11x11_rnd', 'target_update_period': 300, 'clip_grad_norm': None, 'use_double_q': True, 'exploration_schedule': <cs285.env_configs.schedule.ConstantSchedule object at 0x000001ADE5EC4D90>, 'log_name': 'PointmassVeryHard-Maze11x11-v0_rnd1.0', 'batch_size': 128, 'agent': 'rnd', 'rnd_dim': 5, 'rnd_network_hidden_size': 400, 'rnd_network_learning_rate': 0.001, 'rnd_network_num_layers': 2}\n",
      "########################\n",
      "logging outputs to  C:\\Users\\user\\Colab\\Berkeley_DeepRL_Fall2023\\hw5\\cs285\\scripts\\../../data\\hw5_explore/PointmassVeryHard-Maze11x11-v0_rnd1.0\n",
      "########################\n",
      "\n",
      "======================================================================\n",
      "Exploration\n",
      "\n",
      "Generating the dataset for the PointmassVeryHard-Maze11x11-v0 environment using algorithm rnd.\n",
      "The results will be stored in datasets/.\n",
      "======================================================================\n",
      "\n",
      "Using CPU.\n"
     ]
    },
    {
     "name": "stderr",
     "output_type": "stream",
     "text": [
      "100%|███████████████████████████████████████████████████████████████████████████| 20000/20000 [01:53<00:00, 175.70it/s]\n"
     ]
    },
    {
     "name": "stdout",
     "output_type": "stream",
     "text": [
      "Saved dataset to datasets/pointmass_veryhard-Maze11x11_rnd.pkl\n",
      "Saved final heatmap to exploration_visualization\\PointmassVeryHard-Maze11x11-v0_rnd1.0.png\n",
      "\n",
      "****************************************************************************************************\n",
      "Namespace(config_file='experiments/exploration/pointmass_veryhard_rnd.yaml', eval_interval=10000, visualize_interval=1000, num_eval_trajectories=10, seed=1, no_gpu=False, which_gpu=0, log_interval=1, use_reward=False, dataset_dir='datasets/', env_name='PointmassVeryHard-UMulti-v0', dataset_name='pointmass_veryhard-UMulti_rnd', total_steps=None, log_suffix='')\n",
      "dqn_config{'exp_name': 'pointmass_veryhard_rnd', 'total_steps': 20000, 'discount': 0.95, 'target_update_period': 300, 'clip_grad_norm': None, 'use_double_q': True, 'batch_size': 128, 'kwargs': {'dataset_name': 'pointmass_veryhard-UMulti_rnd'}, 'exploration_schedule': <cs285.env_configs.schedule.ConstantSchedule object at 0x000001ADE724EA30>, 'log_string': 'PointmassVeryHard-UMulti-v0_dqn', 'env_name': 'PointmassVeryHard-UMulti-v0', 'hidden_size': 64, 'learning_rate': 0.001, 'num_layers': 2}\n",
      "rnd_config{'rnd_weight': 1.0, 'total_steps': 20000, 'discount': 0.95, 'env_name': 'PointmassVeryHard-UMulti-v0', 'exp_name': 'pointmass_veryhard_rnd', 'dataset_name': 'pointmass_veryhard-UMulti_rnd', 'target_update_period': 300, 'clip_grad_norm': None, 'use_double_q': True, 'exploration_schedule': <cs285.env_configs.schedule.ConstantSchedule object at 0x000001ADE724EA30>, 'log_name': 'PointmassVeryHard-UMulti-v0_rnd1.0', 'batch_size': 128, 'agent': 'rnd', 'rnd_dim': 5, 'rnd_network_hidden_size': 400, 'rnd_network_learning_rate': 0.001, 'rnd_network_num_layers': 2}\n",
      "########################\n",
      "logging outputs to  C:\\Users\\user\\Colab\\Berkeley_DeepRL_Fall2023\\hw5\\cs285\\scripts\\../../data\\hw5_explore/PointmassVeryHard-UMulti-v0_rnd1.0\n",
      "########################\n",
      "\n",
      "======================================================================\n",
      "Exploration\n",
      "\n",
      "Generating the dataset for the PointmassVeryHard-UMulti-v0 environment using algorithm rnd.\n",
      "The results will be stored in datasets/.\n",
      "======================================================================\n",
      "\n",
      "Using CPU.\n"
     ]
    },
    {
     "name": "stderr",
     "output_type": "stream",
     "text": [
      "100%|███████████████████████████████████████████████████████████████████████████| 20000/20000 [01:54<00:00, 173.98it/s]\n"
     ]
    },
    {
     "name": "stdout",
     "output_type": "stream",
     "text": [
      "Saved dataset to datasets/pointmass_veryhard-UMulti_rnd.pkl\n",
      "Saved final heatmap to exploration_visualization\\PointmassVeryHard-UMulti-v0_rnd1.0.png\n",
      "\n",
      "****************************************************************************************************\n",
      "Namespace(config_file='experiments/exploration/pointmass_veryhard_rnd.yaml', eval_interval=10000, visualize_interval=1000, num_eval_trajectories=10, seed=1, no_gpu=False, which_gpu=0, log_interval=1, use_reward=False, dataset_dir='datasets/', env_name='PointmassVeryHard-Tunnel-v0', dataset_name='pointmass_veryhard-Tunnel_rnd', total_steps=None, log_suffix='')\n",
      "dqn_config{'exp_name': 'pointmass_veryhard_rnd', 'total_steps': 20000, 'discount': 0.95, 'target_update_period': 300, 'clip_grad_norm': None, 'use_double_q': True, 'batch_size': 128, 'kwargs': {'dataset_name': 'pointmass_veryhard-Tunnel_rnd'}, 'exploration_schedule': <cs285.env_configs.schedule.ConstantSchedule object at 0x000001ADE8F15250>, 'log_string': 'PointmassVeryHard-Tunnel-v0_dqn', 'env_name': 'PointmassVeryHard-Tunnel-v0', 'hidden_size': 64, 'learning_rate': 0.001, 'num_layers': 2}\n",
      "rnd_config{'rnd_weight': 1.0, 'total_steps': 20000, 'discount': 0.95, 'env_name': 'PointmassVeryHard-Tunnel-v0', 'exp_name': 'pointmass_veryhard_rnd', 'dataset_name': 'pointmass_veryhard-Tunnel_rnd', 'target_update_period': 300, 'clip_grad_norm': None, 'use_double_q': True, 'exploration_schedule': <cs285.env_configs.schedule.ConstantSchedule object at 0x000001ADE8F15250>, 'log_name': 'PointmassVeryHard-Tunnel-v0_rnd1.0', 'batch_size': 128, 'agent': 'rnd', 'rnd_dim': 5, 'rnd_network_hidden_size': 400, 'rnd_network_learning_rate': 0.001, 'rnd_network_num_layers': 2}\n",
      "########################\n",
      "logging outputs to  C:\\Users\\user\\Colab\\Berkeley_DeepRL_Fall2023\\hw5\\cs285\\scripts\\../../data\\hw5_explore/PointmassVeryHard-Tunnel-v0_rnd1.0\n",
      "########################\n",
      "\n",
      "======================================================================\n",
      "Exploration\n",
      "\n",
      "Generating the dataset for the PointmassVeryHard-Tunnel-v0 environment using algorithm rnd.\n",
      "The results will be stored in datasets/.\n",
      "======================================================================\n",
      "\n",
      "Using CPU.\n"
     ]
    },
    {
     "name": "stderr",
     "output_type": "stream",
     "text": [
      "100%|███████████████████████████████████████████████████████████████████████████| 20000/20000 [01:56<00:00, 171.65it/s]\n"
     ]
    },
    {
     "name": "stdout",
     "output_type": "stream",
     "text": [
      "Saved dataset to datasets/pointmass_veryhard-Tunnel_rnd.pkl\n",
      "Saved final heatmap to exploration_visualization\\PointmassVeryHard-Tunnel-v0_rnd1.0.png\n",
      "\n",
      "****************************************************************************************************\n"
     ]
    }
   ],
   "source": [
    "# exploration\n",
    "for maze in mazes1 + mazes2 + mazes3:\n",
    "    env_name = f'PointmassVeryHard-{maze}-v0'\n",
    "    dataset_name = f'pointmass_veryhard-{maze}_rnd'\n",
    "    %run cs285/scripts/run_hw5_explore.py \\\n",
    "        -cfg experiments/exploration/pointmass_veryhard_rnd.yaml \\\n",
    "        --dataset_dir datasets/ \\\n",
    "        --env_name $env_name --dataset_name $dataset_name\n",
    "    print('\\n', '*' * 100, sep='')"
   ]
  },
  {
   "cell_type": "code",
   "execution_count": 5,
   "id": "61bdef93-e555-4140-bb01-bf6b265b08d5",
   "metadata": {},
   "outputs": [
    {
     "name": "stdout",
     "output_type": "stream",
     "text": [
      "Namespace(config_file='experiments/offline/pointmass_veryhard1_dqn.yaml', eval_interval=10000, num_eval_trajectories=10, num_render_trajectories=0, seed=1, no_gpu=False, which_gpu=0, log_interval=1, dataset_dir='datasets', env_name='PointmassVeryHard-FlyTrapSmall-v0', dataset_name='pointmass_veryhard-FlyTrapSmall_rnd', log_suffix='')\n",
      "dqn_config{'exp_name': 'pointmass_veryhard_dqn', 'total_steps': 1000000, 'discount': 0.95, 'target_update_period': 300, 'clip_grad_norm': None, 'use_double_q': True, 'batch_size': 128, 'kwargs': {'training_steps': 200000, 'dataset_name': 'pointmass_veryhard-FlyTrapSmall_rnd'}, 'exploration_schedule': <cs285.env_configs.schedule.ConstantSchedule object at 0x00000241681944F0>, 'log_string': 'PointmassVeryHard-FlyTrapSmall-v0_dqn', 'env_name': 'PointmassVeryHard-FlyTrapSmall-v0', 'hidden_size': 128, 'learning_rate': 0.001, 'num_layers': 2}\n",
      "########################\n",
      "logging outputs to  C:\\Users\\user\\Colab\\Berkeley_DeepRL_Fall2023\\hw5\\cs285\\scripts\\../../data\\hw5_offline_PointmassVeryHard-FlyTrapSmall-v0_dqn\n",
      "########################\n",
      "Using CPU.\n"
     ]
    },
    {
     "name": "stderr",
     "output_type": "stream",
     "text": [
      "100%|█████████████████████████████████████████████████████████████████████████| 200000/200000 [08:11<00:00, 407.04it/s]\n"
     ]
    },
    {
     "name": "stdout",
     "output_type": "stream",
     "text": [
      "Average eval return: -82.9000015258789\n",
      "\n",
      "****************************************************************************************************\n",
      "Namespace(config_file='experiments/offline/pointmass_veryhard1_iql.yaml', eval_interval=10000, num_eval_trajectories=10, num_render_trajectories=0, seed=1, no_gpu=False, which_gpu=0, log_interval=1, dataset_dir='datasets', env_name='PointmassVeryHard-FlyTrapSmall-v0', dataset_name='pointmass_veryhard-FlyTrapSmall_rnd', log_suffix='')\n",
      "dqn_config{'exp_name': 'pointmass_veryhard_iql', 'total_steps': 50000, 'discount': 0.95, 'target_update_period': 300, 'clip_grad_norm': None, 'use_double_q': True, 'batch_size': 128, 'kwargs': {'training_steps': 200000, 'dataset_name': 'pointmass_veryhard-FlyTrapSmall_rnd'}, 'exploration_schedule': <cs285.env_configs.schedule.ConstantSchedule object at 0x00000241681B0DC0>, 'log_string': 'PointmassVeryHard-FlyTrapSmall-v0_dqn', 'env_name': 'PointmassVeryHard-FlyTrapSmall-v0', 'hidden_size': 128, 'learning_rate': 0.0003, 'num_layers': 2}\n",
      "awac_config{'total_steps': 50000, 'discount': 0.95, 'temperature': 10.0, 'hidden_size': 128, 'num_layers': 2, 'learning_rate': 0.0003, 'env_name': 'PointmassVeryHard-FlyTrapSmall-v0', 'exp_name': 'pointmass_veryhard_iql', 'use_double_q': True, 'training_steps': 200000, 'dataset_name': 'pointmass_veryhard-FlyTrapSmall_rnd', 'target_update_period': 300, 'clip_grad_norm': None, 'exploration_schedule': <cs285.env_configs.schedule.ConstantSchedule object at 0x00000241681B0DC0>, 'log_name': 'PointmassVeryHard-FlyTrapSmall-v0_awac10.0', 'batch_size': 128, 'agent': 'awac', 'actor_hidden_size': 128, 'actor_learning_rate': 0.0003, 'actor_num_layers': 2}\n",
      "iql_config{'total_steps': 50000, 'discount': 0.95, 'temperature': 10.0, 'expectile': 0.99, 'env_name': 'PointmassVeryHard-FlyTrapSmall-v0', 'exp_name': 'pointmass_veryhard_iql', 'use_double_q': True, 'training_steps': 200000, 'dataset_name': 'pointmass_veryhard-FlyTrapSmall_rnd', 'target_update_period': 300, 'clip_grad_norm': None, 'exploration_schedule': <cs285.env_configs.schedule.ConstantSchedule object at 0x00000241681B0DC0>, 'log_name': 'PointmassVeryHard-FlyTrapSmall-v0_iql0.99_temp10.0', 'batch_size': 128, 'agent': 'iql', 'hidden_size': 128, 'learning_rate': 0.0003, 'num_layers': 2}\n",
      "########################\n",
      "logging outputs to  C:\\Users\\user\\Colab\\Berkeley_DeepRL_Fall2023\\hw5\\cs285\\scripts\\../../data\\hw5_offline_PointmassVeryHard-FlyTrapSmall-v0_iql0.99_temp10.0\n",
      "########################\n",
      "Using CPU.\n"
     ]
    },
    {
     "name": "stderr",
     "output_type": "stream",
     "text": [
      "100%|█████████████████████████████████████████████████████████████████████████| 200000/200000 [20:00<00:00, 166.54it/s]\n"
     ]
    },
    {
     "name": "stdout",
     "output_type": "stream",
     "text": [
      "Average eval return: -199.89999389648438\n",
      "\n",
      "****************************************************************************************************\n",
      ">>>>>>>>>>>>>>>>>>>>>>>>>>>>>>>>>>>>>>>>>>>>>>>>>>>>>>>>>>>>>>>>>>>>>>>>>>>>>>>>>>>>>>>>>>>>>>>>>>>>\n",
      "Namespace(config_file='experiments/offline/pointmass_veryhard1_dqn.yaml', eval_interval=10000, num_eval_trajectories=10, num_render_trajectories=0, seed=1, no_gpu=False, which_gpu=0, log_interval=1, dataset_dir='datasets', env_name='PointmassVeryHard-Tree-v0', dataset_name='pointmass_veryhard-Tree_rnd', log_suffix='')\n",
      "dqn_config{'exp_name': 'pointmass_veryhard_dqn', 'total_steps': 1000000, 'discount': 0.95, 'target_update_period': 300, 'clip_grad_norm': None, 'use_double_q': True, 'batch_size': 128, 'kwargs': {'training_steps': 200000, 'dataset_name': 'pointmass_veryhard-Tree_rnd'}, 'exploration_schedule': <cs285.env_configs.schedule.ConstantSchedule object at 0x000002416AAB5DF0>, 'log_string': 'PointmassVeryHard-Tree-v0_dqn', 'env_name': 'PointmassVeryHard-Tree-v0', 'hidden_size': 128, 'learning_rate': 0.001, 'num_layers': 2}\n",
      "########################\n",
      "logging outputs to  C:\\Users\\user\\Colab\\Berkeley_DeepRL_Fall2023\\hw5\\cs285\\scripts\\../../data\\hw5_offline_PointmassVeryHard-Tree-v0_dqn\n",
      "########################\n",
      "Using CPU.\n"
     ]
    },
    {
     "name": "stderr",
     "output_type": "stream",
     "text": [
      "100%|█████████████████████████████████████████████████████████████████████████| 200000/200000 [08:11<00:00, 406.92it/s]\n"
     ]
    },
    {
     "name": "stdout",
     "output_type": "stream",
     "text": [
      "Average eval return: -200.0\n",
      "\n",
      "****************************************************************************************************\n",
      "Namespace(config_file='experiments/offline/pointmass_veryhard1_iql.yaml', eval_interval=10000, num_eval_trajectories=10, num_render_trajectories=0, seed=1, no_gpu=False, which_gpu=0, log_interval=1, dataset_dir='datasets', env_name='PointmassVeryHard-Tree-v0', dataset_name='pointmass_veryhard-Tree_rnd', log_suffix='')\n",
      "dqn_config{'exp_name': 'pointmass_veryhard_iql', 'total_steps': 50000, 'discount': 0.95, 'target_update_period': 300, 'clip_grad_norm': None, 'use_double_q': True, 'batch_size': 128, 'kwargs': {'training_steps': 200000, 'dataset_name': 'pointmass_veryhard-Tree_rnd'}, 'exploration_schedule': <cs285.env_configs.schedule.ConstantSchedule object at 0x00000241695AFAF0>, 'log_string': 'PointmassVeryHard-Tree-v0_dqn', 'env_name': 'PointmassVeryHard-Tree-v0', 'hidden_size': 128, 'learning_rate': 0.0003, 'num_layers': 2}\n",
      "awac_config{'total_steps': 50000, 'discount': 0.95, 'temperature': 10.0, 'hidden_size': 128, 'num_layers': 2, 'learning_rate': 0.0003, 'env_name': 'PointmassVeryHard-Tree-v0', 'exp_name': 'pointmass_veryhard_iql', 'use_double_q': True, 'training_steps': 200000, 'dataset_name': 'pointmass_veryhard-Tree_rnd', 'target_update_period': 300, 'clip_grad_norm': None, 'exploration_schedule': <cs285.env_configs.schedule.ConstantSchedule object at 0x00000241695AFAF0>, 'log_name': 'PointmassVeryHard-Tree-v0_awac10.0', 'batch_size': 128, 'agent': 'awac', 'actor_hidden_size': 128, 'actor_learning_rate': 0.0003, 'actor_num_layers': 2}\n",
      "iql_config{'total_steps': 50000, 'discount': 0.95, 'temperature': 10.0, 'expectile': 0.99, 'env_name': 'PointmassVeryHard-Tree-v0', 'exp_name': 'pointmass_veryhard_iql', 'use_double_q': True, 'training_steps': 200000, 'dataset_name': 'pointmass_veryhard-Tree_rnd', 'target_update_period': 300, 'clip_grad_norm': None, 'exploration_schedule': <cs285.env_configs.schedule.ConstantSchedule object at 0x00000241695AFAF0>, 'log_name': 'PointmassVeryHard-Tree-v0_iql0.99_temp10.0', 'batch_size': 128, 'agent': 'iql', 'hidden_size': 128, 'learning_rate': 0.0003, 'num_layers': 2}\n",
      "########################\n",
      "logging outputs to  C:\\Users\\user\\Colab\\Berkeley_DeepRL_Fall2023\\hw5\\cs285\\scripts\\../../data\\hw5_offline_PointmassVeryHard-Tree-v0_iql0.99_temp10.0\n",
      "########################\n",
      "Using CPU.\n"
     ]
    },
    {
     "name": "stderr",
     "output_type": "stream",
     "text": [
      "100%|█████████████████████████████████████████████████████████████████████████| 200000/200000 [19:26<00:00, 171.44it/s]"
     ]
    },
    {
     "name": "stdout",
     "output_type": "stream",
     "text": [
      "Average eval return: -188.1999969482422\n",
      "\n",
      "****************************************************************************************************\n",
      ">>>>>>>>>>>>>>>>>>>>>>>>>>>>>>>>>>>>>>>>>>>>>>>>>>>>>>>>>>>>>>>>>>>>>>>>>>>>>>>>>>>>>>>>>>>>>>>>>>>>\n"
     ]
    },
    {
     "name": "stderr",
     "output_type": "stream",
     "text": [
      "\n"
     ]
    }
   ],
   "source": [
    "# offline training, mazes1\n",
    "for maze in mazes1:\n",
    "    env_name = f'PointmassVeryHard-{maze}-v0'\n",
    "    dataset_name = f'pointmass_veryhard-{maze}_rnd'\n",
    "    for algo in algos:\n",
    "        %run ./cs285/scripts/run_hw5_offline.py \\\n",
    "            -cfg experiments/offline/pointmass_veryhard1_\"$algo\".yaml \\\n",
    "            --dataset_dir datasets \\\n",
    "            --env_name $env_name --dataset_name $dataset_name\n",
    "        print('\\n', '*' * 100, sep='')\n",
    "    print('>' * 100)"
   ]
  },
  {
   "cell_type": "code",
   "execution_count": 6,
   "id": "53bbae3b-b599-4ec3-9b45-2ac17ca0ffd9",
   "metadata": {},
   "outputs": [
    {
     "name": "stdout",
     "output_type": "stream",
     "text": [
      "Namespace(config_file='experiments/offline/pointmass_veryhard2_dqn.yaml', eval_interval=10000, num_eval_trajectories=10, num_render_trajectories=0, seed=1, no_gpu=False, which_gpu=0, log_interval=1, dataset_dir='datasets', env_name='PointmassVeryHard-Spiral11x11-v0', dataset_name='pointmass_veryhard-Spiral11x11_rnd', log_suffix='')\n",
      "dqn_config{'exp_name': 'pointmass_veryhard_dqn', 'total_steps': 1000000, 'discount': 0.95, 'target_update_period': 300, 'clip_grad_norm': None, 'use_double_q': True, 'batch_size': 128, 'kwargs': {'training_steps': 200000, 'dataset_name': 'pointmass_veryhard-Spiral11x11_rnd'}, 'exploration_schedule': <cs285.env_configs.schedule.ConstantSchedule object at 0x000002416C08FDC0>, 'log_string': 'PointmassVeryHard-Spiral11x11-v0_dqn', 'env_name': 'PointmassVeryHard-Spiral11x11-v0', 'hidden_size': 256, 'learning_rate': 0.001, 'num_layers': 3}\n",
      "########################\n",
      "logging outputs to  C:\\Users\\user\\Colab\\Berkeley_DeepRL_Fall2023\\hw5\\cs285\\scripts\\../../data\\hw5_offline_PointmassVeryHard-Spiral11x11-v0_dqn\n",
      "########################\n",
      "Using CPU.\n"
     ]
    },
    {
     "name": "stderr",
     "output_type": "stream",
     "text": [
      "100%|█████████████████████████████████████████████████████████████████████████| 200000/200000 [12:42<00:00, 262.34it/s]\n"
     ]
    },
    {
     "name": "stdout",
     "output_type": "stream",
     "text": [
      "Average eval return: -200.0\n",
      "\n",
      "****************************************************************************************************\n",
      "Namespace(config_file='experiments/offline/pointmass_veryhard2_iql.yaml', eval_interval=10000, num_eval_trajectories=10, num_render_trajectories=0, seed=1, no_gpu=False, which_gpu=0, log_interval=1, dataset_dir='datasets', env_name='PointmassVeryHard-Spiral11x11-v0', dataset_name='pointmass_veryhard-Spiral11x11_rnd', log_suffix='')\n",
      "dqn_config{'exp_name': 'pointmass_veryhard_iql', 'total_steps': 50000, 'discount': 0.95, 'target_update_period': 300, 'clip_grad_norm': None, 'use_double_q': True, 'batch_size': 128, 'kwargs': {'training_steps': 200000, 'dataset_name': 'pointmass_veryhard-Spiral11x11_rnd'}, 'exploration_schedule': <cs285.env_configs.schedule.ConstantSchedule object at 0x000002416CF85D30>, 'log_string': 'PointmassVeryHard-Spiral11x11-v0_dqn', 'env_name': 'PointmassVeryHard-Spiral11x11-v0', 'hidden_size': 256, 'learning_rate': 0.0003, 'num_layers': 3}\n",
      "awac_config{'total_steps': 50000, 'discount': 0.95, 'temperature': 10.0, 'hidden_size': 256, 'num_layers': 3, 'learning_rate': 0.0003, 'env_name': 'PointmassVeryHard-Spiral11x11-v0', 'exp_name': 'pointmass_veryhard_iql', 'use_double_q': True, 'training_steps': 200000, 'dataset_name': 'pointmass_veryhard-Spiral11x11_rnd', 'target_update_period': 300, 'clip_grad_norm': None, 'exploration_schedule': <cs285.env_configs.schedule.ConstantSchedule object at 0x000002416CF85D30>, 'log_name': 'PointmassVeryHard-Spiral11x11-v0_awac10.0', 'batch_size': 128, 'agent': 'awac', 'actor_hidden_size': 128, 'actor_learning_rate': 0.0003, 'actor_num_layers': 2}\n",
      "iql_config{'total_steps': 50000, 'discount': 0.95, 'temperature': 10.0, 'expectile': 0.99, 'env_name': 'PointmassVeryHard-Spiral11x11-v0', 'exp_name': 'pointmass_veryhard_iql', 'use_double_q': True, 'training_steps': 200000, 'dataset_name': 'pointmass_veryhard-Spiral11x11_rnd', 'target_update_period': 300, 'clip_grad_norm': None, 'exploration_schedule': <cs285.env_configs.schedule.ConstantSchedule object at 0x000002416CF85D30>, 'log_name': 'PointmassVeryHard-Spiral11x11-v0_iql0.99_temp10.0', 'batch_size': 128, 'agent': 'iql', 'hidden_size': 256, 'learning_rate': 0.0003, 'num_layers': 3}\n",
      "########################\n",
      "logging outputs to  C:\\Users\\user\\Colab\\Berkeley_DeepRL_Fall2023\\hw5\\cs285\\scripts\\../../data\\hw5_offline_PointmassVeryHard-Spiral11x11-v0_iql0.99_temp10.0\n",
      "########################\n",
      "Using CPU.\n"
     ]
    },
    {
     "name": "stderr",
     "output_type": "stream",
     "text": [
      "100%|█████████████████████████████████████████████████████████████████████████| 200000/200000 [31:59<00:00, 104.19it/s]\n"
     ]
    },
    {
     "name": "stdout",
     "output_type": "stream",
     "text": [
      "Average eval return: -200.0\n",
      "\n",
      "****************************************************************************************************\n",
      ">>>>>>>>>>>>>>>>>>>>>>>>>>>>>>>>>>>>>>>>>>>>>>>>>>>>>>>>>>>>>>>>>>>>>>>>>>>>>>>>>>>>>>>>>>>>>>>>>>>>\n",
      "Namespace(config_file='experiments/offline/pointmass_veryhard2_dqn.yaml', eval_interval=10000, num_eval_trajectories=10, num_render_trajectories=0, seed=1, no_gpu=False, which_gpu=0, log_interval=1, dataset_dir='datasets', env_name='PointmassVeryHard-FlyTrapBig-v0', dataset_name='pointmass_veryhard-FlyTrapBig_rnd', log_suffix='')\n",
      "dqn_config{'exp_name': 'pointmass_veryhard_dqn', 'total_steps': 1000000, 'discount': 0.95, 'target_update_period': 300, 'clip_grad_norm': None, 'use_double_q': True, 'batch_size': 128, 'kwargs': {'training_steps': 200000, 'dataset_name': 'pointmass_veryhard-FlyTrapBig_rnd'}, 'exploration_schedule': <cs285.env_configs.schedule.ConstantSchedule object at 0x0000024169455760>, 'log_string': 'PointmassVeryHard-FlyTrapBig-v0_dqn', 'env_name': 'PointmassVeryHard-FlyTrapBig-v0', 'hidden_size': 256, 'learning_rate': 0.001, 'num_layers': 3}\n",
      "########################\n",
      "logging outputs to  C:\\Users\\user\\Colab\\Berkeley_DeepRL_Fall2023\\hw5\\cs285\\scripts\\../../data\\hw5_offline_PointmassVeryHard-FlyTrapBig-v0_dqn\n",
      "########################\n",
      "Using CPU.\n"
     ]
    },
    {
     "name": "stderr",
     "output_type": "stream",
     "text": [
      "100%|█████████████████████████████████████████████████████████████████████████| 200000/200000 [12:41<00:00, 262.79it/s]\n"
     ]
    },
    {
     "name": "stdout",
     "output_type": "stream",
     "text": [
      "Average eval return: -200.0\n",
      "\n",
      "****************************************************************************************************\n",
      "Namespace(config_file='experiments/offline/pointmass_veryhard2_iql.yaml', eval_interval=10000, num_eval_trajectories=10, num_render_trajectories=0, seed=1, no_gpu=False, which_gpu=0, log_interval=1, dataset_dir='datasets', env_name='PointmassVeryHard-FlyTrapBig-v0', dataset_name='pointmass_veryhard-FlyTrapBig_rnd', log_suffix='')\n",
      "dqn_config{'exp_name': 'pointmass_veryhard_iql', 'total_steps': 50000, 'discount': 0.95, 'target_update_period': 300, 'clip_grad_norm': None, 'use_double_q': True, 'batch_size': 128, 'kwargs': {'training_steps': 200000, 'dataset_name': 'pointmass_veryhard-FlyTrapBig_rnd'}, 'exploration_schedule': <cs285.env_configs.schedule.ConstantSchedule object at 0x0000024168313B20>, 'log_string': 'PointmassVeryHard-FlyTrapBig-v0_dqn', 'env_name': 'PointmassVeryHard-FlyTrapBig-v0', 'hidden_size': 256, 'learning_rate': 0.0003, 'num_layers': 3}\n",
      "awac_config{'total_steps': 50000, 'discount': 0.95, 'temperature': 10.0, 'hidden_size': 256, 'num_layers': 3, 'learning_rate': 0.0003, 'env_name': 'PointmassVeryHard-FlyTrapBig-v0', 'exp_name': 'pointmass_veryhard_iql', 'use_double_q': True, 'training_steps': 200000, 'dataset_name': 'pointmass_veryhard-FlyTrapBig_rnd', 'target_update_period': 300, 'clip_grad_norm': None, 'exploration_schedule': <cs285.env_configs.schedule.ConstantSchedule object at 0x0000024168313B20>, 'log_name': 'PointmassVeryHard-FlyTrapBig-v0_awac10.0', 'batch_size': 128, 'agent': 'awac', 'actor_hidden_size': 128, 'actor_learning_rate': 0.0003, 'actor_num_layers': 2}\n",
      "iql_config{'total_steps': 50000, 'discount': 0.95, 'temperature': 10.0, 'expectile': 0.99, 'env_name': 'PointmassVeryHard-FlyTrapBig-v0', 'exp_name': 'pointmass_veryhard_iql', 'use_double_q': True, 'training_steps': 200000, 'dataset_name': 'pointmass_veryhard-FlyTrapBig_rnd', 'target_update_period': 300, 'clip_grad_norm': None, 'exploration_schedule': <cs285.env_configs.schedule.ConstantSchedule object at 0x0000024168313B20>, 'log_name': 'PointmassVeryHard-FlyTrapBig-v0_iql0.99_temp10.0', 'batch_size': 128, 'agent': 'iql', 'hidden_size': 256, 'learning_rate': 0.0003, 'num_layers': 3}\n",
      "########################\n",
      "logging outputs to  C:\\Users\\user\\Colab\\Berkeley_DeepRL_Fall2023\\hw5\\cs285\\scripts\\../../data\\hw5_offline_PointmassVeryHard-FlyTrapBig-v0_iql0.99_temp10.0\n",
      "########################\n",
      "Using CPU.\n"
     ]
    },
    {
     "name": "stderr",
     "output_type": "stream",
     "text": [
      "100%|█████████████████████████████████████████████████████████████████████████| 200000/200000 [31:38<00:00, 105.35it/s]\n"
     ]
    },
    {
     "name": "stdout",
     "output_type": "stream",
     "text": [
      "Average eval return: -200.0\n",
      "\n",
      "****************************************************************************************************\n",
      ">>>>>>>>>>>>>>>>>>>>>>>>>>>>>>>>>>>>>>>>>>>>>>>>>>>>>>>>>>>>>>>>>>>>>>>>>>>>>>>>>>>>>>>>>>>>>>>>>>>>\n",
      "Namespace(config_file='experiments/offline/pointmass_veryhard2_dqn.yaml', eval_interval=10000, num_eval_trajectories=10, num_render_trajectories=0, seed=1, no_gpu=False, which_gpu=0, log_interval=1, dataset_dir='datasets', env_name='PointmassVeryHard-Galton-v0', dataset_name='pointmass_veryhard-Galton_rnd', log_suffix='')\n",
      "dqn_config{'exp_name': 'pointmass_veryhard_dqn', 'total_steps': 1000000, 'discount': 0.95, 'target_update_period': 300, 'clip_grad_norm': None, 'use_double_q': True, 'batch_size': 128, 'kwargs': {'training_steps': 200000, 'dataset_name': 'pointmass_veryhard-Galton_rnd'}, 'exploration_schedule': <cs285.env_configs.schedule.ConstantSchedule object at 0x000002416AC71580>, 'log_string': 'PointmassVeryHard-Galton-v0_dqn', 'env_name': 'PointmassVeryHard-Galton-v0', 'hidden_size': 256, 'learning_rate': 0.001, 'num_layers': 3}\n",
      "########################\n",
      "logging outputs to  C:\\Users\\user\\Colab\\Berkeley_DeepRL_Fall2023\\hw5\\cs285\\scripts\\../../data\\hw5_offline_PointmassVeryHard-Galton-v0_dqn\n",
      "########################\n",
      "Using CPU.\n"
     ]
    },
    {
     "name": "stderr",
     "output_type": "stream",
     "text": [
      "100%|█████████████████████████████████████████████████████████████████████████| 200000/200000 [12:22<00:00, 269.50it/s]\n"
     ]
    },
    {
     "name": "stdout",
     "output_type": "stream",
     "text": [
      "Average eval return: -200.0\n",
      "\n",
      "****************************************************************************************************\n",
      "Namespace(config_file='experiments/offline/pointmass_veryhard2_iql.yaml', eval_interval=10000, num_eval_trajectories=10, num_render_trajectories=0, seed=1, no_gpu=False, which_gpu=0, log_interval=1, dataset_dir='datasets', env_name='PointmassVeryHard-Galton-v0', dataset_name='pointmass_veryhard-Galton_rnd', log_suffix='')\n",
      "dqn_config{'exp_name': 'pointmass_veryhard_iql', 'total_steps': 50000, 'discount': 0.95, 'target_update_period': 300, 'clip_grad_norm': None, 'use_double_q': True, 'batch_size': 128, 'kwargs': {'training_steps': 200000, 'dataset_name': 'pointmass_veryhard-Galton_rnd'}, 'exploration_schedule': <cs285.env_configs.schedule.ConstantSchedule object at 0x00000241685F0790>, 'log_string': 'PointmassVeryHard-Galton-v0_dqn', 'env_name': 'PointmassVeryHard-Galton-v0', 'hidden_size': 256, 'learning_rate': 0.0003, 'num_layers': 3}\n",
      "awac_config{'total_steps': 50000, 'discount': 0.95, 'temperature': 10.0, 'hidden_size': 256, 'num_layers': 3, 'learning_rate': 0.0003, 'env_name': 'PointmassVeryHard-Galton-v0', 'exp_name': 'pointmass_veryhard_iql', 'use_double_q': True, 'training_steps': 200000, 'dataset_name': 'pointmass_veryhard-Galton_rnd', 'target_update_period': 300, 'clip_grad_norm': None, 'exploration_schedule': <cs285.env_configs.schedule.ConstantSchedule object at 0x00000241685F0790>, 'log_name': 'PointmassVeryHard-Galton-v0_awac10.0', 'batch_size': 128, 'agent': 'awac', 'actor_hidden_size': 128, 'actor_learning_rate': 0.0003, 'actor_num_layers': 2}\n",
      "iql_config{'total_steps': 50000, 'discount': 0.95, 'temperature': 10.0, 'expectile': 0.99, 'env_name': 'PointmassVeryHard-Galton-v0', 'exp_name': 'pointmass_veryhard_iql', 'use_double_q': True, 'training_steps': 200000, 'dataset_name': 'pointmass_veryhard-Galton_rnd', 'target_update_period': 300, 'clip_grad_norm': None, 'exploration_schedule': <cs285.env_configs.schedule.ConstantSchedule object at 0x00000241685F0790>, 'log_name': 'PointmassVeryHard-Galton-v0_iql0.99_temp10.0', 'batch_size': 128, 'agent': 'iql', 'hidden_size': 256, 'learning_rate': 0.0003, 'num_layers': 3}\n",
      "########################\n",
      "logging outputs to  C:\\Users\\user\\Colab\\Berkeley_DeepRL_Fall2023\\hw5\\cs285\\scripts\\../../data\\hw5_offline_PointmassVeryHard-Galton-v0_iql0.99_temp10.0\n",
      "########################\n",
      "Using CPU.\n"
     ]
    },
    {
     "name": "stderr",
     "output_type": "stream",
     "text": [
      "100%|█████████████████████████████████████████████████████████████████████████| 200000/200000 [31:02<00:00, 107.35it/s]"
     ]
    },
    {
     "name": "stdout",
     "output_type": "stream",
     "text": [
      "Average eval return: -200.0\n",
      "\n",
      "****************************************************************************************************\n",
      ">>>>>>>>>>>>>>>>>>>>>>>>>>>>>>>>>>>>>>>>>>>>>>>>>>>>>>>>>>>>>>>>>>>>>>>>>>>>>>>>>>>>>>>>>>>>>>>>>>>>\n"
     ]
    },
    {
     "name": "stderr",
     "output_type": "stream",
     "text": [
      "\n"
     ]
    }
   ],
   "source": [
    "# offline training, mazes2\n",
    "for maze in mazes2:\n",
    "    env_name = f'PointmassVeryHard-{maze}-v0'\n",
    "    dataset_name = f'pointmass_veryhard-{maze}_rnd'\n",
    "    for algo in algos:\n",
    "        %run ./cs285/scripts/run_hw5_offline.py \\\n",
    "            -cfg experiments/offline/pointmass_veryhard2_\"$algo\".yaml \\\n",
    "            --dataset_dir datasets \\\n",
    "            --env_name $env_name --dataset_name $dataset_name\n",
    "        print('\\n', '*' * 100, sep='')\n",
    "    print('>' * 100)"
   ]
  },
  {
   "cell_type": "code",
   "execution_count": 7,
   "id": "7fccbca5-e36a-41e2-90c0-8ba161a04e74",
   "metadata": {},
   "outputs": [
    {
     "name": "stdout",
     "output_type": "stream",
     "text": [
      "Namespace(config_file='experiments/offline/pointmass_veryhard3_dqn.yaml', eval_interval=10000, num_eval_trajectories=10, num_render_trajectories=0, seed=1, no_gpu=False, which_gpu=0, log_interval=1, dataset_dir='datasets', env_name='PointmassVeryHard-Maze11x11-v0', dataset_name='pointmass_veryhard-Maze11x11_rnd', log_suffix='')\n",
      "dqn_config{'exp_name': 'pointmass_veryhard_dqn', 'total_steps': 1000000, 'discount': 0.95, 'target_update_period': 300, 'clip_grad_norm': None, 'use_double_q': True, 'batch_size': 128, 'kwargs': {'training_steps': 1000000, 'dataset_name': 'pointmass_veryhard-Maze11x11_rnd'}, 'exploration_schedule': <cs285.env_configs.schedule.ConstantSchedule object at 0x000002416AC78370>, 'log_string': 'PointmassVeryHard-Maze11x11-v0_dqn', 'env_name': 'PointmassVeryHard-Maze11x11-v0', 'hidden_size': 256, 'learning_rate': 0.001, 'num_layers': 3}\n",
      "########################\n",
      "logging outputs to  C:\\Users\\user\\Colab\\Berkeley_DeepRL_Fall2023\\hw5\\cs285\\scripts\\../../data\\hw5_offline_PointmassVeryHard-Maze11x11-v0_dqn\n",
      "########################\n",
      "Using CPU.\n"
     ]
    },
    {
     "name": "stderr",
     "output_type": "stream",
     "text": [
      "100%|█████████████████████████████████████████████████████████████████████| 1000000/1000000 [1:00:48<00:00, 274.07it/s]\n"
     ]
    },
    {
     "name": "stdout",
     "output_type": "stream",
     "text": [
      "Average eval return: -200.0\n",
      "\n",
      "****************************************************************************************************\n",
      "Namespace(config_file='experiments/offline/pointmass_veryhard3_iql.yaml', eval_interval=10000, num_eval_trajectories=10, num_render_trajectories=0, seed=1, no_gpu=False, which_gpu=0, log_interval=1, dataset_dir='datasets', env_name='PointmassVeryHard-Maze11x11-v0', dataset_name='pointmass_veryhard-Maze11x11_rnd', log_suffix='')\n",
      "dqn_config{'exp_name': 'pointmass_veryhard_iql', 'total_steps': 50000, 'discount': 0.95, 'target_update_period': 300, 'clip_grad_norm': None, 'use_double_q': True, 'batch_size': 128, 'kwargs': {'training_steps': 1000000, 'dataset_name': 'pointmass_veryhard-Maze11x11_rnd'}, 'exploration_schedule': <cs285.env_configs.schedule.ConstantSchedule object at 0x00000241682AB5B0>, 'log_string': 'PointmassVeryHard-Maze11x11-v0_dqn', 'env_name': 'PointmassVeryHard-Maze11x11-v0', 'hidden_size': 256, 'learning_rate': 0.0003, 'num_layers': 3}\n",
      "awac_config{'total_steps': 50000, 'discount': 0.95, 'temperature': 10.0, 'hidden_size': 256, 'num_layers': 3, 'learning_rate': 0.0003, 'env_name': 'PointmassVeryHard-Maze11x11-v0', 'exp_name': 'pointmass_veryhard_iql', 'use_double_q': True, 'training_steps': 1000000, 'dataset_name': 'pointmass_veryhard-Maze11x11_rnd', 'target_update_period': 300, 'clip_grad_norm': None, 'exploration_schedule': <cs285.env_configs.schedule.ConstantSchedule object at 0x00000241682AB5B0>, 'log_name': 'PointmassVeryHard-Maze11x11-v0_awac10.0', 'batch_size': 128, 'agent': 'awac', 'actor_hidden_size': 128, 'actor_learning_rate': 0.0003, 'actor_num_layers': 2}\n",
      "iql_config{'total_steps': 50000, 'discount': 0.95, 'temperature': 10.0, 'expectile': 0.99, 'env_name': 'PointmassVeryHard-Maze11x11-v0', 'exp_name': 'pointmass_veryhard_iql', 'use_double_q': True, 'training_steps': 1000000, 'dataset_name': 'pointmass_veryhard-Maze11x11_rnd', 'target_update_period': 300, 'clip_grad_norm': None, 'exploration_schedule': <cs285.env_configs.schedule.ConstantSchedule object at 0x00000241682AB5B0>, 'log_name': 'PointmassVeryHard-Maze11x11-v0_iql0.99_temp10.0', 'batch_size': 128, 'agent': 'iql', 'hidden_size': 256, 'learning_rate': 0.0003, 'num_layers': 3}\n",
      "########################\n",
      "logging outputs to  C:\\Users\\user\\Colab\\Berkeley_DeepRL_Fall2023\\hw5\\cs285\\scripts\\../../data\\hw5_offline_PointmassVeryHard-Maze11x11-v0_iql0.99_temp10.0\n",
      "########################\n",
      "Using CPU.\n"
     ]
    },
    {
     "name": "stderr",
     "output_type": "stream",
     "text": [
      "100%|█████████████████████████████████████████████████████████████████████| 1000000/1000000 [2:39:35<00:00, 104.43it/s]\n"
     ]
    },
    {
     "name": "stdout",
     "output_type": "stream",
     "text": [
      "Average eval return: -200.0\n",
      "\n",
      "****************************************************************************************************\n",
      ">>>>>>>>>>>>>>>>>>>>>>>>>>>>>>>>>>>>>>>>>>>>>>>>>>>>>>>>>>>>>>>>>>>>>>>>>>>>>>>>>>>>>>>>>>>>>>>>>>>>\n",
      "Namespace(config_file='experiments/offline/pointmass_veryhard3_dqn.yaml', eval_interval=10000, num_eval_trajectories=10, num_render_trajectories=0, seed=1, no_gpu=False, which_gpu=0, log_interval=1, dataset_dir='datasets', env_name='PointmassVeryHard-UMulti-v0', dataset_name='pointmass_veryhard-UMulti_rnd', log_suffix='')\n",
      "dqn_config{'exp_name': 'pointmass_veryhard_dqn', 'total_steps': 1000000, 'discount': 0.95, 'target_update_period': 300, 'clip_grad_norm': None, 'use_double_q': True, 'batch_size': 128, 'kwargs': {'training_steps': 1000000, 'dataset_name': 'pointmass_veryhard-UMulti_rnd'}, 'exploration_schedule': <cs285.env_configs.schedule.ConstantSchedule object at 0x00000241677A18E0>, 'log_string': 'PointmassVeryHard-UMulti-v0_dqn', 'env_name': 'PointmassVeryHard-UMulti-v0', 'hidden_size': 256, 'learning_rate': 0.001, 'num_layers': 3}\n",
      "########################\n",
      "logging outputs to  C:\\Users\\user\\Colab\\Berkeley_DeepRL_Fall2023\\hw5\\cs285\\scripts\\../../data\\hw5_offline_PointmassVeryHard-UMulti-v0_dqn\n",
      "########################\n",
      "Using CPU.\n"
     ]
    },
    {
     "name": "stderr",
     "output_type": "stream",
     "text": [
      "100%|█████████████████████████████████████████████████████████████████████| 1000000/1000000 [1:01:18<00:00, 271.82it/s]\n"
     ]
    },
    {
     "name": "stdout",
     "output_type": "stream",
     "text": [
      "Average eval return: -200.0\n",
      "\n",
      "****************************************************************************************************\n",
      "Namespace(config_file='experiments/offline/pointmass_veryhard3_iql.yaml', eval_interval=10000, num_eval_trajectories=10, num_render_trajectories=0, seed=1, no_gpu=False, which_gpu=0, log_interval=1, dataset_dir='datasets', env_name='PointmassVeryHard-UMulti-v0', dataset_name='pointmass_veryhard-UMulti_rnd', log_suffix='')\n",
      "dqn_config{'exp_name': 'pointmass_veryhard_iql', 'total_steps': 50000, 'discount': 0.95, 'target_update_period': 300, 'clip_grad_norm': None, 'use_double_q': True, 'batch_size': 128, 'kwargs': {'training_steps': 1000000, 'dataset_name': 'pointmass_veryhard-UMulti_rnd'}, 'exploration_schedule': <cs285.env_configs.schedule.ConstantSchedule object at 0x0000024168677D30>, 'log_string': 'PointmassVeryHard-UMulti-v0_dqn', 'env_name': 'PointmassVeryHard-UMulti-v0', 'hidden_size': 256, 'learning_rate': 0.0003, 'num_layers': 3}\n",
      "awac_config{'total_steps': 50000, 'discount': 0.95, 'temperature': 10.0, 'hidden_size': 256, 'num_layers': 3, 'learning_rate': 0.0003, 'env_name': 'PointmassVeryHard-UMulti-v0', 'exp_name': 'pointmass_veryhard_iql', 'use_double_q': True, 'training_steps': 1000000, 'dataset_name': 'pointmass_veryhard-UMulti_rnd', 'target_update_period': 300, 'clip_grad_norm': None, 'exploration_schedule': <cs285.env_configs.schedule.ConstantSchedule object at 0x0000024168677D30>, 'log_name': 'PointmassVeryHard-UMulti-v0_awac10.0', 'batch_size': 128, 'agent': 'awac', 'actor_hidden_size': 128, 'actor_learning_rate': 0.0003, 'actor_num_layers': 2}\n",
      "iql_config{'total_steps': 50000, 'discount': 0.95, 'temperature': 10.0, 'expectile': 0.99, 'env_name': 'PointmassVeryHard-UMulti-v0', 'exp_name': 'pointmass_veryhard_iql', 'use_double_q': True, 'training_steps': 1000000, 'dataset_name': 'pointmass_veryhard-UMulti_rnd', 'target_update_period': 300, 'clip_grad_norm': None, 'exploration_schedule': <cs285.env_configs.schedule.ConstantSchedule object at 0x0000024168677D30>, 'log_name': 'PointmassVeryHard-UMulti-v0_iql0.99_temp10.0', 'batch_size': 128, 'agent': 'iql', 'hidden_size': 256, 'learning_rate': 0.0003, 'num_layers': 3}\n",
      "########################\n",
      "logging outputs to  C:\\Users\\user\\Colab\\Berkeley_DeepRL_Fall2023\\hw5\\cs285\\scripts\\../../data\\hw5_offline_PointmassVeryHard-UMulti-v0_iql0.99_temp10.0\n",
      "########################\n",
      "Using CPU.\n"
     ]
    },
    {
     "name": "stderr",
     "output_type": "stream",
     "text": [
      "100%|██████████████████████████████████████████████████████████████████████| 1000000/1000000 [3:23:59<00:00, 81.70it/s]\n"
     ]
    },
    {
     "name": "stdout",
     "output_type": "stream",
     "text": [
      "Average eval return: -200.0\n",
      "\n",
      "****************************************************************************************************\n",
      ">>>>>>>>>>>>>>>>>>>>>>>>>>>>>>>>>>>>>>>>>>>>>>>>>>>>>>>>>>>>>>>>>>>>>>>>>>>>>>>>>>>>>>>>>>>>>>>>>>>>\n",
      "Namespace(config_file='experiments/offline/pointmass_veryhard3_dqn.yaml', eval_interval=10000, num_eval_trajectories=10, num_render_trajectories=0, seed=1, no_gpu=False, which_gpu=0, log_interval=1, dataset_dir='datasets', env_name='PointmassVeryHard-Tunnel-v0', dataset_name='pointmass_veryhard-Tunnel_rnd', log_suffix='')\n",
      "dqn_config{'exp_name': 'pointmass_veryhard_dqn', 'total_steps': 1000000, 'discount': 0.95, 'target_update_period': 300, 'clip_grad_norm': None, 'use_double_q': True, 'batch_size': 128, 'kwargs': {'training_steps': 1000000, 'dataset_name': 'pointmass_veryhard-Tunnel_rnd'}, 'exploration_schedule': <cs285.env_configs.schedule.ConstantSchedule object at 0x000002416CAEB340>, 'log_string': 'PointmassVeryHard-Tunnel-v0_dqn', 'env_name': 'PointmassVeryHard-Tunnel-v0', 'hidden_size': 256, 'learning_rate': 0.001, 'num_layers': 3}\n",
      "########################\n",
      "logging outputs to  C:\\Users\\user\\Colab\\Berkeley_DeepRL_Fall2023\\hw5\\cs285\\scripts\\../../data\\hw5_offline_PointmassVeryHard-Tunnel-v0_dqn\n",
      "########################\n",
      "Using CPU.\n"
     ]
    },
    {
     "name": "stderr",
     "output_type": "stream",
     "text": [
      "100%|█████████████████████████████████████████████████████████████████████| 1000000/1000000 [1:03:23<00:00, 262.88it/s]\n"
     ]
    },
    {
     "name": "stdout",
     "output_type": "stream",
     "text": [
      "Average eval return: -200.0\n",
      "\n",
      "****************************************************************************************************\n",
      "Namespace(config_file='experiments/offline/pointmass_veryhard3_iql.yaml', eval_interval=10000, num_eval_trajectories=10, num_render_trajectories=0, seed=1, no_gpu=False, which_gpu=0, log_interval=1, dataset_dir='datasets', env_name='PointmassVeryHard-Tunnel-v0', dataset_name='pointmass_veryhard-Tunnel_rnd', log_suffix='')\n",
      "dqn_config{'exp_name': 'pointmass_veryhard_iql', 'total_steps': 50000, 'discount': 0.95, 'target_update_period': 300, 'clip_grad_norm': None, 'use_double_q': True, 'batch_size': 128, 'kwargs': {'training_steps': 1000000, 'dataset_name': 'pointmass_veryhard-Tunnel_rnd'}, 'exploration_schedule': <cs285.env_configs.schedule.ConstantSchedule object at 0x00000241691E3CD0>, 'log_string': 'PointmassVeryHard-Tunnel-v0_dqn', 'env_name': 'PointmassVeryHard-Tunnel-v0', 'hidden_size': 256, 'learning_rate': 0.0003, 'num_layers': 3}\n",
      "awac_config{'total_steps': 50000, 'discount': 0.95, 'temperature': 10.0, 'hidden_size': 256, 'num_layers': 3, 'learning_rate': 0.0003, 'env_name': 'PointmassVeryHard-Tunnel-v0', 'exp_name': 'pointmass_veryhard_iql', 'use_double_q': True, 'training_steps': 1000000, 'dataset_name': 'pointmass_veryhard-Tunnel_rnd', 'target_update_period': 300, 'clip_grad_norm': None, 'exploration_schedule': <cs285.env_configs.schedule.ConstantSchedule object at 0x00000241691E3CD0>, 'log_name': 'PointmassVeryHard-Tunnel-v0_awac10.0', 'batch_size': 128, 'agent': 'awac', 'actor_hidden_size': 128, 'actor_learning_rate': 0.0003, 'actor_num_layers': 2}\n",
      "iql_config{'total_steps': 50000, 'discount': 0.95, 'temperature': 10.0, 'expectile': 0.99, 'env_name': 'PointmassVeryHard-Tunnel-v0', 'exp_name': 'pointmass_veryhard_iql', 'use_double_q': True, 'training_steps': 1000000, 'dataset_name': 'pointmass_veryhard-Tunnel_rnd', 'target_update_period': 300, 'clip_grad_norm': None, 'exploration_schedule': <cs285.env_configs.schedule.ConstantSchedule object at 0x00000241691E3CD0>, 'log_name': 'PointmassVeryHard-Tunnel-v0_iql0.99_temp10.0', 'batch_size': 128, 'agent': 'iql', 'hidden_size': 256, 'learning_rate': 0.0003, 'num_layers': 3}\n",
      "########################\n",
      "logging outputs to  C:\\Users\\user\\Colab\\Berkeley_DeepRL_Fall2023\\hw5\\cs285\\scripts\\../../data\\hw5_offline_PointmassVeryHard-Tunnel-v0_iql0.99_temp10.0\n",
      "########################\n",
      "Using CPU.\n"
     ]
    },
    {
     "name": "stderr",
     "output_type": "stream",
     "text": [
      "100%|█████████████████████████████████████████████████████████████████████| 1000000/1000000 [2:39:32<00:00, 104.47it/s]"
     ]
    },
    {
     "name": "stdout",
     "output_type": "stream",
     "text": [
      "Average eval return: -200.0\n",
      "\n",
      "****************************************************************************************************\n",
      ">>>>>>>>>>>>>>>>>>>>>>>>>>>>>>>>>>>>>>>>>>>>>>>>>>>>>>>>>>>>>>>>>>>>>>>>>>>>>>>>>>>>>>>>>>>>>>>>>>>>\n"
     ]
    },
    {
     "name": "stderr",
     "output_type": "stream",
     "text": [
      "\n"
     ]
    }
   ],
   "source": [
    "# offline training, mazes3\n",
    "for maze in mazes3:\n",
    "    env_name = f'PointmassVeryHard-{maze}-v0'\n",
    "    dataset_name = f'pointmass_veryhard-{maze}_rnd'\n",
    "    for algo in algos:\n",
    "        %run ./cs285/scripts/run_hw5_offline.py \\\n",
    "            -cfg experiments/offline/pointmass_veryhard3_\"$algo\".yaml \\\n",
    "            --dataset_dir datasets \\\n",
    "            --env_name $env_name --dataset_name $dataset_name\n",
    "        print('\\n', '*' * 100, sep='')\n",
    "    print('>' * 100)"
   ]
  },
  {
   "cell_type": "code",
   "execution_count": 8,
   "id": "e44160b0-6abb-4220-81ee-b8ff567708b8",
   "metadata": {
    "scrolled": true
   },
   "outputs": [
    {
     "name": "stdout",
     "output_type": "stream",
     "text": [
      "Namespace(config_file='experiments/finetuning/pointmass_veryhard1_dqn_finetune.yaml', eval_interval=10000, visualize_interval=1000, num_eval_trajectories=10, seed=1, no_gpu=False, which_gpu=0, log_interval=1, use_reward=False, dataset_dir='datasets', env_name='PointmassVeryHard-FlyTrapSmall-v0', dataset_name='pointmass_veryhard-FlyTrapSmall_rnd')\n",
      "dqn_config{'exp_name': 'pointmass_veryhard_dqn', 'total_steps': 200000, 'discount': 0.95, 'target_update_period': 300, 'clip_grad_norm': None, 'use_double_q': True, 'batch_size': 128, 'kwargs': {'offline_steps': 100000, 'dataset_name': 'pointmass_veryhard-FlyTrapSmall_rnd'}, 'exploration_schedule': <cs285.env_configs.schedule.ConstantSchedule object at 0x000002416C80B250>, 'log_string': 'PointmassVeryHard-FlyTrapSmall-v0_dqn', 'env_name': 'PointmassVeryHard-FlyTrapSmall-v0', 'hidden_size': 128, 'learning_rate': 0.001, 'num_layers': 2}\n",
      "########################\n",
      "logging outputs to  C:\\Users\\user\\Colab\\Berkeley_DeepRL_Fall2023\\hw5\\cs285\\scripts\\../../data\\hw5_finetune_PointmassVeryHard-FlyTrapSmall-v0_dqn\n",
      "########################\n",
      "Using CPU.\n",
      "dataset size: 20000\n",
      "buffer size: 200000\n"
     ]
    },
    {
     "name": "stderr",
     "output_type": "stream",
     "text": [
      "100%|█████████████████████████████████████████████████████████████████████████| 200000/200000 [08:53<00:00, 374.89it/s]\n"
     ]
    },
    {
     "name": "stdout",
     "output_type": "stream",
     "text": [
      "Average eval return: -26.100000381469727\n",
      "Saved final heatmap to exploration_visualization\\finetune_PointmassVeryHard-FlyTrapSmall-v0_dqn.png\n",
      "Saved final heatmap to exploration_visualization\\finetune_totalsteps_PointmassVeryHard-FlyTrapSmall-v0_dqn.png\n",
      "\n",
      "****************************************************************************************************\n",
      "Namespace(config_file='experiments/finetuning/pointmass_veryhard1_iql_finetune.yaml', eval_interval=10000, visualize_interval=1000, num_eval_trajectories=10, seed=1, no_gpu=False, which_gpu=0, log_interval=1, use_reward=False, dataset_dir='datasets', env_name='PointmassVeryHard-FlyTrapSmall-v0', dataset_name='pointmass_veryhard-FlyTrapSmall_rnd')\n",
      "dqn_config{'exp_name': 'pointmass_veryhard_iql', 'total_steps': 200000, 'discount': 0.95, 'target_update_period': 300, 'clip_grad_norm': None, 'use_double_q': True, 'batch_size': 128, 'kwargs': {'offline_steps': 100000, 'dataset_name': 'pointmass_veryhard-FlyTrapSmall_rnd'}, 'exploration_schedule': <cs285.env_configs.schedule.ConstantSchedule object at 0x0000024167B46D90>, 'log_string': 'PointmassVeryHard-FlyTrapSmall-v0_dqn', 'env_name': 'PointmassVeryHard-FlyTrapSmall-v0', 'hidden_size': 128, 'learning_rate': 0.0003, 'num_layers': 2}\n",
      "awac_config{'total_steps': 200000, 'discount': 0.95, 'temperature': 10.0, 'hidden_size': 128, 'num_layers': 2, 'learning_rate': 0.0003, 'env_name': 'PointmassVeryHard-FlyTrapSmall-v0', 'exp_name': 'pointmass_veryhard_iql', 'use_double_q': True, 'offline_steps': 100000, 'dataset_name': 'pointmass_veryhard-FlyTrapSmall_rnd', 'target_update_period': 300, 'clip_grad_norm': None, 'exploration_schedule': <cs285.env_configs.schedule.ConstantSchedule object at 0x0000024167B46D90>, 'log_name': 'PointmassVeryHard-FlyTrapSmall-v0_awac10.0', 'batch_size': 128, 'agent': 'awac', 'actor_hidden_size': 128, 'actor_learning_rate': 0.0003, 'actor_num_layers': 2}\n",
      "iql_config{'total_steps': 200000, 'discount': 0.95, 'temperature': 10.0, 'expectile': 0.99, 'env_name': 'PointmassVeryHard-FlyTrapSmall-v0', 'exp_name': 'pointmass_veryhard_iql', 'use_double_q': True, 'offline_steps': 100000, 'dataset_name': 'pointmass_veryhard-FlyTrapSmall_rnd', 'target_update_period': 300, 'clip_grad_norm': None, 'exploration_schedule': <cs285.env_configs.schedule.ConstantSchedule object at 0x0000024167B46D90>, 'log_name': 'PointmassVeryHard-FlyTrapSmall-v0_iql0.99_temp10.0', 'batch_size': 128, 'agent': 'iql', 'hidden_size': 128, 'learning_rate': 0.0003, 'num_layers': 2}\n",
      "########################\n",
      "logging outputs to  C:\\Users\\user\\Colab\\Berkeley_DeepRL_Fall2023\\hw5\\cs285\\scripts\\../../data\\hw5_finetune_PointmassVeryHard-FlyTrapSmall-v0_iql0.99_temp10.0\n",
      "########################\n",
      "Using CPU.\n",
      "dataset size: 20000\n",
      "buffer size: 200000\n"
     ]
    },
    {
     "name": "stderr",
     "output_type": "stream",
     "text": [
      "100%|█████████████████████████████████████████████████████████████████████████| 200000/200000 [20:49<00:00, 160.03it/s]\n"
     ]
    },
    {
     "name": "stdout",
     "output_type": "stream",
     "text": [
      "Average eval return: -28.799999237060547\n",
      "Saved final heatmap to exploration_visualization\\finetune_PointmassVeryHard-FlyTrapSmall-v0_iql0.99_temp10.0.png\n",
      "Saved final heatmap to exploration_visualization\\finetune_totalsteps_PointmassVeryHard-FlyTrapSmall-v0_iql0.99_temp10.0.png\n",
      "\n",
      "****************************************************************************************************\n",
      ">>>>>>>>>>>>>>>>>>>>>>>>>>>>>>>>>>>>>>>>>>>>>>>>>>>>>>>>>>>>>>>>>>>>>>>>>>>>>>>>>>>>>>>>>>>>>>>>>>>>\n",
      "Namespace(config_file='experiments/finetuning/pointmass_veryhard1_dqn_finetune.yaml', eval_interval=10000, visualize_interval=1000, num_eval_trajectories=10, seed=1, no_gpu=False, which_gpu=0, log_interval=1, use_reward=False, dataset_dir='datasets', env_name='PointmassVeryHard-Tree-v0', dataset_name='pointmass_veryhard-Tree_rnd')\n",
      "dqn_config{'exp_name': 'pointmass_veryhard_dqn', 'total_steps': 200000, 'discount': 0.95, 'target_update_period': 300, 'clip_grad_norm': None, 'use_double_q': True, 'batch_size': 128, 'kwargs': {'offline_steps': 100000, 'dataset_name': 'pointmass_veryhard-Tree_rnd'}, 'exploration_schedule': <cs285.env_configs.schedule.ConstantSchedule object at 0x0000024168349190>, 'log_string': 'PointmassVeryHard-Tree-v0_dqn', 'env_name': 'PointmassVeryHard-Tree-v0', 'hidden_size': 128, 'learning_rate': 0.001, 'num_layers': 2}\n",
      "########################\n",
      "logging outputs to  C:\\Users\\user\\Colab\\Berkeley_DeepRL_Fall2023\\hw5\\cs285\\scripts\\../../data\\hw5_finetune_PointmassVeryHard-Tree-v0_dqn\n",
      "########################\n",
      "Using CPU.\n",
      "dataset size: 20000\n",
      "buffer size: 200000\n"
     ]
    },
    {
     "name": "stderr",
     "output_type": "stream",
     "text": [
      "100%|█████████████████████████████████████████████████████████████████████████| 200000/200000 [09:27<00:00, 352.45it/s]\n"
     ]
    },
    {
     "name": "stdout",
     "output_type": "stream",
     "text": [
      "Average eval return: -39.70000076293945\n",
      "Saved final heatmap to exploration_visualization\\finetune_PointmassVeryHard-Tree-v0_dqn.png\n",
      "Saved final heatmap to exploration_visualization\\finetune_totalsteps_PointmassVeryHard-Tree-v0_dqn.png\n",
      "\n",
      "****************************************************************************************************\n",
      "Namespace(config_file='experiments/finetuning/pointmass_veryhard1_iql_finetune.yaml', eval_interval=10000, visualize_interval=1000, num_eval_trajectories=10, seed=1, no_gpu=False, which_gpu=0, log_interval=1, use_reward=False, dataset_dir='datasets', env_name='PointmassVeryHard-Tree-v0', dataset_name='pointmass_veryhard-Tree_rnd')\n",
      "dqn_config{'exp_name': 'pointmass_veryhard_iql', 'total_steps': 200000, 'discount': 0.95, 'target_update_period': 300, 'clip_grad_norm': None, 'use_double_q': True, 'batch_size': 128, 'kwargs': {'offline_steps': 100000, 'dataset_name': 'pointmass_veryhard-Tree_rnd'}, 'exploration_schedule': <cs285.env_configs.schedule.ConstantSchedule object at 0x000002416AAF3940>, 'log_string': 'PointmassVeryHard-Tree-v0_dqn', 'env_name': 'PointmassVeryHard-Tree-v0', 'hidden_size': 128, 'learning_rate': 0.0003, 'num_layers': 2}\n",
      "awac_config{'total_steps': 200000, 'discount': 0.95, 'temperature': 10.0, 'hidden_size': 128, 'num_layers': 2, 'learning_rate': 0.0003, 'env_name': 'PointmassVeryHard-Tree-v0', 'exp_name': 'pointmass_veryhard_iql', 'use_double_q': True, 'offline_steps': 100000, 'dataset_name': 'pointmass_veryhard-Tree_rnd', 'target_update_period': 300, 'clip_grad_norm': None, 'exploration_schedule': <cs285.env_configs.schedule.ConstantSchedule object at 0x000002416AAF3940>, 'log_name': 'PointmassVeryHard-Tree-v0_awac10.0', 'batch_size': 128, 'agent': 'awac', 'actor_hidden_size': 128, 'actor_learning_rate': 0.0003, 'actor_num_layers': 2}\n",
      "iql_config{'total_steps': 200000, 'discount': 0.95, 'temperature': 10.0, 'expectile': 0.99, 'env_name': 'PointmassVeryHard-Tree-v0', 'exp_name': 'pointmass_veryhard_iql', 'use_double_q': True, 'offline_steps': 100000, 'dataset_name': 'pointmass_veryhard-Tree_rnd', 'target_update_period': 300, 'clip_grad_norm': None, 'exploration_schedule': <cs285.env_configs.schedule.ConstantSchedule object at 0x000002416AAF3940>, 'log_name': 'PointmassVeryHard-Tree-v0_iql0.99_temp10.0', 'batch_size': 128, 'agent': 'iql', 'hidden_size': 128, 'learning_rate': 0.0003, 'num_layers': 2}\n",
      "########################\n",
      "logging outputs to  C:\\Users\\user\\Colab\\Berkeley_DeepRL_Fall2023\\hw5\\cs285\\scripts\\../../data\\hw5_finetune_PointmassVeryHard-Tree-v0_iql0.99_temp10.0\n",
      "########################\n",
      "Using CPU.\n",
      "dataset size: 20000\n",
      "buffer size: 200000\n"
     ]
    },
    {
     "name": "stderr",
     "output_type": "stream",
     "text": [
      "100%|█████████████████████████████████████████████████████████████████████████| 200000/200000 [21:08<00:00, 157.70it/s]\n"
     ]
    },
    {
     "name": "stdout",
     "output_type": "stream",
     "text": [
      "Average eval return: -31.5\n",
      "Saved final heatmap to exploration_visualization\\finetune_PointmassVeryHard-Tree-v0_iql0.99_temp10.0.png\n",
      "Saved final heatmap to exploration_visualization\\finetune_totalsteps_PointmassVeryHard-Tree-v0_iql0.99_temp10.0.png\n",
      "\n",
      "****************************************************************************************************\n",
      ">>>>>>>>>>>>>>>>>>>>>>>>>>>>>>>>>>>>>>>>>>>>>>>>>>>>>>>>>>>>>>>>>>>>>>>>>>>>>>>>>>>>>>>>>>>>>>>>>>>>\n"
     ]
    }
   ],
   "source": [
    "# online finetuning, mazes1\n",
    "for maze in mazes1:\n",
    "    env_name = f'PointmassVeryHard-{maze}-v0'\n",
    "    dataset_name = f'pointmass_veryhard-{maze}_rnd'\n",
    "    for algo in algos:\n",
    "        %run ./cs285/scripts/run_hw5_finetune.py \\\n",
    "            -cfg experiments/finetuning/pointmass_veryhard1_\"$algo\"_finetune.yaml \\\n",
    "            --dataset_dir datasets \\\n",
    "            --env_name $env_name --dataset_name $dataset_name\n",
    "        print('\\n', '*' * 100, sep='')\n",
    "    print('>' * 100)"
   ]
  },
  {
   "cell_type": "code",
   "execution_count": 9,
   "id": "81ed07c3-3b60-4a7f-ac42-7cefe1abd59d",
   "metadata": {},
   "outputs": [
    {
     "name": "stdout",
     "output_type": "stream",
     "text": [
      "Namespace(config_file='experiments/finetuning/pointmass_veryhard2_dqn_finetune.yaml', eval_interval=10000, visualize_interval=1000, num_eval_trajectories=10, seed=1, no_gpu=False, which_gpu=0, log_interval=1, use_reward=False, dataset_dir='datasets', env_name='PointmassVeryHard-Spiral11x11-v0', dataset_name='pointmass_veryhard-Spiral11x11_rnd')\n",
      "dqn_config{'exp_name': 'pointmass_veryhard_dqn', 'total_steps': 200000, 'discount': 0.95, 'target_update_period': 300, 'clip_grad_norm': None, 'use_double_q': True, 'batch_size': 128, 'kwargs': {'offline_steps': 100000, 'dataset_name': 'pointmass_veryhard-Spiral11x11_rnd'}, 'exploration_schedule': <cs285.env_configs.schedule.ConstantSchedule object at 0x0000024167AA3A00>, 'log_string': 'PointmassVeryHard-Spiral11x11-v0_dqn', 'env_name': 'PointmassVeryHard-Spiral11x11-v0', 'hidden_size': 256, 'learning_rate': 0.001, 'num_layers': 3}\n",
      "########################\n",
      "logging outputs to  C:\\Users\\user\\Colab\\Berkeley_DeepRL_Fall2023\\hw5\\cs285\\scripts\\../../data\\hw5_finetune_PointmassVeryHard-Spiral11x11-v0_dqn\n",
      "########################\n",
      "Using CPU.\n",
      "dataset size: 20000\n",
      "buffer size: 200000\n"
     ]
    },
    {
     "name": "stderr",
     "output_type": "stream",
     "text": [
      "100%|█████████████████████████████████████████████████████████████████████████| 200000/200000 [13:59<00:00, 238.12it/s]\n"
     ]
    },
    {
     "name": "stdout",
     "output_type": "stream",
     "text": [
      "Average eval return: -182.89999389648438\n",
      "Saved final heatmap to exploration_visualization\\finetune_PointmassVeryHard-Spiral11x11-v0_dqn.png\n",
      "Saved final heatmap to exploration_visualization\\finetune_totalsteps_PointmassVeryHard-Spiral11x11-v0_dqn.png\n",
      "\n",
      "****************************************************************************************************\n",
      "Namespace(config_file='experiments/finetuning/pointmass_veryhard2_iql_finetune.yaml', eval_interval=10000, visualize_interval=1000, num_eval_trajectories=10, seed=1, no_gpu=False, which_gpu=0, log_interval=1, use_reward=False, dataset_dir='datasets', env_name='PointmassVeryHard-Spiral11x11-v0', dataset_name='pointmass_veryhard-Spiral11x11_rnd')\n",
      "dqn_config{'exp_name': 'pointmass_veryhard_iql', 'total_steps': 200000, 'discount': 0.95, 'target_update_period': 300, 'clip_grad_norm': None, 'use_double_q': True, 'batch_size': 128, 'kwargs': {'offline_steps': 100000, 'dataset_name': 'pointmass_veryhard-Spiral11x11_rnd'}, 'exploration_schedule': <cs285.env_configs.schedule.ConstantSchedule object at 0x000002416A6C86A0>, 'log_string': 'PointmassVeryHard-Spiral11x11-v0_dqn', 'env_name': 'PointmassVeryHard-Spiral11x11-v0', 'hidden_size': 256, 'learning_rate': 0.0003, 'num_layers': 3}\n",
      "awac_config{'total_steps': 200000, 'discount': 0.95, 'temperature': 10.0, 'hidden_size': 256, 'num_layers': 3, 'learning_rate': 0.0003, 'env_name': 'PointmassVeryHard-Spiral11x11-v0', 'exp_name': 'pointmass_veryhard_iql', 'use_double_q': True, 'offline_steps': 100000, 'dataset_name': 'pointmass_veryhard-Spiral11x11_rnd', 'target_update_period': 300, 'clip_grad_norm': None, 'exploration_schedule': <cs285.env_configs.schedule.ConstantSchedule object at 0x000002416A6C86A0>, 'log_name': 'PointmassVeryHard-Spiral11x11-v0_awac10.0', 'batch_size': 128, 'agent': 'awac', 'actor_hidden_size': 128, 'actor_learning_rate': 0.0003, 'actor_num_layers': 2}\n",
      "iql_config{'total_steps': 200000, 'discount': 0.95, 'temperature': 10.0, 'expectile': 0.99, 'env_name': 'PointmassVeryHard-Spiral11x11-v0', 'exp_name': 'pointmass_veryhard_iql', 'use_double_q': True, 'offline_steps': 100000, 'dataset_name': 'pointmass_veryhard-Spiral11x11_rnd', 'target_update_period': 300, 'clip_grad_norm': None, 'exploration_schedule': <cs285.env_configs.schedule.ConstantSchedule object at 0x000002416A6C86A0>, 'log_name': 'PointmassVeryHard-Spiral11x11-v0_iql0.99_temp10.0', 'batch_size': 128, 'agent': 'iql', 'hidden_size': 256, 'learning_rate': 0.0003, 'num_layers': 3}\n",
      "########################\n",
      "logging outputs to  C:\\Users\\user\\Colab\\Berkeley_DeepRL_Fall2023\\hw5\\cs285\\scripts\\../../data\\hw5_finetune_PointmassVeryHard-Spiral11x11-v0_iql0.99_temp10.0\n",
      "########################\n",
      "Using CPU.\n",
      "dataset size: 20000\n",
      "buffer size: 200000\n"
     ]
    },
    {
     "name": "stderr",
     "output_type": "stream",
     "text": [
      "100%|██████████████████████████████████████████████████████████████████████████| 200000/200000 [33:45<00:00, 98.75it/s]\n"
     ]
    },
    {
     "name": "stdout",
     "output_type": "stream",
     "text": [
      "Average eval return: -69.9000015258789\n",
      "Saved final heatmap to exploration_visualization\\finetune_PointmassVeryHard-Spiral11x11-v0_iql0.99_temp10.0.png\n",
      "Saved final heatmap to exploration_visualization\\finetune_totalsteps_PointmassVeryHard-Spiral11x11-v0_iql0.99_temp10.0.png\n",
      "\n",
      "****************************************************************************************************\n",
      ">>>>>>>>>>>>>>>>>>>>>>>>>>>>>>>>>>>>>>>>>>>>>>>>>>>>>>>>>>>>>>>>>>>>>>>>>>>>>>>>>>>>>>>>>>>>>>>>>>>>\n",
      "Namespace(config_file='experiments/finetuning/pointmass_veryhard2_dqn_finetune.yaml', eval_interval=10000, visualize_interval=1000, num_eval_trajectories=10, seed=1, no_gpu=False, which_gpu=0, log_interval=1, use_reward=False, dataset_dir='datasets', env_name='PointmassVeryHard-FlyTrapBig-v0', dataset_name='pointmass_veryhard-FlyTrapBig_rnd')\n",
      "dqn_config{'exp_name': 'pointmass_veryhard_dqn', 'total_steps': 200000, 'discount': 0.95, 'target_update_period': 300, 'clip_grad_norm': None, 'use_double_q': True, 'batch_size': 128, 'kwargs': {'offline_steps': 100000, 'dataset_name': 'pointmass_veryhard-FlyTrapBig_rnd'}, 'exploration_schedule': <cs285.env_configs.schedule.ConstantSchedule object at 0x000002416827DA90>, 'log_string': 'PointmassVeryHard-FlyTrapBig-v0_dqn', 'env_name': 'PointmassVeryHard-FlyTrapBig-v0', 'hidden_size': 256, 'learning_rate': 0.001, 'num_layers': 3}\n",
      "########################\n",
      "logging outputs to  C:\\Users\\user\\Colab\\Berkeley_DeepRL_Fall2023\\hw5\\cs285\\scripts\\../../data\\hw5_finetune_PointmassVeryHard-FlyTrapBig-v0_dqn\n",
      "########################\n",
      "Using CPU.\n",
      "dataset size: 20000\n",
      "buffer size: 200000\n"
     ]
    },
    {
     "name": "stderr",
     "output_type": "stream",
     "text": [
      "100%|█████████████████████████████████████████████████████████████████████████| 200000/200000 [14:21<00:00, 232.09it/s]\n"
     ]
    },
    {
     "name": "stdout",
     "output_type": "stream",
     "text": [
      "Average eval return: -143.6999969482422\n",
      "Saved final heatmap to exploration_visualization\\finetune_PointmassVeryHard-FlyTrapBig-v0_dqn.png\n",
      "Saved final heatmap to exploration_visualization\\finetune_totalsteps_PointmassVeryHard-FlyTrapBig-v0_dqn.png\n",
      "\n",
      "****************************************************************************************************\n",
      "Namespace(config_file='experiments/finetuning/pointmass_veryhard2_iql_finetune.yaml', eval_interval=10000, visualize_interval=1000, num_eval_trajectories=10, seed=1, no_gpu=False, which_gpu=0, log_interval=1, use_reward=False, dataset_dir='datasets', env_name='PointmassVeryHard-FlyTrapBig-v0', dataset_name='pointmass_veryhard-FlyTrapBig_rnd')\n",
      "dqn_config{'exp_name': 'pointmass_veryhard_iql', 'total_steps': 200000, 'discount': 0.95, 'target_update_period': 300, 'clip_grad_norm': None, 'use_double_q': True, 'batch_size': 128, 'kwargs': {'offline_steps': 100000, 'dataset_name': 'pointmass_veryhard-FlyTrapBig_rnd'}, 'exploration_schedule': <cs285.env_configs.schedule.ConstantSchedule object at 0x000002416C712760>, 'log_string': 'PointmassVeryHard-FlyTrapBig-v0_dqn', 'env_name': 'PointmassVeryHard-FlyTrapBig-v0', 'hidden_size': 256, 'learning_rate': 0.0003, 'num_layers': 3}\n",
      "awac_config{'total_steps': 200000, 'discount': 0.95, 'temperature': 10.0, 'hidden_size': 256, 'num_layers': 3, 'learning_rate': 0.0003, 'env_name': 'PointmassVeryHard-FlyTrapBig-v0', 'exp_name': 'pointmass_veryhard_iql', 'use_double_q': True, 'offline_steps': 100000, 'dataset_name': 'pointmass_veryhard-FlyTrapBig_rnd', 'target_update_period': 300, 'clip_grad_norm': None, 'exploration_schedule': <cs285.env_configs.schedule.ConstantSchedule object at 0x000002416C712760>, 'log_name': 'PointmassVeryHard-FlyTrapBig-v0_awac10.0', 'batch_size': 128, 'agent': 'awac', 'actor_hidden_size': 128, 'actor_learning_rate': 0.0003, 'actor_num_layers': 2}\n",
      "iql_config{'total_steps': 200000, 'discount': 0.95, 'temperature': 10.0, 'expectile': 0.99, 'env_name': 'PointmassVeryHard-FlyTrapBig-v0', 'exp_name': 'pointmass_veryhard_iql', 'use_double_q': True, 'offline_steps': 100000, 'dataset_name': 'pointmass_veryhard-FlyTrapBig_rnd', 'target_update_period': 300, 'clip_grad_norm': None, 'exploration_schedule': <cs285.env_configs.schedule.ConstantSchedule object at 0x000002416C712760>, 'log_name': 'PointmassVeryHard-FlyTrapBig-v0_iql0.99_temp10.0', 'batch_size': 128, 'agent': 'iql', 'hidden_size': 256, 'learning_rate': 0.0003, 'num_layers': 3}\n",
      "########################\n",
      "logging outputs to  C:\\Users\\user\\Colab\\Berkeley_DeepRL_Fall2023\\hw5\\cs285\\scripts\\../../data\\hw5_finetune_PointmassVeryHard-FlyTrapBig-v0_iql0.99_temp10.0\n",
      "########################\n",
      "Using CPU.\n",
      "dataset size: 20000\n",
      "buffer size: 200000\n"
     ]
    },
    {
     "name": "stderr",
     "output_type": "stream",
     "text": [
      "100%|██████████████████████████████████████████████████████████████████████████| 200000/200000 [34:06<00:00, 97.71it/s]\n"
     ]
    },
    {
     "name": "stdout",
     "output_type": "stream",
     "text": [
      "Average eval return: -39.79999923706055\n",
      "Saved final heatmap to exploration_visualization\\finetune_PointmassVeryHard-FlyTrapBig-v0_iql0.99_temp10.0.png\n",
      "Saved final heatmap to exploration_visualization\\finetune_totalsteps_PointmassVeryHard-FlyTrapBig-v0_iql0.99_temp10.0.png\n",
      "\n",
      "****************************************************************************************************\n",
      ">>>>>>>>>>>>>>>>>>>>>>>>>>>>>>>>>>>>>>>>>>>>>>>>>>>>>>>>>>>>>>>>>>>>>>>>>>>>>>>>>>>>>>>>>>>>>>>>>>>>\n",
      "Namespace(config_file='experiments/finetuning/pointmass_veryhard2_dqn_finetune.yaml', eval_interval=10000, visualize_interval=1000, num_eval_trajectories=10, seed=1, no_gpu=False, which_gpu=0, log_interval=1, use_reward=False, dataset_dir='datasets', env_name='PointmassVeryHard-Galton-v0', dataset_name='pointmass_veryhard-Galton_rnd')\n",
      "dqn_config{'exp_name': 'pointmass_veryhard_dqn', 'total_steps': 200000, 'discount': 0.95, 'target_update_period': 300, 'clip_grad_norm': None, 'use_double_q': True, 'batch_size': 128, 'kwargs': {'offline_steps': 100000, 'dataset_name': 'pointmass_veryhard-Galton_rnd'}, 'exploration_schedule': <cs285.env_configs.schedule.ConstantSchedule object at 0x000002417208B400>, 'log_string': 'PointmassVeryHard-Galton-v0_dqn', 'env_name': 'PointmassVeryHard-Galton-v0', 'hidden_size': 256, 'learning_rate': 0.001, 'num_layers': 3}\n",
      "########################\n",
      "logging outputs to  C:\\Users\\user\\Colab\\Berkeley_DeepRL_Fall2023\\hw5\\cs285\\scripts\\../../data\\hw5_finetune_PointmassVeryHard-Galton-v0_dqn\n",
      "########################\n",
      "Using CPU.\n",
      "dataset size: 20000\n",
      "buffer size: 200000\n"
     ]
    },
    {
     "name": "stderr",
     "output_type": "stream",
     "text": [
      "100%|█████████████████████████████████████████████████████████████████████████| 200000/200000 [14:21<00:00, 232.28it/s]\n"
     ]
    },
    {
     "name": "stdout",
     "output_type": "stream",
     "text": [
      "Average eval return: -90.5\n",
      "Saved final heatmap to exploration_visualization\\finetune_PointmassVeryHard-Galton-v0_dqn.png\n",
      "Saved final heatmap to exploration_visualization\\finetune_totalsteps_PointmassVeryHard-Galton-v0_dqn.png\n",
      "\n",
      "****************************************************************************************************\n",
      "Namespace(config_file='experiments/finetuning/pointmass_veryhard2_iql_finetune.yaml', eval_interval=10000, visualize_interval=1000, num_eval_trajectories=10, seed=1, no_gpu=False, which_gpu=0, log_interval=1, use_reward=False, dataset_dir='datasets', env_name='PointmassVeryHard-Galton-v0', dataset_name='pointmass_veryhard-Galton_rnd')\n",
      "dqn_config{'exp_name': 'pointmass_veryhard_iql', 'total_steps': 200000, 'discount': 0.95, 'target_update_period': 300, 'clip_grad_norm': None, 'use_double_q': True, 'batch_size': 128, 'kwargs': {'offline_steps': 100000, 'dataset_name': 'pointmass_veryhard-Galton_rnd'}, 'exploration_schedule': <cs285.env_configs.schedule.ConstantSchedule object at 0x000002416A6816A0>, 'log_string': 'PointmassVeryHard-Galton-v0_dqn', 'env_name': 'PointmassVeryHard-Galton-v0', 'hidden_size': 256, 'learning_rate': 0.0003, 'num_layers': 3}\n",
      "awac_config{'total_steps': 200000, 'discount': 0.95, 'temperature': 10.0, 'hidden_size': 256, 'num_layers': 3, 'learning_rate': 0.0003, 'env_name': 'PointmassVeryHard-Galton-v0', 'exp_name': 'pointmass_veryhard_iql', 'use_double_q': True, 'offline_steps': 100000, 'dataset_name': 'pointmass_veryhard-Galton_rnd', 'target_update_period': 300, 'clip_grad_norm': None, 'exploration_schedule': <cs285.env_configs.schedule.ConstantSchedule object at 0x000002416A6816A0>, 'log_name': 'PointmassVeryHard-Galton-v0_awac10.0', 'batch_size': 128, 'agent': 'awac', 'actor_hidden_size': 128, 'actor_learning_rate': 0.0003, 'actor_num_layers': 2}\n",
      "iql_config{'total_steps': 200000, 'discount': 0.95, 'temperature': 10.0, 'expectile': 0.99, 'env_name': 'PointmassVeryHard-Galton-v0', 'exp_name': 'pointmass_veryhard_iql', 'use_double_q': True, 'offline_steps': 100000, 'dataset_name': 'pointmass_veryhard-Galton_rnd', 'target_update_period': 300, 'clip_grad_norm': None, 'exploration_schedule': <cs285.env_configs.schedule.ConstantSchedule object at 0x000002416A6816A0>, 'log_name': 'PointmassVeryHard-Galton-v0_iql0.99_temp10.0', 'batch_size': 128, 'agent': 'iql', 'hidden_size': 256, 'learning_rate': 0.0003, 'num_layers': 3}\n",
      "########################\n",
      "logging outputs to  C:\\Users\\user\\Colab\\Berkeley_DeepRL_Fall2023\\hw5\\cs285\\scripts\\../../data\\hw5_finetune_PointmassVeryHard-Galton-v0_iql0.99_temp10.0\n",
      "########################\n",
      "Using CPU.\n",
      "dataset size: 20000\n",
      "buffer size: 200000\n"
     ]
    },
    {
     "name": "stderr",
     "output_type": "stream",
     "text": [
      "100%|██████████████████████████████████████████████████████████████████████████| 200000/200000 [34:04<00:00, 97.82it/s]\n"
     ]
    },
    {
     "name": "stdout",
     "output_type": "stream",
     "text": [
      "Average eval return: -57.400001525878906\n",
      "Saved final heatmap to exploration_visualization\\finetune_PointmassVeryHard-Galton-v0_iql0.99_temp10.0.png\n",
      "Saved final heatmap to exploration_visualization\\finetune_totalsteps_PointmassVeryHard-Galton-v0_iql0.99_temp10.0.png\n",
      "\n",
      "****************************************************************************************************\n",
      ">>>>>>>>>>>>>>>>>>>>>>>>>>>>>>>>>>>>>>>>>>>>>>>>>>>>>>>>>>>>>>>>>>>>>>>>>>>>>>>>>>>>>>>>>>>>>>>>>>>>\n"
     ]
    }
   ],
   "source": [
    "# online finetuning, mazes2\n",
    "for maze in mazes2:\n",
    "    env_name = f'PointmassVeryHard-{maze}-v0'\n",
    "    dataset_name = f'pointmass_veryhard-{maze}_rnd'\n",
    "    for algo in algos:\n",
    "        %run ./cs285/scripts/run_hw5_finetune.py \\\n",
    "            -cfg experiments/finetuning/pointmass_veryhard2_\"$algo\"_finetune.yaml \\\n",
    "            --dataset_dir datasets \\\n",
    "            --env_name $env_name --dataset_name $dataset_name\n",
    "        print('\\n', '*' * 100, sep='')\n",
    "    print('>' * 100)"
   ]
  },
  {
   "cell_type": "code",
   "execution_count": 10,
   "id": "1169e2cd-b300-4831-98c1-841b1ea96e31",
   "metadata": {},
   "outputs": [
    {
     "name": "stdout",
     "output_type": "stream",
     "text": [
      "Namespace(config_file='experiments/finetuning/pointmass_veryhard3_dqn_finetune.yaml', eval_interval=10000, visualize_interval=1000, num_eval_trajectories=10, seed=1, no_gpu=False, which_gpu=0, log_interval=1, use_reward=False, dataset_dir='datasets', env_name='PointmassVeryHard-Maze11x11-v0', dataset_name='pointmass_veryhard-Maze11x11_rnd')\n",
      "dqn_config{'exp_name': 'pointmass_veryhard_dqn', 'total_steps': 1000000, 'discount': 0.95, 'target_update_period': 300, 'clip_grad_norm': None, 'use_double_q': True, 'batch_size': 128, 'kwargs': {'offline_steps': 100000, 'dataset_name': 'pointmass_veryhard-Maze11x11_rnd'}, 'exploration_schedule': <cs285.env_configs.schedule.ConstantSchedule object at 0x0000024174EDD2B0>, 'log_string': 'PointmassVeryHard-Maze11x11-v0_dqn', 'env_name': 'PointmassVeryHard-Maze11x11-v0', 'hidden_size': 256, 'learning_rate': 0.001, 'num_layers': 3}\n",
      "########################\n",
      "logging outputs to  C:\\Users\\user\\Colab\\Berkeley_DeepRL_Fall2023\\hw5\\cs285\\scripts\\../../data\\hw5_finetune_PointmassVeryHard-Maze11x11-v0_dqn\n",
      "########################\n",
      "Using CPU.\n",
      "dataset size: 20000\n",
      "buffer size: 1000000\n"
     ]
    },
    {
     "name": "stderr",
     "output_type": "stream",
     "text": [
      "100%|█████████████████████████████████████████████████████████████████████| 1000000/1000000 [1:13:33<00:00, 226.58it/s]\n"
     ]
    },
    {
     "name": "stdout",
     "output_type": "stream",
     "text": [
      "Average eval return: -200.0\n",
      "Saved final heatmap to exploration_visualization\\finetune_PointmassVeryHard-Maze11x11-v0_dqn.png\n",
      "Saved final heatmap to exploration_visualization\\finetune_totalsteps_PointmassVeryHard-Maze11x11-v0_dqn.png\n",
      "\n",
      "****************************************************************************************************\n",
      "Namespace(config_file='experiments/finetuning/pointmass_veryhard3_iql_finetune.yaml', eval_interval=10000, visualize_interval=1000, num_eval_trajectories=10, seed=1, no_gpu=False, which_gpu=0, log_interval=1, use_reward=False, dataset_dir='datasets', env_name='PointmassVeryHard-Maze11x11-v0', dataset_name='pointmass_veryhard-Maze11x11_rnd')\n",
      "dqn_config{'exp_name': 'pointmass_veryhard_iql', 'total_steps': 1000000, 'discount': 0.95, 'target_update_period': 300, 'clip_grad_norm': None, 'use_double_q': True, 'batch_size': 128, 'kwargs': {'offline_steps': 100000, 'dataset_name': 'pointmass_veryhard-Maze11x11_rnd'}, 'exploration_schedule': <cs285.env_configs.schedule.ConstantSchedule object at 0x00000241685369D0>, 'log_string': 'PointmassVeryHard-Maze11x11-v0_dqn', 'env_name': 'PointmassVeryHard-Maze11x11-v0', 'hidden_size': 256, 'learning_rate': 0.0003, 'num_layers': 3}\n",
      "awac_config{'total_steps': 1000000, 'discount': 0.95, 'temperature': 10.0, 'hidden_size': 256, 'num_layers': 3, 'learning_rate': 0.0003, 'env_name': 'PointmassVeryHard-Maze11x11-v0', 'exp_name': 'pointmass_veryhard_iql', 'use_double_q': True, 'offline_steps': 100000, 'dataset_name': 'pointmass_veryhard-Maze11x11_rnd', 'target_update_period': 300, 'clip_grad_norm': None, 'exploration_schedule': <cs285.env_configs.schedule.ConstantSchedule object at 0x00000241685369D0>, 'log_name': 'PointmassVeryHard-Maze11x11-v0_awac10.0', 'batch_size': 128, 'agent': 'awac', 'actor_hidden_size': 128, 'actor_learning_rate': 0.0003, 'actor_num_layers': 2}\n",
      "iql_config{'total_steps': 1000000, 'discount': 0.95, 'temperature': 10.0, 'expectile': 0.99, 'env_name': 'PointmassVeryHard-Maze11x11-v0', 'exp_name': 'pointmass_veryhard_iql', 'use_double_q': True, 'offline_steps': 100000, 'dataset_name': 'pointmass_veryhard-Maze11x11_rnd', 'target_update_period': 300, 'clip_grad_norm': None, 'exploration_schedule': <cs285.env_configs.schedule.ConstantSchedule object at 0x00000241685369D0>, 'log_name': 'PointmassVeryHard-Maze11x11-v0_iql0.99_temp10.0', 'batch_size': 128, 'agent': 'iql', 'hidden_size': 256, 'learning_rate': 0.0003, 'num_layers': 3}\n",
      "########################\n",
      "logging outputs to  C:\\Users\\user\\Colab\\Berkeley_DeepRL_Fall2023\\hw5\\cs285\\scripts\\../../data\\hw5_finetune_PointmassVeryHard-Maze11x11-v0_iql0.99_temp10.0\n",
      "########################\n",
      "Using CPU.\n",
      "dataset size: 20000\n",
      "buffer size: 1000000\n"
     ]
    },
    {
     "name": "stderr",
     "output_type": "stream",
     "text": [
      "100%|██████████████████████████████████████████████████████████████████████| 1000000/1000000 [2:54:37<00:00, 95.44it/s]\n"
     ]
    },
    {
     "name": "stdout",
     "output_type": "stream",
     "text": [
      "Average eval return: -200.0\n",
      "Saved final heatmap to exploration_visualization\\finetune_PointmassVeryHard-Maze11x11-v0_iql0.99_temp10.0.png\n",
      "Saved final heatmap to exploration_visualization\\finetune_totalsteps_PointmassVeryHard-Maze11x11-v0_iql0.99_temp10.0.png\n",
      "\n",
      "****************************************************************************************************\n",
      ">>>>>>>>>>>>>>>>>>>>>>>>>>>>>>>>>>>>>>>>>>>>>>>>>>>>>>>>>>>>>>>>>>>>>>>>>>>>>>>>>>>>>>>>>>>>>>>>>>>>\n",
      "Namespace(config_file='experiments/finetuning/pointmass_veryhard3_dqn_finetune.yaml', eval_interval=10000, visualize_interval=1000, num_eval_trajectories=10, seed=1, no_gpu=False, which_gpu=0, log_interval=1, use_reward=False, dataset_dir='datasets', env_name='PointmassVeryHard-UMulti-v0', dataset_name='pointmass_veryhard-UMulti_rnd')\n",
      "dqn_config{'exp_name': 'pointmass_veryhard_dqn', 'total_steps': 1000000, 'discount': 0.95, 'target_update_period': 300, 'clip_grad_norm': None, 'use_double_q': True, 'batch_size': 128, 'kwargs': {'offline_steps': 100000, 'dataset_name': 'pointmass_veryhard-UMulti_rnd'}, 'exploration_schedule': <cs285.env_configs.schedule.ConstantSchedule object at 0x0000024167AB4C40>, 'log_string': 'PointmassVeryHard-UMulti-v0_dqn', 'env_name': 'PointmassVeryHard-UMulti-v0', 'hidden_size': 256, 'learning_rate': 0.001, 'num_layers': 3}\n",
      "########################\n",
      "logging outputs to  C:\\Users\\user\\Colab\\Berkeley_DeepRL_Fall2023\\hw5\\cs285\\scripts\\../../data\\hw5_finetune_PointmassVeryHard-UMulti-v0_dqn\n",
      "########################\n",
      "Using CPU.\n",
      "dataset size: 20000\n",
      "buffer size: 1000000\n"
     ]
    },
    {
     "name": "stderr",
     "output_type": "stream",
     "text": [
      "100%|█████████████████████████████████████████████████████████████████████| 1000000/1000000 [1:19:15<00:00, 210.29it/s]\n"
     ]
    },
    {
     "name": "stdout",
     "output_type": "stream",
     "text": [
      "Average eval return: -200.0\n",
      "Saved final heatmap to exploration_visualization\\finetune_PointmassVeryHard-UMulti-v0_dqn.png\n",
      "Saved final heatmap to exploration_visualization\\finetune_totalsteps_PointmassVeryHard-UMulti-v0_dqn.png\n",
      "\n",
      "****************************************************************************************************\n",
      "Namespace(config_file='experiments/finetuning/pointmass_veryhard3_iql_finetune.yaml', eval_interval=10000, visualize_interval=1000, num_eval_trajectories=10, seed=1, no_gpu=False, which_gpu=0, log_interval=1, use_reward=False, dataset_dir='datasets', env_name='PointmassVeryHard-UMulti-v0', dataset_name='pointmass_veryhard-UMulti_rnd')\n",
      "dqn_config{'exp_name': 'pointmass_veryhard_iql', 'total_steps': 1000000, 'discount': 0.95, 'target_update_period': 300, 'clip_grad_norm': None, 'use_double_q': True, 'batch_size': 128, 'kwargs': {'offline_steps': 100000, 'dataset_name': 'pointmass_veryhard-UMulti_rnd'}, 'exploration_schedule': <cs285.env_configs.schedule.ConstantSchedule object at 0x00000241049FA4C0>, 'log_string': 'PointmassVeryHard-UMulti-v0_dqn', 'env_name': 'PointmassVeryHard-UMulti-v0', 'hidden_size': 256, 'learning_rate': 0.0003, 'num_layers': 3}\n",
      "awac_config{'total_steps': 1000000, 'discount': 0.95, 'temperature': 10.0, 'hidden_size': 256, 'num_layers': 3, 'learning_rate': 0.0003, 'env_name': 'PointmassVeryHard-UMulti-v0', 'exp_name': 'pointmass_veryhard_iql', 'use_double_q': True, 'offline_steps': 100000, 'dataset_name': 'pointmass_veryhard-UMulti_rnd', 'target_update_period': 300, 'clip_grad_norm': None, 'exploration_schedule': <cs285.env_configs.schedule.ConstantSchedule object at 0x00000241049FA4C0>, 'log_name': 'PointmassVeryHard-UMulti-v0_awac10.0', 'batch_size': 128, 'agent': 'awac', 'actor_hidden_size': 128, 'actor_learning_rate': 0.0003, 'actor_num_layers': 2}\n",
      "iql_config{'total_steps': 1000000, 'discount': 0.95, 'temperature': 10.0, 'expectile': 0.99, 'env_name': 'PointmassVeryHard-UMulti-v0', 'exp_name': 'pointmass_veryhard_iql', 'use_double_q': True, 'offline_steps': 100000, 'dataset_name': 'pointmass_veryhard-UMulti_rnd', 'target_update_period': 300, 'clip_grad_norm': None, 'exploration_schedule': <cs285.env_configs.schedule.ConstantSchedule object at 0x00000241049FA4C0>, 'log_name': 'PointmassVeryHard-UMulti-v0_iql0.99_temp10.0', 'batch_size': 128, 'agent': 'iql', 'hidden_size': 256, 'learning_rate': 0.0003, 'num_layers': 3}\n",
      "########################\n",
      "logging outputs to  C:\\Users\\user\\Colab\\Berkeley_DeepRL_Fall2023\\hw5\\cs285\\scripts\\../../data\\hw5_finetune_PointmassVeryHard-UMulti-v0_iql0.99_temp10.0\n",
      "########################\n",
      "Using CPU.\n",
      "dataset size: 20000\n",
      "buffer size: 1000000\n"
     ]
    },
    {
     "name": "stderr",
     "output_type": "stream",
     "text": [
      "100%|██████████████████████████████████████████████████████████████████████| 1000000/1000000 [3:09:19<00:00, 88.03it/s]\n"
     ]
    },
    {
     "name": "stdout",
     "output_type": "stream",
     "text": [
      "Average eval return: -190.39999389648438\n",
      "Saved final heatmap to exploration_visualization\\finetune_PointmassVeryHard-UMulti-v0_iql0.99_temp10.0.png\n",
      "Saved final heatmap to exploration_visualization\\finetune_totalsteps_PointmassVeryHard-UMulti-v0_iql0.99_temp10.0.png\n",
      "\n",
      "****************************************************************************************************\n",
      ">>>>>>>>>>>>>>>>>>>>>>>>>>>>>>>>>>>>>>>>>>>>>>>>>>>>>>>>>>>>>>>>>>>>>>>>>>>>>>>>>>>>>>>>>>>>>>>>>>>>\n",
      "Namespace(config_file='experiments/finetuning/pointmass_veryhard3_dqn_finetune.yaml', eval_interval=10000, visualize_interval=1000, num_eval_trajectories=10, seed=1, no_gpu=False, which_gpu=0, log_interval=1, use_reward=False, dataset_dir='datasets', env_name='PointmassVeryHard-Tunnel-v0', dataset_name='pointmass_veryhard-Tunnel_rnd')\n",
      "dqn_config{'exp_name': 'pointmass_veryhard_dqn', 'total_steps': 1000000, 'discount': 0.95, 'target_update_period': 300, 'clip_grad_norm': None, 'use_double_q': True, 'batch_size': 128, 'kwargs': {'offline_steps': 100000, 'dataset_name': 'pointmass_veryhard-Tunnel_rnd'}, 'exploration_schedule': <cs285.env_configs.schedule.ConstantSchedule object at 0x0000024174F699D0>, 'log_string': 'PointmassVeryHard-Tunnel-v0_dqn', 'env_name': 'PointmassVeryHard-Tunnel-v0', 'hidden_size': 256, 'learning_rate': 0.001, 'num_layers': 3}\n",
      "########################\n",
      "logging outputs to  C:\\Users\\user\\Colab\\Berkeley_DeepRL_Fall2023\\hw5\\cs285\\scripts\\../../data\\hw5_finetune_PointmassVeryHard-Tunnel-v0_dqn\n",
      "########################\n",
      "Using CPU.\n",
      "dataset size: 20000\n",
      "buffer size: 1000000\n"
     ]
    },
    {
     "name": "stderr",
     "output_type": "stream",
     "text": [
      "100%|█████████████████████████████████████████████████████████████████████| 1000000/1000000 [1:21:04<00:00, 205.56it/s]\n"
     ]
    },
    {
     "name": "stdout",
     "output_type": "stream",
     "text": [
      "Average eval return: -200.0\n",
      "Saved final heatmap to exploration_visualization\\finetune_PointmassVeryHard-Tunnel-v0_dqn.png\n",
      "Saved final heatmap to exploration_visualization\\finetune_totalsteps_PointmassVeryHard-Tunnel-v0_dqn.png\n",
      "\n",
      "****************************************************************************************************\n",
      "Namespace(config_file='experiments/finetuning/pointmass_veryhard3_iql_finetune.yaml', eval_interval=10000, visualize_interval=1000, num_eval_trajectories=10, seed=1, no_gpu=False, which_gpu=0, log_interval=1, use_reward=False, dataset_dir='datasets', env_name='PointmassVeryHard-Tunnel-v0', dataset_name='pointmass_veryhard-Tunnel_rnd')\n",
      "dqn_config{'exp_name': 'pointmass_veryhard_iql', 'total_steps': 1000000, 'discount': 0.95, 'target_update_period': 300, 'clip_grad_norm': None, 'use_double_q': True, 'batch_size': 128, 'kwargs': {'offline_steps': 100000, 'dataset_name': 'pointmass_veryhard-Tunnel_rnd'}, 'exploration_schedule': <cs285.env_configs.schedule.ConstantSchedule object at 0x0000024169226610>, 'log_string': 'PointmassVeryHard-Tunnel-v0_dqn', 'env_name': 'PointmassVeryHard-Tunnel-v0', 'hidden_size': 256, 'learning_rate': 0.0003, 'num_layers': 3}\n",
      "awac_config{'total_steps': 1000000, 'discount': 0.95, 'temperature': 10.0, 'hidden_size': 256, 'num_layers': 3, 'learning_rate': 0.0003, 'env_name': 'PointmassVeryHard-Tunnel-v0', 'exp_name': 'pointmass_veryhard_iql', 'use_double_q': True, 'offline_steps': 100000, 'dataset_name': 'pointmass_veryhard-Tunnel_rnd', 'target_update_period': 300, 'clip_grad_norm': None, 'exploration_schedule': <cs285.env_configs.schedule.ConstantSchedule object at 0x0000024169226610>, 'log_name': 'PointmassVeryHard-Tunnel-v0_awac10.0', 'batch_size': 128, 'agent': 'awac', 'actor_hidden_size': 128, 'actor_learning_rate': 0.0003, 'actor_num_layers': 2}\n",
      "iql_config{'total_steps': 1000000, 'discount': 0.95, 'temperature': 10.0, 'expectile': 0.99, 'env_name': 'PointmassVeryHard-Tunnel-v0', 'exp_name': 'pointmass_veryhard_iql', 'use_double_q': True, 'offline_steps': 100000, 'dataset_name': 'pointmass_veryhard-Tunnel_rnd', 'target_update_period': 300, 'clip_grad_norm': None, 'exploration_schedule': <cs285.env_configs.schedule.ConstantSchedule object at 0x0000024169226610>, 'log_name': 'PointmassVeryHard-Tunnel-v0_iql0.99_temp10.0', 'batch_size': 128, 'agent': 'iql', 'hidden_size': 256, 'learning_rate': 0.0003, 'num_layers': 3}\n",
      "########################\n",
      "logging outputs to  C:\\Users\\user\\Colab\\Berkeley_DeepRL_Fall2023\\hw5\\cs285\\scripts\\../../data\\hw5_finetune_PointmassVeryHard-Tunnel-v0_iql0.99_temp10.0\n",
      "########################\n",
      "Using CPU.\n",
      "dataset size: 20000\n",
      "buffer size: 1000000\n"
     ]
    },
    {
     "name": "stderr",
     "output_type": "stream",
     "text": [
      "100%|██████████████████████████████████████████████████████████████████████| 1000000/1000000 [3:08:12<00:00, 88.56it/s]\n"
     ]
    },
    {
     "name": "stdout",
     "output_type": "stream",
     "text": [
      "Average eval return: -49.599998474121094\n",
      "Saved final heatmap to exploration_visualization\\finetune_PointmassVeryHard-Tunnel-v0_iql0.99_temp10.0.png\n",
      "Saved final heatmap to exploration_visualization\\finetune_totalsteps_PointmassVeryHard-Tunnel-v0_iql0.99_temp10.0.png\n",
      "\n",
      "****************************************************************************************************\n",
      ">>>>>>>>>>>>>>>>>>>>>>>>>>>>>>>>>>>>>>>>>>>>>>>>>>>>>>>>>>>>>>>>>>>>>>>>>>>>>>>>>>>>>>>>>>>>>>>>>>>>\n"
     ]
    }
   ],
   "source": [
    "# online finetuning, mazes3\n",
    "for maze in mazes3:\n",
    "    env_name = f'PointmassVeryHard-{maze}-v0'\n",
    "    dataset_name = f'pointmass_veryhard-{maze}_rnd'\n",
    "    for algo in algos:\n",
    "        %run ./cs285/scripts/run_hw5_finetune.py \\\n",
    "            -cfg experiments/finetuning/pointmass_veryhard3_\"$algo\"_finetune.yaml \\\n",
    "            --dataset_dir datasets \\\n",
    "            --env_name $env_name --dataset_name $dataset_name\n",
    "        print('\\n', '*' * 100, sep='')\n",
    "    print('>' * 100)"
   ]
  },
  {
   "cell_type": "code",
   "execution_count": null,
   "id": "d2283ba9-c7f0-4b7d-81b1-4922782a2763",
   "metadata": {},
   "outputs": [],
   "source": []
  },
  {
   "cell_type": "code",
   "execution_count": null,
   "id": "f4ada7af-75a4-49b3-87af-be1ba5af4fd4",
   "metadata": {},
   "outputs": [],
   "source": [
    "%load_ext tensorboard\n",
    "%tensorboard --logdir data/ --samples_per_plugin images=100"
   ]
  },
  {
   "cell_type": "code",
   "execution_count": null,
   "id": "75580675-19b2-4708-a2a8-55cae19aeccb",
   "metadata": {},
   "outputs": [],
   "source": []
  }
 ],
 "metadata": {
  "kernelspec": {
   "display_name": "Python 3 (ipykernel)",
   "language": "python",
   "name": "python3"
  },
  "language_info": {
   "codemirror_mode": {
    "name": "ipython",
    "version": 3
   },
   "file_extension": ".py",
   "mimetype": "text/x-python",
   "name": "python",
   "nbconvert_exporter": "python",
   "pygments_lexer": "ipython3",
   "version": "3.9.20"
  }
 },
 "nbformat": 4,
 "nbformat_minor": 5
}
